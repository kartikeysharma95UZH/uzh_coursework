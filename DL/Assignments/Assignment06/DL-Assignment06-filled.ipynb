{
  "cells": [
    {
      "cell_type": "markdown",
      "metadata": {
        "id": "fTiW4zMR0VYA"
      },
      "source": [
        "Assignment 6: Convolutional Networks\n",
        "====================================\n",
        "\n",
        "\n",
        "Microsoft Forms Document: https://forms.office.com/r/89d0K2m5yr\n",
        "\n",
        "\n",
        "Before we start, we should assure that we have activated CUDA -- otherwise training might take very long.\n",
        "In Google Colaboratory:\n",
        "\n",
        "1. Check the options Runtime -> Change Runtime Type on top of the page.\n",
        "2. In the popup window, select hardware accelerator GPU.\n",
        "\n",
        "Afterward, the following command should run successfully:"
      ]
    },
    {
      "cell_type": "code",
      "execution_count": 1,
      "metadata": {
        "colab": {
          "base_uri": "https://localhost:8080/"
        },
        "id": "iNkCN5R30VYF",
        "outputId": "d88f975a-910b-4930-f9a1-5f92c3185169"
      },
      "outputs": [
        {
          "name": "stdout",
          "output_type": "stream",
          "text": [
            "Successfully enabled CUDA processing\n"
          ]
        }
      ],
      "source": [
        "import torch\n",
        "if torch.cuda.is_available():\n",
        "  print(\"Successfully enabled CUDA processing\")\n",
        "else:\n",
        "  print(\"CUDA processing not available. Things will be slow :-(\")"
      ]
    },
    {
      "cell_type": "markdown",
      "metadata": {
        "id": "HQyESe0I0VYG"
      },
      "source": [
        "Task 1: Dataset Loading\n",
        "-----------------------\n",
        "\n",
        "Here, we use the MNIST dataset of handwritten digits for categorical classification.\n",
        "\n",
        "Write a function that returns the training and the test set of MNIST, using the given transform."
      ]
    },
    {
      "cell_type": "code",
      "execution_count": 2,
      "metadata": {
        "id": "TLE56wGn0VYH"
      },
      "outputs": [],
      "source": [
        "import torch\n",
        "import torchvision\n",
        "\n",
        "def datasets(transform):\n",
        "  trainset = torchvision.datasets.MNIST(root=\"./data\", train=True, download=True, transform=transform)\n",
        "  testset = torchvision.datasets.MNIST(root=\"./data\", train=False, download=True, transform=transform)\n",
        "\n",
        "  return trainset, testset"
      ]
    },
    {
      "cell_type": "markdown",
      "metadata": {
        "id": "9RgpzrDV0VYH"
      },
      "source": [
        "Test 1: Data Types\n",
        "------------------\n",
        "\n",
        "Create the dataset with `transform=None`. Check that all inputs are of type `PIL.Image.Image`, and all targets are integral."
      ]
    },
    {
      "cell_type": "code",
      "execution_count": 3,
      "metadata": {
        "colab": {
          "base_uri": "https://localhost:8080/",
          "height": 440,
          "referenced_widgets": [
            "b8c3610170b84ce49d157008a18567e5",
            "7bb095aada224ea6a467b790f9068758",
            "710b33de7d7541829417b18a5af88487",
            "e9717538292346bbb0cf6d1efac1abf8",
            "8170bb83d25443259f1ef96ccc30e382",
            "41604c11030b4f5b9d3e0df99f8a3f75",
            "fe1ae9e70cc04fc58db7ff82cc1d40f4",
            "890871083f744ff2a99f38dba37cc72e",
            "b4470c298e9043fd8c861f19c469e5b2",
            "806110773f4243a990eca41870097e02",
            "542c9cbc979343a5bb8b9cb0d0d12f43",
            "a797db7f298f40a5943b1280d07b8e04",
            "d6737e4718734975b05d318aa7615369",
            "0c60e4a168964742a59f5e595317c25a",
            "28ec0676cfdd400fb2c1dc791d874306",
            "32d4426fe497456d9a28f1ec015bb253",
            "f3af0c8975024e43aaa92d72e462f347",
            "1ac3178cd492434596ee880c0638e2c3",
            "260065bd90f84fc9a844ade51b1e5aa0",
            "2aac4817edd14c3391b18314c655f939",
            "b133fa063f4d44f791c302651565380d",
            "1a96371beee646e4bde66c85c8b7e9fa",
            "9a4efa4c1c384e62908758b53d69d19f",
            "6f98ed304a7348a0b730f74fa784ea7e",
            "dcd5736192e04185aced696b8d75d651",
            "db2bc15bd8ca441c8272e78dcd23126a",
            "f04c3334c4bb487985a7bfed27778179",
            "be723bcc390c411b8f7a4d4510bb2c80",
            "374aca5b556345bdb9681dad9f08531c",
            "8a459ebaf31b4d9eb8ac938ea40e5bae",
            "6756ac7f7794454baeeca3118f3ccdac",
            "555a01ec6fbb49fd9ca92fc042611f68",
            "6781a1653ce942d0a2a68321185a61fb",
            "b921dedcc7bc452b9716f8aa802340cb",
            "49a694c8c5944ba3ac0c545874f61925",
            "6a810cb4ccef47cb8ccebf9b680cef0b",
            "f5895286d4a64f269934297c7ecb3902",
            "745dee024d8a420a9cbf1697a90a70b1",
            "0a54c658fa5e458f8ed9f7ccc605252a",
            "75ad8413823042f18aa003939426579b",
            "e96a5be5c1d64d63b388af6054680873",
            "058f3b04505f4020ae0997c66880b7c4",
            "fbcc7e92bc814bccbdeea8b039f6c52c",
            "2f8617ff2db94f4aa331a29e46388555"
          ]
        },
        "id": "bUXwXvIr0VYH",
        "outputId": "52049b87-a250-4908-edc9-955eacc23cfe"
      },
      "outputs": [
        {
          "name": "stdout",
          "output_type": "stream",
          "text": [
            "Downloading http://yann.lecun.com/exdb/mnist/train-images-idx3-ubyte.gz\n",
            "Downloading http://yann.lecun.com/exdb/mnist/train-images-idx3-ubyte.gz to ./data/MNIST/raw/train-images-idx3-ubyte.gz\n"
          ]
        },
        {
          "data": {
            "application/vnd.jupyter.widget-view+json": {
              "model_id": "b8c3610170b84ce49d157008a18567e5",
              "version_major": 2,
              "version_minor": 0
            },
            "text/plain": [
              "  0%|          | 0/9912422 [00:00<?, ?it/s]"
            ]
          },
          "metadata": {},
          "output_type": "display_data"
        },
        {
          "name": "stdout",
          "output_type": "stream",
          "text": [
            "Extracting ./data/MNIST/raw/train-images-idx3-ubyte.gz to ./data/MNIST/raw\n",
            "\n",
            "Downloading http://yann.lecun.com/exdb/mnist/train-labels-idx1-ubyte.gz\n",
            "Downloading http://yann.lecun.com/exdb/mnist/train-labels-idx1-ubyte.gz to ./data/MNIST/raw/train-labels-idx1-ubyte.gz\n"
          ]
        },
        {
          "data": {
            "application/vnd.jupyter.widget-view+json": {
              "model_id": "a797db7f298f40a5943b1280d07b8e04",
              "version_major": 2,
              "version_minor": 0
            },
            "text/plain": [
              "  0%|          | 0/28881 [00:00<?, ?it/s]"
            ]
          },
          "metadata": {},
          "output_type": "display_data"
        },
        {
          "name": "stdout",
          "output_type": "stream",
          "text": [
            "Extracting ./data/MNIST/raw/train-labels-idx1-ubyte.gz to ./data/MNIST/raw\n",
            "\n",
            "Downloading http://yann.lecun.com/exdb/mnist/t10k-images-idx3-ubyte.gz\n",
            "Downloading http://yann.lecun.com/exdb/mnist/t10k-images-idx3-ubyte.gz to ./data/MNIST/raw/t10k-images-idx3-ubyte.gz\n"
          ]
        },
        {
          "data": {
            "application/vnd.jupyter.widget-view+json": {
              "model_id": "9a4efa4c1c384e62908758b53d69d19f",
              "version_major": 2,
              "version_minor": 0
            },
            "text/plain": [
              "  0%|          | 0/1648877 [00:00<?, ?it/s]"
            ]
          },
          "metadata": {},
          "output_type": "display_data"
        },
        {
          "name": "stdout",
          "output_type": "stream",
          "text": [
            "Extracting ./data/MNIST/raw/t10k-images-idx3-ubyte.gz to ./data/MNIST/raw\n",
            "\n",
            "Downloading http://yann.lecun.com/exdb/mnist/t10k-labels-idx1-ubyte.gz\n",
            "Downloading http://yann.lecun.com/exdb/mnist/t10k-labels-idx1-ubyte.gz to ./data/MNIST/raw/t10k-labels-idx1-ubyte.gz\n"
          ]
        },
        {
          "data": {
            "application/vnd.jupyter.widget-view+json": {
              "model_id": "b921dedcc7bc452b9716f8aa802340cb",
              "version_major": 2,
              "version_minor": 0
            },
            "text/plain": [
              "  0%|          | 0/4542 [00:00<?, ?it/s]"
            ]
          },
          "metadata": {},
          "output_type": "display_data"
        },
        {
          "name": "stdout",
          "output_type": "stream",
          "text": [
            "Extracting ./data/MNIST/raw/t10k-labels-idx1-ubyte.gz to ./data/MNIST/raw\n",
            "\n",
            "Data checking is finished successfully\n"
          ]
        }
      ],
      "source": [
        "import PIL\n",
        "trainset, testset = datasets(transform=None)\n",
        "\n",
        "for x,t in trainset:\n",
        "  # check datatype of input x\n",
        "  assert isinstance(x,PIL.Image.Image)\n",
        "  assert x.size == (28,28)\n",
        "  # check datatype of target t\n",
        "  assert isinstance(t,int) and 0<=t<=9\n",
        "print(\"Data checking is finished successfully\")"
      ]
    },
    {
      "cell_type": "markdown",
      "metadata": {
        "id": "mOPZz0xX0VYI"
      },
      "source": [
        "Task 2: Data Loaders\n",
        "--------------------\n",
        "\n",
        "Create the dataset with `transform=torchvision.transforms.ToTensor()`. Create two data loaders, one for the training set and one for the test set. The training batch size should be $B=64$, for the test set, you can choose any batch size of your choice.\n"
      ]
    },
    {
      "cell_type": "code",
      "execution_count": 4,
      "metadata": {
        "id": "dK9QBIQS0VYJ"
      },
      "outputs": [],
      "source": [
        "transform = torchvision.transforms.ToTensor()\n",
        "trainset, testset = datasets(transform)\n",
        "\n",
        "B = 64\n",
        "trainloader = torch.utils.data.DataLoader(trainset, shuffle=True, batch_size=B)\n",
        "testloader = torch.utils.data.DataLoader(testset, shuffle=False, batch_size=B)"
      ]
    },
    {
      "cell_type": "markdown",
      "metadata": {
        "id": "vqILZ1En0VYJ"
      },
      "source": [
        "Test 2: Batches\n",
        "---------------\n",
        "\n",
        "Check that all batches generated by the training set data loader have the batch size of $B$ -- except for the last batch. Check that all inputs and targets are of type `torch.Tensor`. Check that all input values are in range $[0,1]$. Check that all target values are in range $[0,9]$."
      ]
    },
    {
      "cell_type": "code",
      "execution_count": 5,
      "metadata": {
        "id": "wyjtBgPY0VYK"
      },
      "outputs": [],
      "source": [
        "for i, (x, t) in enumerate(trainloader):\n",
        "  # check datatype, size and content of x\n",
        "  assert type(x) == torch.Tensor\n",
        "  assert torch.all(x >= 0) and torch.all(x <= 1)\n",
        "  if (i != len(trainloader) - 1):\n",
        "    assert len(x) == B\n",
        "\n",
        "  # check datatype, size and content of t\n",
        "  assert type(t) == torch.Tensor\n",
        "  assert torch.all(t >= 0) and torch.all(t <= 9)"
      ]
    },
    {
      "cell_type": "markdown",
      "metadata": {
        "id": "dub0MiAb0VYK"
      },
      "source": [
        "Task 3: Fully-Connected Network\n",
        "-------------------------------\n",
        "\n",
        "Implement a function that returns a three-layer fully-connected network in pytorch.\n",
        "Use $\\tanh$ as activation function between the two fully-connected layers, and provide the possibility to change the number of inputs $D$, the number of hidden neurons $K$ and the number of outputs $O$.\n",
        "Use the following layers:\n",
        "\n",
        "1. A `torch.nn.Flatten` layer to turn the $28\\times28$ pixel image (2D) into a $28*28$ pixel vector (1D)\n",
        "2. A fully-connected layer with D input neurons and K outputs.\n",
        "3. A $\\tanh$ activation function.\n",
        "4. A fully-connected layer with K input neurons and K outputs.\n",
        "5. A $\\tanh$ activation function.\n",
        "6. A fully-connected layer with K input neurons and O outputs."
      ]
    },
    {
      "cell_type": "code",
      "execution_count": 6,
      "metadata": {
        "id": "GjCvvmoU0VYK"
      },
      "outputs": [],
      "source": [
        "def fully_connected(D, K, O):\n",
        "  return torch.nn.Sequential(\n",
        "    torch.nn.Flatten(),\n",
        "    torch.nn.Linear(D,K),\n",
        "    torch.nn.Tanh(),\n",
        "    torch.nn.Linear(K,K),\n",
        "    torch.nn.Tanh(),\n",
        "    torch.nn.Linear(K,O),\n",
        "  )"
      ]
    },
    {
      "cell_type": "markdown",
      "metadata": {
        "id": "Udy6c4qS0VYL"
      },
      "source": [
        "Task 4: Convolutions Output (theoretical question)\n",
        "--------------------------------------------------\n",
        "\n",
        "Consider the network as defined in Task 5.\n",
        "Assume that the input is a $28\\times28$ grayscale image.\n",
        "How many hidden neurons do we need in the final fully-connected layer for a given number $Q_2$ of output channels of the second convolution?\n",
        "\n",
        "\\begin{aligned}\n",
        "& \\text{Given input size $28\\times28$} \\\\\n",
        "& \\downarrow \\\\\n",
        "& Q_1 \\times 28 \\times 28 \\text{~ By Op.1. 2D convolutional layer with Q1 channels, kernel size 5 × 5, stride 1 and padding 2 } \\\\\n",
        "& \\downarrow \\\\\n",
        "& Q_1 \\times 14 \\times 14 \\text{~ By Op.2. 2Dmaximumpoolinglayerwithkernelsize2×2and stride 2} \\\\\n",
        "& \\downarrow \\\\\n",
        "& Q_2 \\times 14 \\times 14 \\text{~ By Op.3. tanh and Op.4. 2D convolutional layer with Q2 channels, kernel size\n",
        "5 × 5, stride 1 and padding 2} \\\\\n",
        "& \\downarrow \\\\\n",
        "& Q_2 \\times 7 \\times 7 \\text{~ By Op.5. 2Dmaximumpoolinglayerwithkernelsize2×2and\n",
        "stride 2 and Op.6. tanh} \\\\\n",
        "& \\downarrow \\\\\n",
        "& Q_2 \\cdot 7 \\cdot 7 \\rightarrow \\text{the size of the flattened vector}\n",
        "\\end{aligned}\n",
        "\n",
        "\n",
        "\n",
        "size after first convolution:\\\n",
        "Conv2 = $28\\times28\\times Q_1$\n",
        "\n",
        "\\\n",
        "size after first MaxPool2D:\\\n",
        "MP2 = $(\\frac{28}{kernel size}+2-strides)\\times(\\frac{28}{kernel size}+2-strides)\\times Q_1$\n",
        "\\\n",
        "MP2= $(\\frac{28}{2}+2-2)\\times(\\frac{28}{2}+2-2)\\times Q_1$\n",
        "\\\n",
        "MP2 = $14\\times14\\times Q_1$\n",
        "\n",
        "\\\n",
        "size after second convolution:\\\n",
        "Conv2 = $14\\times14\\times Q_2$\n",
        "\n",
        "\\\n",
        "size after second MaxPool2D:\\\n",
        "MP2 = $(\\frac{14}{kernel size}+2-strides)\\times(\\frac{14}{kernel size}+2-strides)\\times Q_2$\n",
        "\\\n",
        "MP2= $(\\frac{14}{2}+2-2)\\times(\\frac{14}{2}+2-2)\\times Q_2$\n",
        "\\\n",
        "MP2 = $7\\times7\\times Q_2$\n",
        "\n",
        "\n",
        "\\\n",
        "size after flatten:\\\n",
        "flatten1 = 7 * 7 * $Q_2$ = 49 * $Q_2$\n",
        "\n",
        "\\\n",
        "Overall:\n",
        "$(\\frac{28}{2^2})\\times(\\frac{28}{2^2})\\times Q_2$"
      ]
    },
    {
      "cell_type": "markdown",
      "metadata": {
        "id": "b9O7VlEr0VYL"
      },
      "source": [
        "Task 5: Convolutional Network\n",
        "-----------------------------\n",
        "\n",
        "Implement a function that generates a convolutional network wit the following layers:\n",
        "\n",
        "1. 2D convolutional layer with $Q_1$ channels, kernel size $5\\times5$, stride 1 and padding 2.\n",
        "2. 2D maximum pooling with pooling size $2\\times2$ and stride 2\n",
        "3. $\\tanh$ activation\n",
        "4. 2D convolutional layer with $Q_2$ channels, kernel size $5\\times5$, stride 1 and padding 2.\n",
        "5. 2D maximum pooling with pooling size $2\\times2$ and stride 2\n",
        "6. $\\tanh$ activation\n",
        "7. A flattening layer to turn the 3D image into 1D vector\n",
        "8. A fully-connected layer with the appropriate number of inputs and $O$ outputs."
      ]
    },
    {
      "cell_type": "code",
      "execution_count": 7,
      "metadata": {
        "id": "1KnUydS30VYL"
      },
      "outputs": [],
      "source": [
        "def convolutional(Q1, Q2, O):\n",
        "  return torch.nn.Sequential(\n",
        "    torch.nn.Conv2d(in_channels=1, out_channels=Q1, kernel_size = (5,5), stride=1, padding=2),\n",
        "    torch.nn.MaxPool2d(kernel_size=(2,2), stride=2),\n",
        "    torch.nn.Tanh(),\n",
        "    torch.nn.Conv2d(in_channels=Q1, out_channels=Q2, kernel_size = (5,5), stride=1, padding=2),\n",
        "    torch.nn.MaxPool2d(kernel_size=(2,2), stride=2),\n",
        "    torch.nn.Tanh(),\n",
        "    torch.nn.Flatten(),\n",
        "    torch.nn.Linear(Q2*7*7, O)\n",
        "  )\n"
      ]
    },
    {
      "cell_type": "markdown",
      "metadata": {
        "id": "UbxNx2eB0VYM"
      },
      "source": [
        "Task 6: Training and Validation Loop\n",
        "------------------------------------\n",
        "\n",
        "Implement a function that takes the network, the number of epochs and the learning rate.\n",
        "Select the correct loss function for categorical classification, and SGD optimizer.\n",
        "Iterate the following steps for the given number of epochs:\n",
        "\n",
        "1. Train the network with all batches of the training data\n",
        "2. Compute the test set loss and test set accuracy\n",
        "3. Store both in a vector\n",
        "\n",
        "What do we need to take care of?\n",
        "\n",
        "Finally, return the lists of validation losses and accuracies."
      ]
    },
    {
      "cell_type": "code",
      "execution_count": 8,
      "metadata": {
        "id": "IY6MpPIh0VYM"
      },
      "outputs": [],
      "source": [
        "def train(network, epochs=10, eta=0.01):\n",
        "  # select loss function and optimizer\n",
        "  loss = torch.nn.CrossEntropyLoss()\n",
        "  optimizer = torch.optim.SGD(params=network.parameters(), lr=eta)\n",
        "\n",
        "  # instantiate the correct device\n",
        "  device = torch.device(\"cuda\")\n",
        "  network = network.to(device)\n",
        "\n",
        "  # collect loss values and accuracies over the training epochs\n",
        "  val_loss, val_acc = [], []\n",
        "\n",
        "  for epoch in range(epochs):\n",
        "    # train network on training data\n",
        "    for x,t in trainloader:\n",
        "      optimizer.zero_grad()\n",
        "      x = x.to(device)\n",
        "      t = t.to(device)\n",
        "      z = network(x)\n",
        "      J = loss(z, t)\n",
        "      J.backward()\n",
        "      optimizer.step()\n",
        "\n",
        "    # test network on test data\n",
        "    with torch.no_grad():\n",
        "      correct = 0\n",
        "      test_loss = []\n",
        "      for x,t in testloader:\n",
        "        z = network(x.to(device))\n",
        "        J = loss(z, t.to(device))\n",
        "        # compute test accuracy\n",
        "        correct += torch.sum(torch.argmax(z, dim=1) == t.to(device)).item()\n",
        "        test_loss.append(J.item())\n",
        "      acc = correct / len(testset)\n",
        "      val_loss.append(sum(test_loss) / len(test_loss))\n",
        "      val_acc.append(acc)\n",
        "\n",
        "  # return loss and accuracy values\n",
        "  return val_loss, val_acc"
      ]
    },
    {
      "cell_type": "markdown",
      "metadata": {
        "id": "2rt_hsBu0VYM"
      },
      "source": [
        "Task 7: Fully-Connected Training\n",
        "--------------------------------\n",
        "\n",
        "Create a fully-connected network with $K=10$ hidden and $O=10$ output neurons.\n",
        "Train the network for 10 epochs with $\\eta=0.01$ and store the obtained test losses and accuracies.\n",
        "Brave people can also train for 100 epochs (takes up to 30 minutes)."
      ]
    },
    {
      "cell_type": "code",
      "execution_count": 9,
      "metadata": {
        "id": "bEpw2uyh0VYM"
      },
      "outputs": [],
      "source": [
        "fc = fully_connected(28 * 28, 10, 10)\n",
        "fc_loss, fc_acc = train(fc)"
      ]
    },
    {
      "cell_type": "markdown",
      "metadata": {
        "id": "Rlm6Pyu50VYN"
      },
      "source": [
        "Task 8: Convolutional Training\n",
        "------------------------------\n",
        "\n",
        "Create a convolutional network with $Q_1=32$ and $Q_2=64$ convolutional channels and $O=10$ output neurons.\n",
        "Train the network for 10 epochs with $\\eta=0.01$ and store the obtained test losses and accuracies.\n",
        "Brave people can also train for 100 epochs (takes up to 30 minutes)."
      ]
    },
    {
      "cell_type": "code",
      "execution_count": 10,
      "metadata": {
        "id": "xYWtheKS0VYN"
      },
      "outputs": [],
      "source": [
        "cv = convolutional(Q1=32, Q2=64, O=10)\n",
        "cv_loss, cv_acc = train(cv)"
      ]
    },
    {
      "cell_type": "markdown",
      "metadata": {
        "id": "R8hohT2f0VYN"
      },
      "source": [
        "Task 9: Plotting\n",
        "----------------\n",
        "\n",
        "Plot the two lists of loss values in one plot. Plot the two lists of accuracy values into another."
      ]
    },
    {
      "cell_type": "code",
      "execution_count": 11,
      "metadata": {
        "colab": {
          "base_uri": "https://localhost:8080/",
          "height": 258
        },
        "id": "KUnUNH8F0VYN",
        "outputId": "0515236b-fad1-4cfd-81e0-30dff857f873"
      },
      "outputs": [
        {
          "data": {
            "text/plain": [
              "<matplotlib.legend.Legend at 0x7f3a7c8db090>"
            ]
          },
          "execution_count": 11,
          "metadata": {},
          "output_type": "execute_result"
        },
        {
          "data": {
            "image/png": "[encoded data removed]",
            "text/plain": [
              "<Figure size 720x216 with 2 Axes>"
            ]
          },
          "metadata": {
            "needs_background": "light"
          },
          "output_type": "display_data"
        }
      ],
      "source": [
        "from matplotlib import pyplot\n",
        "pyplot.figure(figsize=(10,3))\n",
        "ax = pyplot.subplot(121)\n",
        "# plot loss values of FC and CV network over epochs\n",
        "ax.plot(fc_loss, \"g-\", label=\"Fully Connected Network\")\n",
        "ax.plot(cv_loss, \"b-\", label=\"Convolutional Network\")\n",
        "ax.set_xlabel('epochs')\n",
        "ax.set_ylabel('loss')\n",
        "ax.legend()\n",
        "ax.set_title('Validation Loss')\n",
        "\n",
        "ax = pyplot.subplot(122)\n",
        "# plot accuracy values of FC and CV network over epochs\n",
        "ax.plot(fc_acc, \"g-\", label=\"Fully-connected accuracy\")\n",
        "ax.plot(cv_acc, \"b-\", label=\"Convolutional accuracy\")\n",
        "ax.set_xlabel(\"Epoch\")\n",
        "ax.legend()\n"
      ]
    },
    {
      "cell_type": "markdown",
      "metadata": {
        "id": "nPg5LW0G0VYN"
      },
      "source": [
        "Task 10: Learnable Parameters \n",
        "-----------------------------\n",
        "\n",
        "Estimate roughly how many learnable parameters the two networks have by analytically computing and adding the number of parameters in each layer.\n",
        "Compute the number of parameters in the networks by summing the number of parameters in each layer using pytorch functionality.\n",
        "You can use the `numel()` function from a `torch.Tensor` to provide the number of (learnable) parameters stored in a tensor.\n",
        "\n",
        "Fully connected network:\n",
        "- for the first layer and second layer: there are (28*28+1)*10=7850 parameters;\n",
        "- for the second layer and third layer: there are (10+1)*10=110 parameters;\n",
        "- for the second layer and output layer: there are (10+1)*10=110 parameters.\n",
        "- In total, 7850+110+110=8070\n",
        "\n",
        "For convolutional network:\n",
        "- for the first convolutional layer: there are 5*5*32=800 parameters;\n",
        "- for the second convolutional layer: there are 64*32*5*5=51200 parameters;\n",
        "- for flatten layer and output layer: there are (49*64+1)*10=31370 parameters;\n",
        "In total, 800+51200+31370=83370."
      ]
    },
    {
      "cell_type": "code",
      "execution_count": 12,
      "metadata": {
        "colab": {
          "base_uri": "https://localhost:8080/"
        },
        "id": "m1R_6nHD0VYO",
        "outputId": "6400e679-0f38-43da-e067-cf13f32635e4"
      },
      "outputs": [
        {
          "name": "stdout",
          "output_type": "stream",
          "text": [
            "Fully-connected Network: 8070\n",
            "Convolutional Network: 83466\n"
          ]
        }
      ],
      "source": [
        "def parameter_count(network):\n",
        "  return sum(p.numel() for p in network.parameters())\n",
        "\n",
        "print(\"Fully-connected Network:\", parameter_count(fc))\n",
        "print(\"Convolutional Network:\", parameter_count(cv))"
      ]
    }
  ],
  "metadata": {
    "accelerator": "GPU",
    "colab": {
      "collapsed_sections": [],
      "name": "Assignment06.ipynb",
      "provenance": []
    },
    "interpreter": {
      "hash": "2dd53f8ad749bca69f7250ce75eb4f0def59db5cf79075a9716322ffc58e8a2e"
    },
    "kernelspec": {
      "display_name": "Python 3.8.10 ('DL')",
      "language": "python",
      "name": "python3"
    },
    "language_info": {
      "codemirror_mode": {
        "name": "ipython",
        "version": 3
      },
      "file_extension": ".py",
      "mimetype": "text/x-python",
      "name": "python",
      "nbconvert_exporter": "python",
      "pygments_lexer": "ipython3",
      "version": "3.8.10"
    },
    "orig_nbformat": 4,
    "widgets": {
      "application/vnd.jupyter.widget-state+json": {
        "058f3b04505f4020ae0997c66880b7c4": {
          "model_module": "@jupyter-widgets/controls",
          "model_module_version": "1.5.0",
          "model_name": "ProgressStyleModel",
          "state": {
            "_model_module": "@jupyter-widgets/controls",
            "_model_module_version": "1.5.0",
            "_model_name": "ProgressStyleModel",
            "_view_count": null,
            "_view_module": "@jupyter-widgets/base",
            "_view_module_version": "1.2.0",
            "_view_name": "StyleView",
            "bar_color": null,
            "description_width": ""
          }
        },
        "0a54c658fa5e458f8ed9f7ccc605252a": {
          "model_module": "@jupyter-widgets/base",
          "model_module_version": "1.2.0",
          "model_name": "LayoutModel",
          "state": {
            "_model_module": "@jupyter-widgets/base",
            "_model_module_version": "1.2.0",
            "_model_name": "LayoutModel",
            "_view_count": null,
            "_view_module": "@jupyter-widgets/base",
            "_view_module_version": "1.2.0",
            "_view_name": "LayoutView",
            "align_content": null,
            "align_items": null,
            "align_self": null,
            "border": null,
            "bottom": null,
            "display": null,
            "flex": null,
            "flex_flow": null,
            "grid_area": null,
            "grid_auto_columns": null,
            "grid_auto_flow": null,
            "grid_auto_rows": null,
            "grid_column": null,
            "grid_gap": null,
            "grid_row": null,
            "grid_template_areas": null,
            "grid_template_columns": null,
            "grid_template_rows": null,
            "height": null,
            "justify_content": null,
            "justify_items": null,
            "left": null,
            "margin": null,
            "max_height": null,
            "max_width": null,
            "min_height": null,
            "min_width": null,
            "object_fit": null,
            "object_position": null,
            "order": null,
            "overflow": null,
            "overflow_x": null,
            "overflow_y": null,
            "padding": null,
            "right": null,
            "top": null,
            "visibility": null,
            "width": null
          }
        },
        "0c60e4a168964742a59f5e595317c25a": {
          "model_module": "@jupyter-widgets/controls",
          "model_module_version": "1.5.0",
          "model_name": "FloatProgressModel",
          "state": {
            "_dom_classes": [],
            "_model_module": "@jupyter-widgets/controls",
            "_model_module_version": "1.5.0",
            "_model_name": "FloatProgressModel",
            "_view_count": null,
            "_view_module": "@jupyter-widgets/controls",
            "_view_module_version": "1.5.0",
            "_view_name": "ProgressView",
            "bar_style": "success",
            "description": "",
            "description_tooltip": null,
            "layout": "IPY_MODEL_260065bd90f84fc9a844ade51b1e5aa0",
            "max": 28881,
            "min": 0,
            "orientation": "horizontal",
            "style": "IPY_MODEL_2aac4817edd14c3391b18314c655f939",
            "value": 28881
          }
        },
        "1a96371beee646e4bde66c85c8b7e9fa": {
          "model_module": "@jupyter-widgets/controls",
          "model_module_version": "1.5.0",
          "model_name": "DescriptionStyleModel",
          "state": {
            "_model_module": "@jupyter-widgets/controls",
            "_model_module_version": "1.5.0",
            "_model_name": "DescriptionStyleModel",
            "_view_count": null,
            "_view_module": "@jupyter-widgets/base",
            "_view_module_version": "1.2.0",
            "_view_name": "StyleView",
            "description_width": ""
          }
        },
        "1ac3178cd492434596ee880c0638e2c3": {
          "model_module": "@jupyter-widgets/controls",
          "model_module_version": "1.5.0",
          "model_name": "DescriptionStyleModel",
          "state": {
            "_model_module": "@jupyter-widgets/controls",
            "_model_module_version": "1.5.0",
            "_model_name": "DescriptionStyleModel",
            "_view_count": null,
            "_view_module": "@jupyter-widgets/base",
            "_view_module_version": "1.2.0",
            "_view_name": "StyleView",
            "description_width": ""
          }
        },
        "260065bd90f84fc9a844ade51b1e5aa0": {
          "model_module": "@jupyter-widgets/base",
          "model_module_version": "1.2.0",
          "model_name": "LayoutModel",
          "state": {
            "_model_module": "@jupyter-widgets/base",
            "_model_module_version": "1.2.0",
            "_model_name": "LayoutModel",
            "_view_count": null,
            "_view_module": "@jupyter-widgets/base",
            "_view_module_version": "1.2.0",
            "_view_name": "LayoutView",
            "align_content": null,
            "align_items": null,
            "align_self": null,
            "border": null,
            "bottom": null,
            "display": null,
            "flex": null,
            "flex_flow": null,
            "grid_area": null,
            "grid_auto_columns": null,
            "grid_auto_flow": null,
            "grid_auto_rows": null,
            "grid_column": null,
            "grid_gap": null,
            "grid_row": null,
            "grid_template_areas": null,
            "grid_template_columns": null,
            "grid_template_rows": null,
            "height": null,
            "justify_content": null,
            "justify_items": null,
            "left": null,
            "margin": null,
            "max_height": null,
            "max_width": null,
            "min_height": null,
            "min_width": null,
            "object_fit": null,
            "object_position": null,
            "order": null,
            "overflow": null,
            "overflow_x": null,
            "overflow_y": null,
            "padding": null,
            "right": null,
            "top": null,
            "visibility": null,
            "width": null
          }
        },
        "28ec0676cfdd400fb2c1dc791d874306": {
          "model_module": "@jupyter-widgets/controls",
          "model_module_version": "1.5.0",
          "model_name": "HTMLModel",
          "state": {
            "_dom_classes": [],
            "_model_module": "@jupyter-widgets/controls",
            "_model_module_version": "1.5.0",
            "_model_name": "HTMLModel",
            "_view_count": null,
            "_view_module": "@jupyter-widgets/controls",
            "_view_module_version": "1.5.0",
            "_view_name": "HTMLView",
            "description": "",
            "description_tooltip": null,
            "layout": "IPY_MODEL_b133fa063f4d44f791c302651565380d",
            "placeholder": "​",
            "style": "IPY_MODEL_1a96371beee646e4bde66c85c8b7e9fa",
            "value": " 29696/? [00:00&lt;00:00, 428095.82it/s]"
          }
        },
        "2aac4817edd14c3391b18314c655f939": {
          "model_module": "@jupyter-widgets/controls",
          "model_module_version": "1.5.0",
          "model_name": "ProgressStyleModel",
          "state": {
            "_model_module": "@jupyter-widgets/controls",
            "_model_module_version": "1.5.0",
            "_model_name": "ProgressStyleModel",
            "_view_count": null,
            "_view_module": "@jupyter-widgets/base",
            "_view_module_version": "1.2.0",
            "_view_name": "StyleView",
            "bar_color": null,
            "description_width": ""
          }
        },
        "2f8617ff2db94f4aa331a29e46388555": {
          "model_module": "@jupyter-widgets/controls",
          "model_module_version": "1.5.0",
          "model_name": "DescriptionStyleModel",
          "state": {
            "_model_module": "@jupyter-widgets/controls",
            "_model_module_version": "1.5.0",
            "_model_name": "DescriptionStyleModel",
            "_view_count": null,
            "_view_module": "@jupyter-widgets/base",
            "_view_module_version": "1.2.0",
            "_view_name": "StyleView",
            "description_width": ""
          }
        },
        "32d4426fe497456d9a28f1ec015bb253": {
          "model_module": "@jupyter-widgets/base",
          "model_module_version": "1.2.0",
          "model_name": "LayoutModel",
          "state": {
            "_model_module": "@jupyter-widgets/base",
            "_model_module_version": "1.2.0",
            "_model_name": "LayoutModel",
            "_view_count": null,
            "_view_module": "@jupyter-widgets/base",
            "_view_module_version": "1.2.0",
            "_view_name": "LayoutView",
            "align_content": null,
            "align_items": null,
            "align_self": null,
            "border": null,
            "bottom": null,
            "display": null,
            "flex": null,
            "flex_flow": null,
            "grid_area": null,
            "grid_auto_columns": null,
            "grid_auto_flow": null,
            "grid_auto_rows": null,
            "grid_column": null,
            "grid_gap": null,
            "grid_row": null,
            "grid_template_areas": null,
            "grid_template_columns": null,
            "grid_template_rows": null,
            "height": null,
            "justify_content": null,
            "justify_items": null,
            "left": null,
            "margin": null,
            "max_height": null,
            "max_width": null,
            "min_height": null,
            "min_width": null,
            "object_fit": null,
            "object_position": null,
            "order": null,
            "overflow": null,
            "overflow_x": null,
            "overflow_y": null,
            "padding": null,
            "right": null,
            "top": null,
            "visibility": null,
            "width": null
          }
        },
        "374aca5b556345bdb9681dad9f08531c": {
          "model_module": "@jupyter-widgets/controls",
          "model_module_version": "1.5.0",
          "model_name": "DescriptionStyleModel",
          "state": {
            "_model_module": "@jupyter-widgets/controls",
            "_model_module_version": "1.5.0",
            "_model_name": "DescriptionStyleModel",
            "_view_count": null,
            "_view_module": "@jupyter-widgets/base",
            "_view_module_version": "1.2.0",
            "_view_name": "StyleView",
            "description_width": ""
          }
        },
        "41604c11030b4f5b9d3e0df99f8a3f75": {
          "model_module": "@jupyter-widgets/base",
          "model_module_version": "1.2.0",
          "model_name": "LayoutModel",
          "state": {
            "_model_module": "@jupyter-widgets/base",
            "_model_module_version": "1.2.0",
            "_model_name": "LayoutModel",
            "_view_count": null,
            "_view_module": "@jupyter-widgets/base",
            "_view_module_version": "1.2.0",
            "_view_name": "LayoutView",
            "align_content": null,
            "align_items": null,
            "align_self": null,
            "border": null,
            "bottom": null,
            "display": null,
            "flex": null,
            "flex_flow": null,
            "grid_area": null,
            "grid_auto_columns": null,
            "grid_auto_flow": null,
            "grid_auto_rows": null,
            "grid_column": null,
            "grid_gap": null,
            "grid_row": null,
            "grid_template_areas": null,
            "grid_template_columns": null,
            "grid_template_rows": null,
            "height": null,
            "justify_content": null,
            "justify_items": null,
            "left": null,
            "margin": null,
            "max_height": null,
            "max_width": null,
            "min_height": null,
            "min_width": null,
            "object_fit": null,
            "object_position": null,
            "order": null,
            "overflow": null,
            "overflow_x": null,
            "overflow_y": null,
            "padding": null,
            "right": null,
            "top": null,
            "visibility": null,
            "width": null
          }
        },
        "49a694c8c5944ba3ac0c545874f61925": {
          "model_module": "@jupyter-widgets/controls",
          "model_module_version": "1.5.0",
          "model_name": "HTMLModel",
          "state": {
            "_dom_classes": [],
            "_model_module": "@jupyter-widgets/controls",
            "_model_module_version": "1.5.0",
            "_model_name": "HTMLModel",
            "_view_count": null,
            "_view_module": "@jupyter-widgets/controls",
            "_view_module_version": "1.5.0",
            "_view_name": "HTMLView",
            "description": "",
            "description_tooltip": null,
            "layout": "IPY_MODEL_0a54c658fa5e458f8ed9f7ccc605252a",
            "placeholder": "​",
            "style": "IPY_MODEL_75ad8413823042f18aa003939426579b",
            "value": ""
          }
        },
        "542c9cbc979343a5bb8b9cb0d0d12f43": {
          "model_module": "@jupyter-widgets/controls",
          "model_module_version": "1.5.0",
          "model_name": "DescriptionStyleModel",
          "state": {
            "_model_module": "@jupyter-widgets/controls",
            "_model_module_version": "1.5.0",
            "_model_name": "DescriptionStyleModel",
            "_view_count": null,
            "_view_module": "@jupyter-widgets/base",
            "_view_module_version": "1.2.0",
            "_view_name": "StyleView",
            "description_width": ""
          }
        },
        "555a01ec6fbb49fd9ca92fc042611f68": {
          "model_module": "@jupyter-widgets/base",
          "model_module_version": "1.2.0",
          "model_name": "LayoutModel",
          "state": {
            "_model_module": "@jupyter-widgets/base",
            "_model_module_version": "1.2.0",
            "_model_name": "LayoutModel",
            "_view_count": null,
            "_view_module": "@jupyter-widgets/base",
            "_view_module_version": "1.2.0",
            "_view_name": "LayoutView",
            "align_content": null,
            "align_items": null,
            "align_self": null,
            "border": null,
            "bottom": null,
            "display": null,
            "flex": null,
            "flex_flow": null,
            "grid_area": null,
            "grid_auto_columns": null,
            "grid_auto_flow": null,
            "grid_auto_rows": null,
            "grid_column": null,
            "grid_gap": null,
            "grid_row": null,
            "grid_template_areas": null,
            "grid_template_columns": null,
            "grid_template_rows": null,
            "height": null,
            "justify_content": null,
            "justify_items": null,
            "left": null,
            "margin": null,
            "max_height": null,
            "max_width": null,
            "min_height": null,
            "min_width": null,
            "object_fit": null,
            "object_position": null,
            "order": null,
            "overflow": null,
            "overflow_x": null,
            "overflow_y": null,
            "padding": null,
            "right": null,
            "top": null,
            "visibility": null,
            "width": null
          }
        },
        "6756ac7f7794454baeeca3118f3ccdac": {
          "model_module": "@jupyter-widgets/controls",
          "model_module_version": "1.5.0",
          "model_name": "ProgressStyleModel",
          "state": {
            "_model_module": "@jupyter-widgets/controls",
            "_model_module_version": "1.5.0",
            "_model_name": "ProgressStyleModel",
            "_view_count": null,
            "_view_module": "@jupyter-widgets/base",
            "_view_module_version": "1.2.0",
            "_view_name": "StyleView",
            "bar_color": null,
            "description_width": ""
          }
        },
        "6781a1653ce942d0a2a68321185a61fb": {
          "model_module": "@jupyter-widgets/controls",
          "model_module_version": "1.5.0",
          "model_name": "DescriptionStyleModel",
          "state": {
            "_model_module": "@jupyter-widgets/controls",
            "_model_module_version": "1.5.0",
            "_model_name": "DescriptionStyleModel",
            "_view_count": null,
            "_view_module": "@jupyter-widgets/base",
            "_view_module_version": "1.2.0",
            "_view_name": "StyleView",
            "description_width": ""
          }
        },
        "6a810cb4ccef47cb8ccebf9b680cef0b": {
          "model_module": "@jupyter-widgets/controls",
          "model_module_version": "1.5.0",
          "model_name": "FloatProgressModel",
          "state": {
            "_dom_classes": [],
            "_model_module": "@jupyter-widgets/controls",
            "_model_module_version": "1.5.0",
            "_model_name": "FloatProgressModel",
            "_view_count": null,
            "_view_module": "@jupyter-widgets/controls",
            "_view_module_version": "1.5.0",
            "_view_name": "ProgressView",
            "bar_style": "success",
            "description": "",
            "description_tooltip": null,
            "layout": "IPY_MODEL_e96a5be5c1d64d63b388af6054680873",
            "max": 4542,
            "min": 0,
            "orientation": "horizontal",
            "style": "IPY_MODEL_058f3b04505f4020ae0997c66880b7c4",
            "value": 4542
          }
        },
        "6f98ed304a7348a0b730f74fa784ea7e": {
          "model_module": "@jupyter-widgets/controls",
          "model_module_version": "1.5.0",
          "model_name": "HTMLModel",
          "state": {
            "_dom_classes": [],
            "_model_module": "@jupyter-widgets/controls",
            "_model_module_version": "1.5.0",
            "_model_name": "HTMLModel",
            "_view_count": null,
            "_view_module": "@jupyter-widgets/controls",
            "_view_module_version": "1.5.0",
            "_view_name": "HTMLView",
            "description": "",
            "description_tooltip": null,
            "layout": "IPY_MODEL_be723bcc390c411b8f7a4d4510bb2c80",
            "placeholder": "​",
            "style": "IPY_MODEL_374aca5b556345bdb9681dad9f08531c",
            "value": ""
          }
        },
        "710b33de7d7541829417b18a5af88487": {
          "model_module": "@jupyter-widgets/controls",
          "model_module_version": "1.5.0",
          "model_name": "FloatProgressModel",
          "state": {
            "_dom_classes": [],
            "_model_module": "@jupyter-widgets/controls",
            "_model_module_version": "1.5.0",
            "_model_name": "FloatProgressModel",
            "_view_count": null,
            "_view_module": "@jupyter-widgets/controls",
            "_view_module_version": "1.5.0",
            "_view_name": "ProgressView",
            "bar_style": "success",
            "description": "",
            "description_tooltip": null,
            "layout": "IPY_MODEL_890871083f744ff2a99f38dba37cc72e",
            "max": 9912422,
            "min": 0,
            "orientation": "horizontal",
            "style": "IPY_MODEL_b4470c298e9043fd8c861f19c469e5b2",
            "value": 9912422
          }
        },
        "745dee024d8a420a9cbf1697a90a70b1": {
          "model_module": "@jupyter-widgets/base",
          "model_module_version": "1.2.0",
          "model_name": "LayoutModel",
          "state": {
            "_model_module": "@jupyter-widgets/base",
            "_model_module_version": "1.2.0",
            "_model_name": "LayoutModel",
            "_view_count": null,
            "_view_module": "@jupyter-widgets/base",
            "_view_module_version": "1.2.0",
            "_view_name": "LayoutView",
            "align_content": null,
            "align_items": null,
            "align_self": null,
            "border": null,
            "bottom": null,
            "display": null,
            "flex": null,
            "flex_flow": null,
            "grid_area": null,
            "grid_auto_columns": null,
            "grid_auto_flow": null,
            "grid_auto_rows": null,
            "grid_column": null,
            "grid_gap": null,
            "grid_row": null,
            "grid_template_areas": null,
            "grid_template_columns": null,
            "grid_template_rows": null,
            "height": null,
            "justify_content": null,
            "justify_items": null,
            "left": null,
            "margin": null,
            "max_height": null,
            "max_width": null,
            "min_height": null,
            "min_width": null,
            "object_fit": null,
            "object_position": null,
            "order": null,
            "overflow": null,
            "overflow_x": null,
            "overflow_y": null,
            "padding": null,
            "right": null,
            "top": null,
            "visibility": null,
            "width": null
          }
        },
        "75ad8413823042f18aa003939426579b": {
          "model_module": "@jupyter-widgets/controls",
          "model_module_version": "1.5.0",
          "model_name": "DescriptionStyleModel",
          "state": {
            "_model_module": "@jupyter-widgets/controls",
            "_model_module_version": "1.5.0",
            "_model_name": "DescriptionStyleModel",
            "_view_count": null,
            "_view_module": "@jupyter-widgets/base",
            "_view_module_version": "1.2.0",
            "_view_name": "StyleView",
            "description_width": ""
          }
        },
        "7bb095aada224ea6a467b790f9068758": {
          "model_module": "@jupyter-widgets/controls",
          "model_module_version": "1.5.0",
          "model_name": "HTMLModel",
          "state": {
            "_dom_classes": [],
            "_model_module": "@jupyter-widgets/controls",
            "_model_module_version": "1.5.0",
            "_model_name": "HTMLModel",
            "_view_count": null,
            "_view_module": "@jupyter-widgets/controls",
            "_view_module_version": "1.5.0",
            "_view_name": "HTMLView",
            "description": "",
            "description_tooltip": null,
            "layout": "IPY_MODEL_41604c11030b4f5b9d3e0df99f8a3f75",
            "placeholder": "​",
            "style": "IPY_MODEL_fe1ae9e70cc04fc58db7ff82cc1d40f4",
            "value": ""
          }
        },
        "806110773f4243a990eca41870097e02": {
          "model_module": "@jupyter-widgets/base",
          "model_module_version": "1.2.0",
          "model_name": "LayoutModel",
          "state": {
            "_model_module": "@jupyter-widgets/base",
            "_model_module_version": "1.2.0",
            "_model_name": "LayoutModel",
            "_view_count": null,
            "_view_module": "@jupyter-widgets/base",
            "_view_module_version": "1.2.0",
            "_view_name": "LayoutView",
            "align_content": null,
            "align_items": null,
            "align_self": null,
            "border": null,
            "bottom": null,
            "display": null,
            "flex": null,
            "flex_flow": null,
            "grid_area": null,
            "grid_auto_columns": null,
            "grid_auto_flow": null,
            "grid_auto_rows": null,
            "grid_column": null,
            "grid_gap": null,
            "grid_row": null,
            "grid_template_areas": null,
            "grid_template_columns": null,
            "grid_template_rows": null,
            "height": null,
            "justify_content": null,
            "justify_items": null,
            "left": null,
            "margin": null,
            "max_height": null,
            "max_width": null,
            "min_height": null,
            "min_width": null,
            "object_fit": null,
            "object_position": null,
            "order": null,
            "overflow": null,
            "overflow_x": null,
            "overflow_y": null,
            "padding": null,
            "right": null,
            "top": null,
            "visibility": null,
            "width": null
          }
        },
        "8170bb83d25443259f1ef96ccc30e382": {
          "model_module": "@jupyter-widgets/base",
          "model_module_version": "1.2.0",
          "model_name": "LayoutModel",
          "state": {
            "_model_module": "@jupyter-widgets/base",
            "_model_module_version": "1.2.0",
            "_model_name": "LayoutModel",
            "_view_count": null,
            "_view_module": "@jupyter-widgets/base",
            "_view_module_version": "1.2.0",
            "_view_name": "LayoutView",
            "align_content": null,
            "align_items": null,
            "align_self": null,
            "border": null,
            "bottom": null,
            "display": null,
            "flex": null,
            "flex_flow": null,
            "grid_area": null,
            "grid_auto_columns": null,
            "grid_auto_flow": null,
            "grid_auto_rows": null,
            "grid_column": null,
            "grid_gap": null,
            "grid_row": null,
            "grid_template_areas": null,
            "grid_template_columns": null,
            "grid_template_rows": null,
            "height": null,
            "justify_content": null,
            "justify_items": null,
            "left": null,
            "margin": null,
            "max_height": null,
            "max_width": null,
            "min_height": null,
            "min_width": null,
            "object_fit": null,
            "object_position": null,
            "order": null,
            "overflow": null,
            "overflow_x": null,
            "overflow_y": null,
            "padding": null,
            "right": null,
            "top": null,
            "visibility": null,
            "width": null
          }
        },
        "890871083f744ff2a99f38dba37cc72e": {
          "model_module": "@jupyter-widgets/base",
          "model_module_version": "1.2.0",
          "model_name": "LayoutModel",
          "state": {
            "_model_module": "@jupyter-widgets/base",
            "_model_module_version": "1.2.0",
            "_model_name": "LayoutModel",
            "_view_count": null,
            "_view_module": "@jupyter-widgets/base",
            "_view_module_version": "1.2.0",
            "_view_name": "LayoutView",
            "align_content": null,
            "align_items": null,
            "align_self": null,
            "border": null,
            "bottom": null,
            "display": null,
            "flex": null,
            "flex_flow": null,
            "grid_area": null,
            "grid_auto_columns": null,
            "grid_auto_flow": null,
            "grid_auto_rows": null,
            "grid_column": null,
            "grid_gap": null,
            "grid_row": null,
            "grid_template_areas": null,
            "grid_template_columns": null,
            "grid_template_rows": null,
            "height": null,
            "justify_content": null,
            "justify_items": null,
            "left": null,
            "margin": null,
            "max_height": null,
            "max_width": null,
            "min_height": null,
            "min_width": null,
            "object_fit": null,
            "object_position": null,
            "order": null,
            "overflow": null,
            "overflow_x": null,
            "overflow_y": null,
            "padding": null,
            "right": null,
            "top": null,
            "visibility": null,
            "width": null
          }
        },
        "8a459ebaf31b4d9eb8ac938ea40e5bae": {
          "model_module": "@jupyter-widgets/base",
          "model_module_version": "1.2.0",
          "model_name": "LayoutModel",
          "state": {
            "_model_module": "@jupyter-widgets/base",
            "_model_module_version": "1.2.0",
            "_model_name": "LayoutModel",
            "_view_count": null,
            "_view_module": "@jupyter-widgets/base",
            "_view_module_version": "1.2.0",
            "_view_name": "LayoutView",
            "align_content": null,
            "align_items": null,
            "align_self": null,
            "border": null,
            "bottom": null,
            "display": null,
            "flex": null,
            "flex_flow": null,
            "grid_area": null,
            "grid_auto_columns": null,
            "grid_auto_flow": null,
            "grid_auto_rows": null,
            "grid_column": null,
            "grid_gap": null,
            "grid_row": null,
            "grid_template_areas": null,
            "grid_template_columns": null,
            "grid_template_rows": null,
            "height": null,
            "justify_content": null,
            "justify_items": null,
            "left": null,
            "margin": null,
            "max_height": null,
            "max_width": null,
            "min_height": null,
            "min_width": null,
            "object_fit": null,
            "object_position": null,
            "order": null,
            "overflow": null,
            "overflow_x": null,
            "overflow_y": null,
            "padding": null,
            "right": null,
            "top": null,
            "visibility": null,
            "width": null
          }
        },
        "9a4efa4c1c384e62908758b53d69d19f": {
          "model_module": "@jupyter-widgets/controls",
          "model_module_version": "1.5.0",
          "model_name": "HBoxModel",
          "state": {
            "_dom_classes": [],
            "_model_module": "@jupyter-widgets/controls",
            "_model_module_version": "1.5.0",
            "_model_name": "HBoxModel",
            "_view_count": null,
            "_view_module": "@jupyter-widgets/controls",
            "_view_module_version": "1.5.0",
            "_view_name": "HBoxView",
            "box_style": "",
            "children": [
              "IPY_MODEL_6f98ed304a7348a0b730f74fa784ea7e",
              "IPY_MODEL_dcd5736192e04185aced696b8d75d651",
              "IPY_MODEL_db2bc15bd8ca441c8272e78dcd23126a"
            ],
            "layout": "IPY_MODEL_f04c3334c4bb487985a7bfed27778179"
          }
        },
        "a797db7f298f40a5943b1280d07b8e04": {
          "model_module": "@jupyter-widgets/controls",
          "model_module_version": "1.5.0",
          "model_name": "HBoxModel",
          "state": {
            "_dom_classes": [],
            "_model_module": "@jupyter-widgets/controls",
            "_model_module_version": "1.5.0",
            "_model_name": "HBoxModel",
            "_view_count": null,
            "_view_module": "@jupyter-widgets/controls",
            "_view_module_version": "1.5.0",
            "_view_name": "HBoxView",
            "box_style": "",
            "children": [
              "IPY_MODEL_d6737e4718734975b05d318aa7615369",
              "IPY_MODEL_0c60e4a168964742a59f5e595317c25a",
              "IPY_MODEL_28ec0676cfdd400fb2c1dc791d874306"
            ],
            "layout": "IPY_MODEL_32d4426fe497456d9a28f1ec015bb253"
          }
        },
        "b133fa063f4d44f791c302651565380d": {
          "model_module": "@jupyter-widgets/base",
          "model_module_version": "1.2.0",
          "model_name": "LayoutModel",
          "state": {
            "_model_module": "@jupyter-widgets/base",
            "_model_module_version": "1.2.0",
            "_model_name": "LayoutModel",
            "_view_count": null,
            "_view_module": "@jupyter-widgets/base",
            "_view_module_version": "1.2.0",
            "_view_name": "LayoutView",
            "align_content": null,
            "align_items": null,
            "align_self": null,
            "border": null,
            "bottom": null,
            "display": null,
            "flex": null,
            "flex_flow": null,
            "grid_area": null,
            "grid_auto_columns": null,
            "grid_auto_flow": null,
            "grid_auto_rows": null,
            "grid_column": null,
            "grid_gap": null,
            "grid_row": null,
            "grid_template_areas": null,
            "grid_template_columns": null,
            "grid_template_rows": null,
            "height": null,
            "justify_content": null,
            "justify_items": null,
            "left": null,
            "margin": null,
            "max_height": null,
            "max_width": null,
            "min_height": null,
            "min_width": null,
            "object_fit": null,
            "object_position": null,
            "order": null,
            "overflow": null,
            "overflow_x": null,
            "overflow_y": null,
            "padding": null,
            "right": null,
            "top": null,
            "visibility": null,
            "width": null
          }
        },
        "b4470c298e9043fd8c861f19c469e5b2": {
          "model_module": "@jupyter-widgets/controls",
          "model_module_version": "1.5.0",
          "model_name": "ProgressStyleModel",
          "state": {
            "_model_module": "@jupyter-widgets/controls",
            "_model_module_version": "1.5.0",
            "_model_name": "ProgressStyleModel",
            "_view_count": null,
            "_view_module": "@jupyter-widgets/base",
            "_view_module_version": "1.2.0",
            "_view_name": "StyleView",
            "bar_color": null,
            "description_width": ""
          }
        },
        "b8c3610170b84ce49d157008a18567e5": {
          "model_module": "@jupyter-widgets/controls",
          "model_module_version": "1.5.0",
          "model_name": "HBoxModel",
          "state": {
            "_dom_classes": [],
            "_model_module": "@jupyter-widgets/controls",
            "_model_module_version": "1.5.0",
            "_model_name": "HBoxModel",
            "_view_count": null,
            "_view_module": "@jupyter-widgets/controls",
            "_view_module_version": "1.5.0",
            "_view_name": "HBoxView",
            "box_style": "",
            "children": [
              "IPY_MODEL_7bb095aada224ea6a467b790f9068758",
              "IPY_MODEL_710b33de7d7541829417b18a5af88487",
              "IPY_MODEL_e9717538292346bbb0cf6d1efac1abf8"
            ],
            "layout": "IPY_MODEL_8170bb83d25443259f1ef96ccc30e382"
          }
        },
        "b921dedcc7bc452b9716f8aa802340cb": {
          "model_module": "@jupyter-widgets/controls",
          "model_module_version": "1.5.0",
          "model_name": "HBoxModel",
          "state": {
            "_dom_classes": [],
            "_model_module": "@jupyter-widgets/controls",
            "_model_module_version": "1.5.0",
            "_model_name": "HBoxModel",
            "_view_count": null,
            "_view_module": "@jupyter-widgets/controls",
            "_view_module_version": "1.5.0",
            "_view_name": "HBoxView",
            "box_style": "",
            "children": [
              "IPY_MODEL_49a694c8c5944ba3ac0c545874f61925",
              "IPY_MODEL_6a810cb4ccef47cb8ccebf9b680cef0b",
              "IPY_MODEL_f5895286d4a64f269934297c7ecb3902"
            ],
            "layout": "IPY_MODEL_745dee024d8a420a9cbf1697a90a70b1"
          }
        },
        "be723bcc390c411b8f7a4d4510bb2c80": {
          "model_module": "@jupyter-widgets/base",
          "model_module_version": "1.2.0",
          "model_name": "LayoutModel",
          "state": {
            "_model_module": "@jupyter-widgets/base",
            "_model_module_version": "1.2.0",
            "_model_name": "LayoutModel",
            "_view_count": null,
            "_view_module": "@jupyter-widgets/base",
            "_view_module_version": "1.2.0",
            "_view_name": "LayoutView",
            "align_content": null,
            "align_items": null,
            "align_self": null,
            "border": null,
            "bottom": null,
            "display": null,
            "flex": null,
            "flex_flow": null,
            "grid_area": null,
            "grid_auto_columns": null,
            "grid_auto_flow": null,
            "grid_auto_rows": null,
            "grid_column": null,
            "grid_gap": null,
            "grid_row": null,
            "grid_template_areas": null,
            "grid_template_columns": null,
            "grid_template_rows": null,
            "height": null,
            "justify_content": null,
            "justify_items": null,
            "left": null,
            "margin": null,
            "max_height": null,
            "max_width": null,
            "min_height": null,
            "min_width": null,
            "object_fit": null,
            "object_position": null,
            "order": null,
            "overflow": null,
            "overflow_x": null,
            "overflow_y": null,
            "padding": null,
            "right": null,
            "top": null,
            "visibility": null,
            "width": null
          }
        },
        "d6737e4718734975b05d318aa7615369": {
          "model_module": "@jupyter-widgets/controls",
          "model_module_version": "1.5.0",
          "model_name": "HTMLModel",
          "state": {
            "_dom_classes": [],
            "_model_module": "@jupyter-widgets/controls",
            "_model_module_version": "1.5.0",
            "_model_name": "HTMLModel",
            "_view_count": null,
            "_view_module": "@jupyter-widgets/controls",
            "_view_module_version": "1.5.0",
            "_view_name": "HTMLView",
            "description": "",
            "description_tooltip": null,
            "layout": "IPY_MODEL_f3af0c8975024e43aaa92d72e462f347",
            "placeholder": "​",
            "style": "IPY_MODEL_1ac3178cd492434596ee880c0638e2c3",
            "value": ""
          }
        },
        "db2bc15bd8ca441c8272e78dcd23126a": {
          "model_module": "@jupyter-widgets/controls",
          "model_module_version": "1.5.0",
          "model_name": "HTMLModel",
          "state": {
            "_dom_classes": [],
            "_model_module": "@jupyter-widgets/controls",
            "_model_module_version": "1.5.0",
            "_model_name": "HTMLModel",
            "_view_count": null,
            "_view_module": "@jupyter-widgets/controls",
            "_view_module_version": "1.5.0",
            "_view_name": "HTMLView",
            "description": "",
            "description_tooltip": null,
            "layout": "IPY_MODEL_555a01ec6fbb49fd9ca92fc042611f68",
            "placeholder": "​",
            "style": "IPY_MODEL_6781a1653ce942d0a2a68321185a61fb",
            "value": " 1649664/? [00:00&lt;00:00, 4717307.48it/s]"
          }
        },
        "dcd5736192e04185aced696b8d75d651": {
          "model_module": "@jupyter-widgets/controls",
          "model_module_version": "1.5.0",
          "model_name": "FloatProgressModel",
          "state": {
            "_dom_classes": [],
            "_model_module": "@jupyter-widgets/controls",
            "_model_module_version": "1.5.0",
            "_model_name": "FloatProgressModel",
            "_view_count": null,
            "_view_module": "@jupyter-widgets/controls",
            "_view_module_version": "1.5.0",
            "_view_name": "ProgressView",
            "bar_style": "success",
            "description": "",
            "description_tooltip": null,
            "layout": "IPY_MODEL_8a459ebaf31b4d9eb8ac938ea40e5bae",
            "max": 1648877,
            "min": 0,
            "orientation": "horizontal",
            "style": "IPY_MODEL_6756ac7f7794454baeeca3118f3ccdac",
            "value": 1648877
          }
        },
        "e96a5be5c1d64d63b388af6054680873": {
          "model_module": "@jupyter-widgets/base",
          "model_module_version": "1.2.0",
          "model_name": "LayoutModel",
          "state": {
            "_model_module": "@jupyter-widgets/base",
            "_model_module_version": "1.2.0",
            "_model_name": "LayoutModel",
            "_view_count": null,
            "_view_module": "@jupyter-widgets/base",
            "_view_module_version": "1.2.0",
            "_view_name": "LayoutView",
            "align_content": null,
            "align_items": null,
            "align_self": null,
            "border": null,
            "bottom": null,
            "display": null,
            "flex": null,
            "flex_flow": null,
            "grid_area": null,
            "grid_auto_columns": null,
            "grid_auto_flow": null,
            "grid_auto_rows": null,
            "grid_column": null,
            "grid_gap": null,
            "grid_row": null,
            "grid_template_areas": null,
            "grid_template_columns": null,
            "grid_template_rows": null,
            "height": null,
            "justify_content": null,
            "justify_items": null,
            "left": null,
            "margin": null,
            "max_height": null,
            "max_width": null,
            "min_height": null,
            "min_width": null,
            "object_fit": null,
            "object_position": null,
            "order": null,
            "overflow": null,
            "overflow_x": null,
            "overflow_y": null,
            "padding": null,
            "right": null,
            "top": null,
            "visibility": null,
            "width": null
          }
        },
        "e9717538292346bbb0cf6d1efac1abf8": {
          "model_module": "@jupyter-widgets/controls",
          "model_module_version": "1.5.0",
          "model_name": "HTMLModel",
          "state": {
            "_dom_classes": [],
            "_model_module": "@jupyter-widgets/controls",
            "_model_module_version": "1.5.0",
            "_model_name": "HTMLModel",
            "_view_count": null,
            "_view_module": "@jupyter-widgets/controls",
            "_view_module_version": "1.5.0",
            "_view_name": "HTMLView",
            "description": "",
            "description_tooltip": null,
            "layout": "IPY_MODEL_806110773f4243a990eca41870097e02",
            "placeholder": "​",
            "style": "IPY_MODEL_542c9cbc979343a5bb8b9cb0d0d12f43",
            "value": " 9913344/? [00:00&lt;00:00, 19118937.62it/s]"
          }
        },
        "f04c3334c4bb487985a7bfed27778179": {
          "model_module": "@jupyter-widgets/base",
          "model_module_version": "1.2.0",
          "model_name": "LayoutModel",
          "state": {
            "_model_module": "@jupyter-widgets/base",
            "_model_module_version": "1.2.0",
            "_model_name": "LayoutModel",
            "_view_count": null,
            "_view_module": "@jupyter-widgets/base",
            "_view_module_version": "1.2.0",
            "_view_name": "LayoutView",
            "align_content": null,
            "align_items": null,
            "align_self": null,
            "border": null,
            "bottom": null,
            "display": null,
            "flex": null,
            "flex_flow": null,
            "grid_area": null,
            "grid_auto_columns": null,
            "grid_auto_flow": null,
            "grid_auto_rows": null,
            "grid_column": null,
            "grid_gap": null,
            "grid_row": null,
            "grid_template_areas": null,
            "grid_template_columns": null,
            "grid_template_rows": null,
            "height": null,
            "justify_content": null,
            "justify_items": null,
            "left": null,
            "margin": null,
            "max_height": null,
            "max_width": null,
            "min_height": null,
            "min_width": null,
            "object_fit": null,
            "object_position": null,
            "order": null,
            "overflow": null,
            "overflow_x": null,
            "overflow_y": null,
            "padding": null,
            "right": null,
            "top": null,
            "visibility": null,
            "width": null
          }
        },
        "f3af0c8975024e43aaa92d72e462f347": {
          "model_module": "@jupyter-widgets/base",
          "model_module_version": "1.2.0",
          "model_name": "LayoutModel",
          "state": {
            "_model_module": "@jupyter-widgets/base",
            "_model_module_version": "1.2.0",
            "_model_name": "LayoutModel",
            "_view_count": null,
            "_view_module": "@jupyter-widgets/base",
            "_view_module_version": "1.2.0",
            "_view_name": "LayoutView",
            "align_content": null,
            "align_items": null,
            "align_self": null,
            "border": null,
            "bottom": null,
            "display": null,
            "flex": null,
            "flex_flow": null,
            "grid_area": null,
            "grid_auto_columns": null,
            "grid_auto_flow": null,
            "grid_auto_rows": null,
            "grid_column": null,
            "grid_gap": null,
            "grid_row": null,
            "grid_template_areas": null,
            "grid_template_columns": null,
            "grid_template_rows": null,
            "height": null,
            "justify_content": null,
            "justify_items": null,
            "left": null,
            "margin": null,
            "max_height": null,
            "max_width": null,
            "min_height": null,
            "min_width": null,
            "object_fit": null,
            "object_position": null,
            "order": null,
            "overflow": null,
            "overflow_x": null,
            "overflow_y": null,
            "padding": null,
            "right": null,
            "top": null,
            "visibility": null,
            "width": null
          }
        },
        "f5895286d4a64f269934297c7ecb3902": {
          "model_module": "@jupyter-widgets/controls",
          "model_module_version": "1.5.0",
          "model_name": "HTMLModel",
          "state": {
            "_dom_classes": [],
            "_model_module": "@jupyter-widgets/controls",
            "_model_module_version": "1.5.0",
            "_model_name": "HTMLModel",
            "_view_count": null,
            "_view_module": "@jupyter-widgets/controls",
            "_view_module_version": "1.5.0",
            "_view_name": "HTMLView",
            "description": "",
            "description_tooltip": null,
            "layout": "IPY_MODEL_fbcc7e92bc814bccbdeea8b039f6c52c",
            "placeholder": "​",
            "style": "IPY_MODEL_2f8617ff2db94f4aa331a29e46388555",
            "value": " 5120/? [00:00&lt;00:00, 8076.97it/s]"
          }
        },
        "fbcc7e92bc814bccbdeea8b039f6c52c": {
          "model_module": "@jupyter-widgets/base",
          "model_module_version": "1.2.0",
          "model_name": "LayoutModel",
          "state": {
            "_model_module": "@jupyter-widgets/base",
            "_model_module_version": "1.2.0",
            "_model_name": "LayoutModel",
            "_view_count": null,
            "_view_module": "@jupyter-widgets/base",
            "_view_module_version": "1.2.0",
            "_view_name": "LayoutView",
            "align_content": null,
            "align_items": null,
            "align_self": null,
            "border": null,
            "bottom": null,
            "display": null,
            "flex": null,
            "flex_flow": null,
            "grid_area": null,
            "grid_auto_columns": null,
            "grid_auto_flow": null,
            "grid_auto_rows": null,
            "grid_column": null,
            "grid_gap": null,
            "grid_row": null,
            "grid_template_areas": null,
            "grid_template_columns": null,
            "grid_template_rows": null,
            "height": null,
            "justify_content": null,
            "justify_items": null,
            "left": null,
            "margin": null,
            "max_height": null,
            "max_width": null,
            "min_height": null,
            "min_width": null,
            "object_fit": null,
            "object_position": null,
            "order": null,
            "overflow": null,
            "overflow_x": null,
            "overflow_y": null,
            "padding": null,
            "right": null,
            "top": null,
            "visibility": null,
            "width": null
          }
        },
        "fe1ae9e70cc04fc58db7ff82cc1d40f4": {
          "model_module": "@jupyter-widgets/controls",
          "model_module_version": "1.5.0",
          "model_name": "DescriptionStyleModel",
          "state": {
            "_model_module": "@jupyter-widgets/controls",
            "_model_module_version": "1.5.0",
            "_model_name": "DescriptionStyleModel",
            "_view_count": null,
            "_view_module": "@jupyter-widgets/base",
            "_view_module_version": "1.2.0",
            "_view_name": "StyleView",
            "description_width": ""
          }
        }
      }
    }
  },
  "nbformat": 4,
  "nbformat_minor": 0
}
