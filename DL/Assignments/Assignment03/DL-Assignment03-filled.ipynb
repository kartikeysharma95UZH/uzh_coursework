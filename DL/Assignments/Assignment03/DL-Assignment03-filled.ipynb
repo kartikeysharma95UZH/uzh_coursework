{
  "cells": [
    {
      "cell_type": "markdown",
      "metadata": {
        "id": "xaxk44QydvmD"
      },
      "source": [
        "Assignment 3: Universal Function Approximator\n",
        "=============================================\n",
        "\n",
        "\n",
        "Microsoft Forms Document: https://forms.office.com/r/dcZ3NADdya\n",
        "\n",
        "A two-layer network is defined by three steps:\n",
        "\n",
        "1. Compute the first layer, i.e., $\\vec a = \\mathbf W^{(1)} \\vec x$.\n",
        "2. Apply the activation function element-wise: $\\vec h = g(\\vec a)$\n",
        "3. Compute the network output: $y = \\vec w^{(2)}\\,^T\\vec h$.\n",
        "\n",
        "Task 1: Network Implementation\n",
        "------------------------------\n",
        "\n",
        "Implement a function that returns the network output for a given input $\\vec x$ and parameters $\\Theta=(\\mathbf W^{(1)}, \\vec w^{(2)})$. Remember that the input of the function $\\vec x = (1, x)^T$. Also remember to prepend $h_0=1$ in your implementation."
      ]
    },
    {
      "cell_type": "code",
      "execution_count": 12,
      "metadata": {
        "id": "tFWXCjuOdvmG"
      },
      "outputs": [],
      "source": [
        "import numpy as np\n",
        "\n",
        "def network(x, Theta):\n",
        "  W1, w2 = Theta\n",
        "  a = W1.dot(x) \n",
        "  h = 1/(1+np.exp(-a)) \n",
        "  h = np.insert(h, 0, 1, axis=0) \n",
        "  y = w2.dot(h) \n",
        "  return y, h\n",
        " "
      ]
    },
    {
      "cell_type": "markdown",
      "metadata": {
        "id": "jEngwMPYdvmH"
      },
      "source": [
        "Test 1: Zero and One Weights\n",
        "----------------------------\n",
        "\n",
        "We select a specific number of hidden neurons and create the weights accordingly, using all zeros in the first layer and all ones in the second. What is the expected network output of this, for any $\\vec x$?"
      ]
    },
    {
      "cell_type": "code",
      "execution_count": 13,
      "metadata": {
        "colab": {
          "base_uri": "https://localhost:8080/"
        },
        "id": "hAoq2nuwdvmI",
        "outputId": "474a0b52-e19c-420c-d06f-ea158cc981af"
      },
      "outputs": [
        {
          "name": "stdout",
          "output_type": "stream",
          "text": [
            "Results as expected\n"
          ]
        }
      ],
      "source": [
        "K = 10\n",
        "W1_zeros = np.zeros((K,2)) \n",
        "w2_ones = np.ones((K+1),dtype='float') \n",
        "# test network output \n",
        "Theta = (W1_zeros, w2_ones) \n",
        "h_expected = np.append(1,0.5*(np.ones((K,1)))) \n",
        "y_expected = np.array([6]) \n",
        "y_calc, h_calc = network(np.array([1,2]),Theta) \n",
        "assert np.all(np.abs(h_calc - h_expected) < 1e-8) \n",
        "assert np.all(np.abs(y_calc - y_expected) < 1e-8) \n",
        "print(\"Results as expected\")\n"
      ]
    },
    {
      "cell_type": "markdown",
      "metadata": {
        "id": "vWhqSH9-dvmJ"
      },
      "source": [
        "Task 2: Gradient Implementation\n",
        "-------------------------------\n",
        "We need to compute the gradient for a given dataset $X=\\{(\\vec x^{[n]}, t^{[n]})\\}$, which is composed of two parts, one for $\\mathbf W^{(1)}$ and one for $\\vec w^{(2)}$."
      ]
    },
    {
      "cell_type": "code",
      "execution_count": 14,
      "metadata": {
        "id": "oHlb7i5gdvmJ"
      },
      "outputs": [],
      "source": [
        "def gradient(X, Theta):\n",
        "  # split parameters for easier handling \n",
        "  W1, w2 = Theta \n",
        "  # define gradient with respect to both parameters \n",
        "  dW1 = np.zeros(W1.shape) \n",
        "  dw2 = np.zeros(w2.shape) \n",
        "  \n",
        "  # iterate over dataset \n",
        "  for x, t in X: \n",
        "    y, h = network(x, Theta) \n",
        "    diff = (y-t) \n",
        "    # we do not consider the values corresponding to the bias \n",
        "    delta1 = np.multiply(w2[1:],h[1:]) \n",
        "    delta2 = np.multiply(delta1,1-h[1:]) \n",
        "\n",
        "    # compute the gradient \n",
        "    dW1 += np.outer(diff*delta2, x) \n",
        "    dw2 += diff*h \n",
        "    \n",
        "  dW1 *= 2/X.shape[0] \n",
        "  dw2 *= 2/X.shape[0] \n",
        "  return dW1, dw2\n",
        "  \n"
      ]
    },
    {
      "cell_type": "markdown",
      "metadata": {
        "id": "AFLMLbJgdvmK"
      },
      "source": [
        "Task 3: Gradient Descent\n",
        "------------------------\n",
        "\n",
        "Gradient descent is implemented as the repeated application of two steps:\n",
        "\n",
        "1. Compute the gradient of loss via the gradient function implemented in Task 2.\n",
        "2. Update the parameters according to a given learning rate $\\eta$.\n",
        "\n",
        "Implement a function that performs gradient descent for a given dataset, given initial parameters and a given learning rate $\\eta$."
      ]
    },
    {
      "cell_type": "code",
      "execution_count": 15,
      "metadata": {
        "id": "guf_gQhrdvmL"
      },
      "outputs": [],
      "source": [
        "def gradient_descent(X, Theta, eta):\n",
        "  epochs = 10000\n",
        "  W1, w2 = Theta\n",
        "  # perform iterative gradient descent\n",
        "  for epoch in range(epochs):\n",
        "    # compute the gradient \n",
        "    dTheta = gradient(X, Theta) \n",
        "    # update the parameters \n",
        "    W1 -= eta * dTheta[0] \n",
        "    w2 -= eta * dTheta[1] \n",
        "    \n",
        "  # return optimized parameters \n",
        "  return Theta"
      ]
    },
    {
      "cell_type": "markdown",
      "metadata": {
        "id": "DwvoO_AGdvmL"
      },
      "source": [
        "Task 4: Datasets\n",
        "----------------\n",
        "\n",
        "Create datasets $X_1$, $X_2$ and $X_3$ according to the functions and ranges defined in the assignment. Remember that $\\vec x = (1,x)^T$, and the structure of the dataset is a list of tuples: $\\{(\\vec x^{[n]}, t^{[n]})\\}$."
      ]
    },
    {
      "cell_type": "code",
      "execution_count": 16,
      "metadata": {
        "id": "OqbMPZMbdvmM"
      },
      "outputs": [],
      "source": [
        "X1 = np.array([((np.array((1, x)),np.cos(3*x))) for x in np.random.uniform(-2,2,50)], dtype=object) \n",
        "X2 = np.array([((np.array((1, x)),np.exp(-(x**2)))) for x in np.random.uniform(-2,2,30)], dtype=object) \n",
        "X3 = np.array([(np.array((1, x)),x**5 + 3*x**4 - 11*x**3 - 27*x**2 + 10*x + 64) for x in np.random.uniform(-4.5,3.5,200)], dtype=object)\n"
      ]
    },
    {
      "cell_type": "markdown",
      "metadata": {
        "id": "hoXDyZGjdvmM"
      },
      "source": [
        "Task 5: Define Number of Hidden Neurons\n",
        "---------------------------------------\n",
        "\n",
        "How many hidden neurons will we need to approximate the three different functions?"
      ]
    },
    {
      "cell_type": "code",
      "execution_count": 17,
      "metadata": {
        "id": "SwQ3R5mfdvmN"
      },
      "outputs": [],
      "source": [
        "K1 = 6 \n",
        "K2 = 25 \n",
        "K3 = 100"
      ]
    },
    {
      "cell_type": "markdown",
      "metadata": {
        "id": "a2woBikGdvmN"
      },
      "source": [
        "Task 6: Random Parameters\n",
        "-------------------------\n",
        "Initialize three different sets of parameters for the given number of samples taken from Task 5."
      ]
    },
    {
      "cell_type": "code",
      "execution_count": 18,
      "metadata": {
        "id": "NA_Wg4HDdvmN"
      },
      "outputs": [],
      "source": [
        "Theta1 = [np.random.uniform(-1, 1, size=(K1, 2)), np.random.uniform(-1, 1, size=(K1+1))]\n",
        "Theta2 = [np.random.uniform(-1, 1, size=(K2, 2)), np.random.uniform(-1, 1, size=(K2+1))]\n",
        "Theta3 = [np.random.uniform(-1, 1, size=(K3, 2)), np.random.uniform(-1, 1, size=(K3+1))]"
      ]
    },
    {
      "cell_type": "markdown",
      "metadata": {
        "id": "T5Lbl1ScdvmO"
      },
      "source": [
        "Task 7: Gradient Descent\n",
        "------------------------\n",
        "\n",
        "Call gradient descent for each dataset with their according parameters.\n",
        "\n",
        "WARNING! Depending on the implementation, this might run for several minutes!"
      ]
    },
    {
      "cell_type": "code",
      "execution_count": 19,
      "metadata": {
        "id": "MXDYtEuUdvmO"
      },
      "outputs": [],
      "source": [
        "theta1=gradient_descent(X1,Theta1,0.1) \n",
        "theta2=gradient_descent(X2,Theta2,0.1) \n",
        "theta3=gradient_descent(X3,Theta3,0.01)"
      ]
    },
    {
      "cell_type": "markdown",
      "metadata": {
        "id": "xZTJCBthdvmO"
      },
      "source": [
        "Task 8: Plotting Function\n",
        "-------------------------\n",
        "\n",
        "Implement a function that plots the output of the network as a line, as well as the training data."
      ]
    },
    {
      "cell_type": "code",
      "execution_count": 20,
      "metadata": {
        "id": "DBYb5wpzdvmO"
      },
      "outputs": [],
      "source": [
        "from matplotlib import pyplot\n",
        "def plot(X, Theta, R):\n",
        "  # first, plot data samples\n",
        "  x0=[xi[0][1] for xi in X] \n",
        "  y0=[xi[1] for xi in X] \n",
        "  pyplot.plot(x0, y0, \"rx\", label=\"Data\")\n",
        "\n",
        "  # define equidistant points from R[0] to R[1] to evaluate the network\n",
        "  x = np.linspace(R[0], R[1], num=100)\n",
        "  # compute the network outputs for these values\n",
        "  y = [] \n",
        "  for index, value in enumerate(x): \n",
        "    y_t, h_t = network([1,value], Theta) \n",
        "    y.append(y_t)\n",
        "  # plot network approximation\n",
        "  pyplot.plot(x,y,\"k-\", label=\"network\")\n",
        "  pyplot.legend()"
      ]
    },
    {
      "cell_type": "markdown",
      "metadata": {
        "id": "Zr8wXdaJdvmP"
      },
      "source": [
        "Task 9: Plot Three Functions with their Data\n",
        "--------------------------------------------\n",
        "\n",
        "Call the function from Task 8 with three different datasets and their optimized parameters."
      ]
    },
    {
      "cell_type": "code",
      "execution_count": 21,
      "metadata": {
        "id": "WCdGMmotdvmP"
      },
      "outputs": [
        {
          "data": {
            "image/png": "[encoded data removed]",
            "text/plain": [
              "<Figure size 720x216 with 3 Axes>"
            ]
          },
          "metadata": {
            "needs_background": "light"
          },
          "output_type": "display_data"
        }
      ],
      "source": [
        "\n",
        "figure = pyplot.figure(figsize=(10,3))\n",
        "\n",
        "# plot first function\n",
        "pyplot.subplot(131)\n",
        "plot(X1, Theta1, [-3, 3]) \n",
        "\n",
        "# plot second function\n",
        "pyplot.subplot(132)\n",
        "plot(X2, Theta2, [-3, 3]) \n",
        "\n",
        "# plot third function\n",
        "pyplot.subplot(133)\n",
        "plot(X3, Theta3, [-5.5, 4.5])"
      ]
    }
  ],
  "metadata": {
    "colab": {
      "collapsed_sections": [],
      "name": "Assignment03.ipynb",
      "provenance": []
    },
    "interpreter": {
      "hash": "2dd53f8ad749bca69f7250ce75eb4f0def59db5cf79075a9716322ffc58e8a2e"
    },
    "kernelspec": {
      "display_name": "Python 3.8.10 ('DL')",
      "language": "python",
      "name": "python3"
    },
    "language_info": {
      "codemirror_mode": {
        "name": "ipython",
        "version": 3
      },
      "file_extension": ".py",
      "mimetype": "text/x-python",
      "name": "python",
      "nbconvert_exporter": "python",
      "pygments_lexer": "ipython3",
      "version": "3.8.10"
    },
    "orig_nbformat": 4
  },
  "nbformat": 4,
  "nbformat_minor": 0
}
