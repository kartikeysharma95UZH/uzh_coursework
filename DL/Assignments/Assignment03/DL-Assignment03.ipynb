{
 "cells": [
  {
   "cell_type": "markdown",
   "metadata": {},
   "source": [
    "Assignment 3: Universal Function Approximator\n",
    "=============================================\n",
    "\n",
    "\n",
    "Microsoft Forms Document: https://forms.office.com/r/dcZ3NADdya\n",
    "\n",
    "A two-layer network is defined by three steps:\n",
    "\n",
    "1. Compute the first layer, i.e., $\\vec a = \\mathbf W^{(1)} \\vec x$.\n",
    "2. Apply the activation function element-wise: $\\vec h = g(\\vec a)$\n",
    "3. Compute the network output: $y = \\vec w^{(2)}\\,^T\\vec h$.\n",
    "\n",
    "Task 1: Network Implementation\n",
    "------------------------------\n",
    "\n",
    "Implement a function that returns the network output for a given input $\\vec x$ and parameters $\\Theta=(\\mathbf W^{(1)}, \\vec w^{(2)})$. Remember that the input of the function $\\vec x = (1, x)^T$. Also remember to prepend $h_0=1$ in your implementation."
   ]
  },
  {
   "cell_type": "code",
   "execution_count": 1,
   "metadata": {},
   "outputs": [],
   "source": [
    "import numpy\n",
    "import math\n",
    "\n",
    "def network(x, Theta):\n",
    "  W1, w2 = Theta\n",
    "  a = ...\n",
    "  h = ...\n",
    "  y = ...\n",
    "  return y, h"
   ]
  },
  {
   "cell_type": "markdown",
   "metadata": {},
   "source": [
    "Test 1: Zero and One Weights\n",
    "----------------------------\n",
    "\n",
    "We select a specific number of hidden neurons and create the weights accordingly, using all zeros in the first layer and all ones in the second. What is the expected network output of this, for any $\\vec x$?"
   ]
  },
  {
   "cell_type": "code",
   "execution_count": 2,
   "metadata": {},
   "outputs": [
    {
     "data": {
      "text/plain": [
       "Ellipsis"
      ]
     },
     "execution_count": 2,
     "metadata": {},
     "output_type": "execute_result"
    }
   ],
   "source": [
    "K = 10\n",
    "W1_zeros = ...\n",
    "w2_ones = ...\n",
    "\n",
    "# test network output\n",
    "..."
   ]
  },
  {
   "cell_type": "markdown",
   "metadata": {},
   "source": [
    "Task 2: Gradient Implementation\n",
    "-------------------------------\n",
    "We need to compute the gradient for a given dataset $X=\\{(\\vec x^{[n]}, t^{[n]})\\}$, which is composed of two parts, one for $\\mathbf W^{(1)}$ and one for $\\vec w^{(2)}$."
   ]
  },
  {
   "cell_type": "code",
   "execution_count": 3,
   "metadata": {},
   "outputs": [],
   "source": [
    "def gradient(X, Theta):\n",
    "  # split parameters for easier handling\n",
    "  W1, w2 = Theta\n",
    "  \n",
    "  # define gradient with respect to both parameters\n",
    "  dW1 = ...\n",
    "  dw2 = ...\n",
    "\n",
    "  # iterate over dataset\n",
    "  for x, t in X:\n",
    "    # compute the gradient\n",
    "    ...\n",
    "\n",
    "  # anything else?\n",
    "  ...\n",
    "  \n",
    "  return dW1, dw2"
   ]
  },
  {
   "cell_type": "markdown",
   "metadata": {},
   "source": [
    "Task 3: Gradient Descent\n",
    "------------------------\n",
    "\n",
    "Gradient descent is implemented as the repeated application of two steps:\n",
    "\n",
    "1. Compute the gradient of loss via the gradient function implemented in Task 2.\n",
    "2. Update the parameters according to a given learning rate $\\eta$.\n",
    "\n",
    "Implement a function that performs gradient descent for a given dataset, given initial parameters and a given learning rate $\\eta$."
   ]
  },
  {
   "cell_type": "code",
   "execution_count": 4,
   "metadata": {},
   "outputs": [],
   "source": [
    "def gradient_descent(X, Theta, eta):\n",
    "  epochs = 10000\n",
    "  # perform iterative gradient descent\n",
    "  for epoch in range(epochs):\n",
    "    # compute the gradient\n",
    "    ...\n",
    "\n",
    "    # update the parameters\n",
    "    ...\n",
    "\n",
    "  # return optimized parameters\n",
    "  return ..."
   ]
  },
  {
   "cell_type": "markdown",
   "metadata": {},
   "source": [
    "Task 4: Datasets\n",
    "----------------\n",
    "\n",
    "Create datasets $X_1$, $X_2$ and $X_3$ according to the functions and ranges defined in the assignment. Remember that $\\vec x = (1,x)^T$, and the structure of the dataset is a list of tuples: $\\{(\\vec x^{[n]}, t^{[n]})\\}$."
   ]
  },
  {
   "cell_type": "code",
   "execution_count": 5,
   "metadata": {},
   "outputs": [],
   "source": [
    "X1 = ...\n",
    "X2 = ...\n",
    "X3 = ..."
   ]
  },
  {
   "cell_type": "markdown",
   "metadata": {},
   "source": [
    "Task 5: Define Number of Hidden Neurons\n",
    "---------------------------------------\n",
    "\n",
    "How many hidden neurons will we need to approximate the three different functions?"
   ]
  },
  {
   "cell_type": "code",
   "execution_count": 6,
   "metadata": {},
   "outputs": [],
   "source": [
    "K1 = ...\n",
    "K2 = ...\n",
    "K3 = ..."
   ]
  },
  {
   "cell_type": "markdown",
   "metadata": {},
   "source": [
    "Task 6: Random Parameters\n",
    "-------------------------\n",
    "Initialize three different sets of parameters for the given number of samples taken from Task 5."
   ]
  },
  {
   "cell_type": "code",
   "execution_count": 7,
   "metadata": {},
   "outputs": [],
   "source": [
    "Theta1 = ...\n",
    "Theta2 = ...\n",
    "Theta3 = ..."
   ]
  },
  {
   "cell_type": "markdown",
   "metadata": {},
   "source": [
    "Task 7: Gradient Descent\n",
    "------------------------\n",
    "\n",
    "Call gradient descent for each dataset with their according parameters.\n",
    "\n",
    "WARNING! Depending on the implementation, this might run for several minutes!"
   ]
  },
  {
   "cell_type": "code",
   "execution_count": 8,
   "metadata": {},
   "outputs": [],
   "source": [
    "..."
   ]
  },
  {
   "cell_type": "markdown",
   "metadata": {},
   "source": [
    "Task 8: Plotting Function\n",
    "-------------------------\n",
    "\n",
    "Implement a function that plots the output of the network as a line, as well as the training data."
   ]
  },
  {
   "cell_type": "code",
   "execution_count": 9,
   "metadata": {},
   "outputs": [],
   "source": [
    "from matplotlib import pyplot\n",
    "def plot(X, Theta, R):\n",
    "  # first, plot data samples\n",
    "  pyplot.plot(..., ..., \"rx\", label=\"Data\")\n",
    "\n",
    "  # define equidistant points from R[0] to R[1] to evaluate the network\n",
    "  x = ...\n",
    "  # compute the network outputs for these values\n",
    "  y = ...\n",
    "  # plot network approximation\n",
    "  pyplot.plot(x,y,\"k-\", label=\"network\")\n",
    "  pyplot.legend()"
   ]
  },
  {
   "cell_type": "markdown",
   "metadata": {},
   "source": [
    "Task 9: Plot Three Functions with their Data\n",
    "--------------------------------------------\n",
    "\n",
    "Call the function from Task 8 with three different datasets and their optimized parameters."
   ]
  },
  {
   "cell_type": "code",
   "execution_count": 10,
   "metadata": {},
   "outputs": [
    {
     "data": {
      "text/plain": [
       "Ellipsis"
      ]
     },
     "execution_count": 10,
     "metadata": {},
     "output_type": "execute_result"
    },
    {
     "data": {
      "image/png": "[encoded data removed]",
      "text/plain": [
       "<Figure size 720x216 with 3 Axes>"
      ]
     },
     "metadata": {
      "needs_background": "light"
     },
     "output_type": "display_data"
    }
   ],
   "source": [
    "\n",
    "figure = pyplot.figure(figsize=(10,3))\n",
    "\n",
    "# plot first function\n",
    "pyplot.subplot(131)\n",
    "...\n",
    "\n",
    "# plot second function\n",
    "pyplot.subplot(132)\n",
    "...\n",
    "\n",
    "# plot third function\n",
    "pyplot.subplot(133)\n",
    "..."
   ]
  }
 ],
 "metadata": {
  "interpreter": {
   "hash": "2dd53f8ad749bca69f7250ce75eb4f0def59db5cf79075a9716322ffc58e8a2e"
  },
  "kernelspec": {
   "display_name": "Python 3.8.10 ('DL')",
   "language": "python",
   "name": "python3"
  },
  "language_info": {
   "codemirror_mode": {
    "name": "ipython",
    "version": 3
   },
   "file_extension": ".py",
   "mimetype": "text/x-python",
   "name": "python",
   "nbconvert_exporter": "python",
   "pygments_lexer": "ipython3",
   "version": "3.8.10"
  },
  "orig_nbformat": 4
 },
 "nbformat": 4,
 "nbformat_minor": 2
}
