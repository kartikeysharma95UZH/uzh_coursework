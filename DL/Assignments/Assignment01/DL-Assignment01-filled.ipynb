{
  "cells": [
    {
      "cell_type": "markdown",
      "metadata": {
        "id": "bHdELVgH832u"
      },
      "source": [
        "Assignment 1: Perceptron Learning\n",
        "=================================\n",
        "\n",
        "\n",
        "Microsoft Forms Document: https://forms.office.com/r/6pxGSqCxzM\n",
        "\n",
        "\n",
        "Task 1: Data Generation\n",
        "-----------------------\n",
        "\n",
        "Given the number of samples and the means (mu) and standard deviations (sigma) of positive (pos) and negative (neg) data, generate and return data samples including their labels."
      ]
    },
    {
      "cell_type": "code",
      "execution_count": 1,
      "metadata": {
        "id": "tAWlZGTq832w"
      },
      "outputs": [],
      "source": [
        "import numpy as np\n",
        "\n",
        "def dataset(number_of_samples, mu_pos, sigma_pos, mu_neg, sigma_neg):\n",
        "  # create positive and negative data\n",
        "  positive_data = np.random.normal(mu_pos, sigma_pos, size=(number_of_samples//2, 2))\n",
        "  negative_data = np.random.normal(mu_neg, sigma_neg, size=(number_of_samples//2, 2))\n",
        "\n",
        "  # assign positive and negative labels\n",
        "  positive_labels = np.full(number_of_samples//2, 1, int)\n",
        "  negative_labels = np.full(number_of_samples//2, -1, int)\n",
        "\n",
        "  # concatenate positive and negative data\n",
        "  all_data = np.concatenate((positive_data, negative_data), axis=0) \n",
        "  all_labels = np.concatenate((positive_labels, negative_labels))\n",
        "\n",
        "  # anything else to consider?\n",
        "  # shuffle the data?\n",
        "\n",
        "  # return both X and T\n",
        "  return all_data, all_labels"
      ]
    },
    {
      "cell_type": "markdown",
      "metadata": {
        "id": "XA7MzobJ832x"
      },
      "source": [
        "Task 2: Select Data Parameters and Line Parameters\n",
        "--------------------------------------------------\n",
        "\n",
        "We want to select data points such that we exactly know where the ideal separating line should be placed.\n",
        "Note that data samples are not always separable since they are generated randomly.\n",
        "You should determine, which means and standard deviations are useful.\n",
        "\n",
        "Once you have defined your means, you should also define the separating line.\n",
        "The easiest is to provide it as cartesian equation: $w_0 + w_1 x_1 + w_2 x_2$.\n",
        "Note that the separating line is orthogonal to the vector $\\overrightarrow{\\vec\\mu_- \\vec\\mu_+}$, that the normal of the line $(w_1, w_2)^T$ is orthogonal to the line, and that $w_0$ should be selected such that the line $\\vec w$ is in the middle of $\\vec\\mu_+$ and $\\vec\\mu_-$."
      ]
    },
    {
      "cell_type": "code",
      "execution_count": 2,
      "metadata": {
        "id": "-RHisP1p832y"
      },
      "outputs": [],
      "source": [
        "number_of_samples=100\n",
        "mu_pos=np.array([1,7])\n",
        "sigma_pos=np.array([1,1])\n",
        "mu_neg=np.array([5,2])\n",
        "sigma_neg=np.array([1,1])\n",
        "\n",
        "X, T = dataset(number_of_samples, mu_pos,sigma_pos,mu_neg,sigma_neg)\n",
        "w_manual = np.array([-np.sum(((mu_pos+mu_neg)/2)*(mu_pos-mu_neg))]+list(mu_pos-mu_neg))"
      ]
    },
    {
      "cell_type": "markdown",
      "metadata": {
        "id": "nuQhwVFj832y"
      },
      "source": [
        "Test 1: Linear Separability Test\n",
        "--------------------------------\n",
        "A line $a = f_{\\vec w}(\\vec x) = w_0 + w_1 x_1 + w_2 x_2$ linearly separates the data $(X,T)$ if $\\forall n: a^{[n]} t^{[n]} > 0$ for $a^{[n]} = f_{\\vec w}(\\vec x^{[n]})$.\n",
        "Write a test function that implements this linear seperability test. Apply this test to your data $(X,T)$ from Task 1 and your manually selected line $\\vec w$ from Task 2."
      ]
    },
    {
      "cell_type": "code",
      "execution_count": 3,
      "metadata": {
        "colab": {
          "base_uri": "https://localhost:8080/"
        },
        "id": "777NZQx-832z",
        "outputId": "efc0dcc1-0c28-477c-d05a-022115d8e860"
      },
      "outputs": [
        {
          "name": "stdout",
          "output_type": "stream",
          "text": [
            "The data is separated by the manually selected line\n"
          ]
        }
      ],
      "source": [
        "def separability_test(X, T, w):\n",
        "  res = np.multiply(X.dot(w[1:]) + w[0], T)\n",
        "  return all(i > 0 for i in res)\n",
        "\n",
        "# Test 1: check that the weights are separating the data\n",
        "if separability_test(X, T, w_manual):\n",
        "  print(\"The data is separated by the manually selected line\")\n",
        "else:\n",
        "  print(\"The anually selected line does not separate the data\")"
      ]
    },
    {
      "cell_type": "markdown",
      "metadata": {
        "id": "5KzRsOSq832z"
      },
      "source": [
        "Task 3: Perceptron\n",
        "------------------\n",
        "\n",
        "The perceptron is defined as the line $a = f_{\\vec w}(\\vec x)$ that is thresholded using the sign function $\\mathrm{sign}(a) = \\begin{cases} +1 &\\text{if } a \\geq 0\\\\ -1 & \\text{otherwise.}\\end{cases}$\n",
        "Implement a function that computes and returns the perceptron for a given data point $\\vec x$ and line parameters $\\vec w$."
      ]
    },
    {
      "cell_type": "code",
      "execution_count": 4,
      "metadata": {
        "id": "f1GNRQAn8320"
      },
      "outputs": [],
      "source": [
        "def perceptron(x, w):\n",
        "  return np.sign(np.dot(x, w[1:]) + w[0])"
      ]
    },
    {
      "cell_type": "markdown",
      "metadata": {
        "id": "R2VMLZhm8320"
      },
      "source": [
        "The perceptron learning rule is defined as follows.\n",
        "First, the weights $\\vec w = (w_0, w_1, w_2)^T$ is initialized randomly.\n",
        "Then, for each sample $(x,t)$ of the dataset we check if the sample is correcly classified as $H(f_{\\vec w}(\\vec x)) t > 0$.\n",
        "If the sample is classified incorrectly, the weights are adapted: $w_0 = w_0 + t$, $w_1 = w_1 + tx_1$, $w_2 = w_2 + tx_2$.\n",
        "This step is repeated until all samples are classified correcly.\n",
        "\n",
        "\n",
        "Task 4: Perceptron Learning Implementation\n",
        "------------------------------------------\n",
        "Implement a funtion that performs perceptron learning for a given dataset $(X,T)$ and a given initial weight vector $\\vec w$.\n",
        "The final weight vector $\\vec w^*$ shall be returned from that function.\n",
        "Define a proper stopping criterion for the iteration.\n",
        "Consider in your implementation error cases that could arise.\n"
      ]
    },
    {
      "cell_type": "code",
      "execution_count": 5,
      "metadata": {
        "id": "_t8CZRI78321"
      },
      "outputs": [],
      "source": [
        "def perceptron_learning(X, T, w):\n",
        "  # first, make a copy of your weights\n",
        "  w_star = w.copy()\n",
        "\n",
        "  epochs = 0\n",
        "  # then, iterate over the data and perform perceptron learning\n",
        "  while separability_test(X, T,w_star)==False:\n",
        "    for x,t in zip(X,T):\n",
        "      if perceptron(x,w_star)*t<0:\n",
        "        w_star+=t*np.array([1,x[0],x[1]])\n",
        "        # then, iterate over the data and perform perceptron learning\n",
        "    epochs += 1\n",
        "  \n",
        "  # finally, return the optimal weights\n",
        "  return w_star"
      ]
    },
    {
      "cell_type": "markdown",
      "metadata": {
        "id": "Ps4YMpdi8322"
      },
      "source": [
        "Test 2: Sanity Check\n",
        "--------------------\n",
        "Call the perceptron learning function with the data from task 1 and the manual line from task 2. What is the expected outcome? Test if this is the actual outcome of the perceptron learning."
      ]
    },
    {
      "cell_type": "code",
      "execution_count": 6,
      "metadata": {
        "colab": {
          "base_uri": "https://localhost:8080/"
        },
        "id": "mmUykdEh8322",
        "outputId": "64051d1f-28a3-47e8-be42-ac281a6e33a7"
      },
      "outputs": [
        {
          "name": "stdout",
          "output_type": "stream",
          "text": [
            "Excepted outcome equals actual outcome.\n"
          ]
        }
      ],
      "source": [
        "w_star = perceptron_learning(X, T, w_manual)\n",
        "\n",
        "# check if the output is as expected\n",
        "if np.linalg.norm(w_star-np.array(w_manual))<=0.0001:\n",
        "  print(\"Excepted outcome equals actual outcome.\")\n",
        "else:\n",
        "  print(\"Excepted outcome doesn't equal actual outcome.\")"
      ]
    },
    {
      "cell_type": "markdown",
      "metadata": {
        "id": "QCTJQwiB8322"
      },
      "source": [
        "\n",
        "Task 5: Weight Initialization\n",
        "-----------------------------\n",
        "\n",
        "Implement a function that generates and returns randomly initialized weights $\\vec w \\in [-1,1]^3$."
      ]
    },
    {
      "cell_type": "code",
      "execution_count": 7,
      "metadata": {
        "id": "c-CMJr4N8322"
      },
      "outputs": [],
      "source": [
        "def random_weights(min = -1, max = 1):\n",
        "  return np.random.uniform(min,max,size=(3,))\n"
      ]
    },
    {
      "cell_type": "markdown",
      "metadata": {
        "id": "nWOCllo18323"
      },
      "source": [
        "Task 6: Perceptron Learning Execution\n",
        "-------------------------------------\n",
        "Call the perceptron learning function with the data from task 1 and the randomly generated initial weight vector from task 5.\n",
        "Store the resulting weight vector $\\vec w^*$."
      ]
    },
    {
      "cell_type": "code",
      "execution_count": 8,
      "metadata": {
        "id": "3HY__BKl8323"
      },
      "outputs": [],
      "source": [
        "# create random weights\n",
        "w_initial = random_weights()\n",
        "\n",
        "# perform perceptron learning\n",
        "w_star = perceptron_learning(X, T, w_initial)"
      ]
    },
    {
      "cell_type": "markdown",
      "metadata": {
        "id": "XQ19LNqU8323"
      },
      "source": [
        "Test 3: Result Validation\n",
        "-------------------------\n",
        "Verify that $\\vec w^*$ separates the data."
      ]
    },
    {
      "cell_type": "code",
      "execution_count": 9,
      "metadata": {
        "colab": {
          "base_uri": "https://localhost:8080/"
        },
        "id": "vx__WbFU8323",
        "outputId": "29257e02-691e-454f-8606-71ada8ae7d43"
      },
      "outputs": [
        {
          "name": "stdout",
          "output_type": "stream",
          "text": [
            "The data is separated by the optimized selected line\n"
          ]
        }
      ],
      "source": [
        "# verify that we have learned to separate the data\n",
        "if separability_test(X, T, w_star):\n",
        "  print(\"The data is separated by the optimized selected line\")\n",
        "else:\n",
        "  print(\"The optimized selected line does not separate the data\")"
      ]
    },
    {
      "cell_type": "markdown",
      "metadata": {
        "id": "-A_oFGUn8323"
      },
      "source": [
        "Task 7: Visualization\n",
        "---------------------\n",
        "\n",
        "For visualization, we want to jointly plot the positive and negative data from Task 1, together with the descision boundaries of the weight vectors obtained in Tasks 2 and 6. An example can be found below:\n",
        "\n",
        "![Sample Solution](./DL-Solution01.png)\n",
        "\n",
        "First, we need to plot the data points such that positive data are plotted with green dots, and negative data with red dots.\n",
        "\n",
        "Then, we need to compute the line parameters. For this purpose, we define the separating line in cartesian coordinates $f_{\\vec w}(\\vec x) = 0$ and solve it to the paramteric form $x_2 = \\beta x_1 + \\gamma$."
      ]
    },
    {
      "cell_type": "code",
      "execution_count": 10,
      "metadata": {
        "colab": {
          "base_uri": "https://localhost:8080/",
          "height": 501
        },
        "id": "5uwUKz6y8324",
        "outputId": "03e2239d-8396-48d5-f331-7c5454a024b6"
      },
      "outputs": [
        {
          "data": {
            "text/plain": [
              "<matplotlib.legend.Legend at 0x180cd4b4460>"
            ]
          },
          "execution_count": 10,
          "metadata": {},
          "output_type": "execute_result"
        },
        {
          "data": {
            "image/png": "[encoded data removed]",
            "text/plain": [
              "<Figure size 576x576 with 1 Axes>"
            ]
          },
          "metadata": {
            "needs_background": "light"
          },
          "output_type": "display_data"
        }
      ],
      "source": [
        "def line_parameters(w):\n",
        "  # compute parametric line parameters from cartesian coordinates\n",
        "  beta = - w[1] / w[2]\n",
        "  gamma = - w[0] / w[2]\n",
        "  return beta, gamma\n",
        "\n",
        "\n",
        "from matplotlib import pyplot\n",
        "pyplot.figure(figsize=(8,8))\n",
        "\n",
        "# plot the positive data points\n",
        "pyplot.plot(X[T==1, 0], X[T==1, 1], \"g.\", label=\"positive data\")\n",
        "# plot the negative data points\n",
        "pyplot.plot(X[T==-1, 0], X[T==-1, 1], \"r.\", label=\"negative data\")\n",
        "\n",
        "# define positions where to evaluate the line:\n",
        "x1 = np.array([-3, 9])\n",
        "\n",
        "# compute line parameters for manual line\n",
        "beta, gamma = line_parameters(w_manual)\n",
        "# now, compute the values according to our parametric form:\n",
        "x2 = beta * x1 + gamma\n",
        "# plot lines (might need to call this function twice for the two lines)\n",
        "pyplot.plot(x1, x2, \"m-\", label=\"manual line\")\n",
        "\n",
        "# compute line parameters for optimized line\n",
        "beta, gamma = line_parameters(w_star)\n",
        "# now, compute the values according to our parametric form:\n",
        "x2 = beta * x1 + gamma\n",
        "# plot lines (might need to call this function twice for the two lines)\n",
        "pyplot.plot(x1, x2, \"b-\", label=\"optimized line\")\n",
        "\n",
        "# make the plot more beautiful\n",
        "pyplot.legend()\n",
        "\n"
      ]
    }
  ],
  "metadata": {
    "colab": {
      "collapsed_sections": [],
      "name": "Assignment01.ipynb",
      "provenance": []
    },
    "interpreter": {
      "hash": "2dd53f8ad749bca69f7250ce75eb4f0def59db5cf79075a9716322ffc58e8a2e"
    },
    "kernelspec": {
      "display_name": "Python 3.8.10 ('DL')",
      "language": "python",
      "name": "python3"
    },
    "language_info": {
      "codemirror_mode": {
        "name": "ipython",
        "version": 3
      },
      "file_extension": ".py",
      "mimetype": "text/x-python",
      "name": "python",
      "nbconvert_exporter": "python",
      "pygments_lexer": "ipython3",
      "version": "3.8.10"
    },
    "orig_nbformat": 4
  },
  "nbformat": 4,
  "nbformat_minor": 0
}
