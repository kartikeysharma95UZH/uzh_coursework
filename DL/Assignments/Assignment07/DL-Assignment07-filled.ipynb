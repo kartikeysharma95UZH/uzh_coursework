{
  "cells": [
    {
      "cell_type": "markdown",
      "metadata": {
        "id": "CwgBL7Hfw0PY"
      },
      "source": [
        "Assignment 7: Transfer Learning\n",
        "===============================\n",
        "\n",
        "\n",
        "Microsoft Forms Document: https://forms.office.com/r/MvPiCwh6jR\n",
        "\n",
        "\n",
        "Here, we use parts of the Fruits and Vegetables dataset that can be downloaded from Kaggle: https://www.kaggle.com/datasets/kritikseth/fruit-and-vegetable-image-recognition\n",
        "\n",
        "For this small example, I have subselected some images, which are available here: https://seafile.ifi.uzh.ch/f/72e1d9c4ef20420eb1d9/?dl=1\n",
        "\n",
        "First, we need to download and extract all our data."
      ]
    },
    {
      "cell_type": "code",
      "execution_count": 1,
      "metadata": {
        "colab": {
          "base_uri": "https://localhost:8080/"
        },
        "id": "VVjgkzV9w0Pc",
        "outputId": "636d8a71-0645-4a45-9c3c-ce60aa5293e4"
      },
      "outputs": [
        {
          "name": "stdout",
          "output_type": "stream",
          "text": [
            "Downloaded datafile fruits.zip\n"
          ]
        }
      ],
      "source": [
        "import os\n",
        "dataset_zip_file = \"fruits.zip\"\n",
        "if not os.path.exists(dataset_zip_file):\n",
        "  import urllib.request\n",
        "  urllib.request.urlretrieve(\"https://seafile.ifi.uzh.ch/f/72e1d9c4ef20420eb1d9/?dl=1\", dataset_zip_file)\n",
        "  print (\"Downloaded datafile\", dataset_zip_file)\n",
        "  import zipfile\n",
        "  zipfile.ZipFile(dataset_zip_file).extractall()"
      ]
    },
    {
      "cell_type": "markdown",
      "metadata": {
        "id": "Z_6yL4ENw0Pe"
      },
      "source": [
        "Task 1: Data Transformation\n",
        "---------------------------\n",
        "\n",
        "We need to instantiate a proper `torchvision.transform` instance to create the same input structure as used for training our network.\n",
        "We need to combine 4 transforms, which can be compiled from the PyTorch website: https://pytorch.org/vision/stable/models.html\n",
        "\n",
        "1. We need to resize the image such that the shorter side has size 256.\n",
        "2. We need to take the center crop of size $224\\times224$ from the image.\n",
        "3. We need to convert the image into a tensor (including pixel values scaling)\n",
        "4. We need to normalize the pixel values with mean $(0.485, 0.456, 0.406)$ and standard deviation $(0.229, 0.224, 0.225)$\n",
        "\n",
        "Since we will use networks pre-trained on ImageNet, we need to perform the exact same transform as used for ImageNet testing."
      ]
    },
    {
      "cell_type": "code",
      "execution_count": 2,
      "metadata": {
        "id": "rvMpWVm1w0Pf"
      },
      "outputs": [],
      "source": [
        "import torch\n",
        "import torchvision\n",
        "\n",
        "imagenet_transform = torchvision.transforms.Compose([\n",
        "  torchvision.transforms.Resize(256), # If size is an int, smaller edge of the image will be matched to this number\n",
        "  torchvision.transforms.CenterCrop(224), # If size is an int instead of sequence like (h, w), a square crop (size, size) is made\n",
        "  torchvision.transforms.ToTensor(), # convert to torch.tensor and scale pixel vals to be \\in [0, 1]\n",
        "  torchvision.transforms.Normalize((0.485, 0.456, 0.406), (0.229, 0.224, 0.225)) # normalization by subtracting mean(0.485,0.456,0.406)and dividing byvariance(0.229,0.224,0.225)\n",
        "])"
      ]
    },
    {
      "cell_type": "markdown",
      "metadata": {
        "id": "W-f_XpVUw0Pg"
      },
      "source": [
        "Task 2: Dataset Loading\n",
        "-----------------------\n",
        "\n",
        "We here use the `torchvision.datasets.ImageFolder` dataset interface for processing images. \n",
        "You can use its documented `is_valid_file` parameter to distinguish between training and test set.\n",
        "The training files are all called `gallery.jpg` while test files are called `probe.jpg`.\n",
        "\n",
        "Create two datasets, one for the training set, one for the test set. Use the transform defined above."
      ]
    },
    {
      "cell_type": "code",
      "execution_count": 3,
      "metadata": {
        "id": "faOmjWeLw0Ph"
      },
      "outputs": [],
      "source": [
        "trainset = torchvision.datasets.ImageFolder(\n",
        "  root = \"fruits\",\n",
        "  transform=imagenet_transform,\n",
        "  is_valid_file=lambda x: \"gallery\" in x\n",
        ")\n",
        "\n",
        "testset = torchvision.datasets.ImageFolder(\n",
        "  root = \"fruits\",\n",
        "  transform=imagenet_transform,\n",
        "  is_valid_file=lambda x: \"probe\" in x\n",
        ")"
      ]
    },
    {
      "cell_type": "markdown",
      "metadata": {
        "id": "-g5djfICw0Pi"
      },
      "source": [
        "Test 1: Data Size and Types\n",
        "---------------------------\n",
        "\n",
        "Check that all datasets contain the same number of images as classes.\n",
        "Check that all input images are `torch.tensor`s of size $3\\times224\\times224$ and of type `torch.float`.\n"
      ]
    },
    {
      "cell_type": "code",
      "execution_count": 4,
      "metadata": {
        "id": "PMkUg8TTw0Pk"
      },
      "outputs": [],
      "source": [
        "assert(len(trainset) == len(testset))\n",
        "for x, t in trainset + testset:\n",
        "  assert isinstance(x, torch.Tensor)\n",
        "  assert x.shape == (3, 224, 224)\n",
        "  assert x.dtype == torch.float"
      ]
    },
    {
      "cell_type": "markdown",
      "metadata": {
        "id": "NVwBvKEJw0Pl"
      },
      "source": [
        "Task 3: Pre-trained Network\n",
        "---------------------------\n",
        "\n",
        "Instantiate a pre-trained network of type ResNet-18. \n",
        "Modify the network such that we extract the deep features from before the last fully-connected layer of the network.\n",
        "For your reference, the implementation of the `forward` function of ResNet networks (including ResNet-18) can be found here: https://github.com/pytorch/vision/blob/main/torchvision/models/resnet.py#L264\n",
        "\n",
        "You can also check if other networks perform better, especially deeper ResNet topologies.\n",
        "Be aware that our strategy to remove the last fully-connected layer might not work in other network topologies, only in residual networks.\n",
        "\n",
        "Please Note: while we modify the `forward` function, we will still use the `__call__` function to extract our features."
      ]
    },
    {
      "cell_type": "code",
      "execution_count": 5,
      "metadata": {
        "colab": {
          "base_uri": "https://localhost:8080/",
          "height": 66,
          "referenced_widgets": [
            "a09ecc64fed6491c833f60f1c12ea43e",
            "cb6964d07eb745488c25dcfa7198d472",
            "e896ff1bcd9a4ff3984092daa3c64137",
            "ef29b4f4079d4041bcc22843d69ceaba",
            "261dcc1851c74ee3bb16ea77f3a8ef59",
            "38937694c3d84f4586273bf81dd13e91",
            "bfd6223859f043e8a1903acb04182ff1",
            "42005939c4724cf29c8019afa227888d",
            "68eff79024244c899d64546734246ae9",
            "912c5f983c5942afb25e52cec51b7fb1",
            "955eac2a08ba4a2db61dffb43ffeac94"
          ]
        },
        "id": "RGoXb4ndw0Pm",
        "outputId": "e565e2b0-a489-49f1-927a-1898ab5eeb3b"
      },
      "outputs": [],
      "source": [
        "# instantiate pre-trained resnet 18 network\n",
        "network = torchvision.models.resnet18(pretrained = True)\n",
        "network.eval()\n",
        "\n",
        "# make sure that deep features can be etxracted from the network\n",
        "network = torch.nn.Sequential(*(list(network.children())[:-1]))\n",
        "\n"
      ]
    },
    {
      "cell_type": "markdown",
      "metadata": {
        "id": "YDjEtsBVw0Pm"
      },
      "source": [
        "Task 4: Extract Features\n",
        "------------------------\n",
        "\n",
        "Implement a function that extracts all features for a given dataset.\n",
        "Store the results in a dictionary: `target : feature`.\n",
        "Extract the features for the training and the test set."
      ]
    },
    {
      "cell_type": "code",
      "execution_count": 6,
      "metadata": {
        "id": "7diFkwGzw0Pn"
      },
      "outputs": [],
      "source": [
        "def extract(network, dataset):\n",
        "  features = {}\n",
        "  for tensor_data,index in dataset:\n",
        "    features[index]=network(torch.unsqueeze(tensor_data,0))\n",
        "\n",
        "  return features\n",
        "\n",
        "train_features = extract(network,trainset)\n",
        "test_features = extract(network,testset)"
      ]
    },
    {
      "cell_type": "markdown",
      "metadata": {
        "id": "aeVPb9DQw0Po"
      },
      "source": [
        "Test 2: Check your Features\n",
        "---------------------------\n",
        "\n",
        "Check that all your features are of dimension 512 and of datatype `torch.float` (larger ResNet topologies might have 2048-dimensional features)."
      ]
    },
    {
      "cell_type": "code",
      "execution_count": 7,
      "metadata": {
        "id": "_i9WqxPew0Po"
      },
      "outputs": [],
      "source": [
        "# check features\n",
        "for feature_dict in [train_features, test_features]:\n",
        "  for c, f in feature_dict.items():\n",
        "    assert(f.shape[1] == 512) # check if feature dimension is 512\n",
        "    assert(f.dtype == torch.float) # check datatype"
      ]
    },
    {
      "cell_type": "markdown",
      "metadata": {
        "id": "ut5cspGHw0Pp"
      },
      "source": [
        "Task 5: Similarity Computation\n",
        "------------------------------\n",
        "\n",
        "Iterate over all samples in the test set.\n",
        "Compute the cosine similarities to all samples in the training set.\n",
        "Store the similarity values in a matrix."
      ]
    },
    {
      "cell_type": "code",
      "execution_count": 8,
      "metadata": {
        "id": "gAWsuOlJw0Pq"
      },
      "outputs": [],
      "source": [
        "O = len(testset)\n",
        "similarities = torch.empty((O, O))\n",
        "\n",
        "cos = torch.nn.CosineSimilarity()\n",
        "# compute similarities\n",
        "for row in range(O):\n",
        "  for col in range(O):\n",
        "    similarities[row][col] = cos(test_features[row],train_features[col])"
      ]
    },
    {
      "cell_type": "markdown",
      "metadata": {
        "id": "Z20KIgWKw0Pq"
      },
      "source": [
        "Task 6: Plot Similarity Values\n",
        "------------------------------\n",
        "\n",
        "Plot the similarity matrix as an image."
      ]
    },
    {
      "cell_type": "code",
      "execution_count": 9,
      "metadata": {
        "colab": {
          "base_uri": "https://localhost:8080/",
          "height": 346
        },
        "id": "1MgyrGp1w0Pr",
        "outputId": "0e1cd86b-aa13-4ec9-dd2c-33a8a5b8ff39"
      },
      "outputs": [
        {
          "data": {
            "text/plain": [
              "Text(0, 0.5, 'Testing class')"
            ]
          },
          "execution_count": 9,
          "metadata": {},
          "output_type": "execute_result"
        },
        {
          "data": {
            "image/png": "[encoded data removed]",
            "text/plain": [
              "<Figure size 432x288 with 1 Axes>"
            ]
          },
          "metadata": {
            "needs_background": "light"
          },
          "output_type": "display_data"
        }
      ],
      "source": [
        "import matplotlib.pyplot as plt\n",
        "import numpy as np\n",
        "\n",
        "# plot similarities\n",
        "plt.imshow(similarities.detach().numpy())\n",
        "classnames = sorted(os.listdir('fruits/'))\n",
        "plt.xticks(np.arange(len(classnames)), classnames, rotation=90)\n",
        "plt.yticks(np.arange(len(classnames)), classnames)\n",
        "plt.xlabel('Training class')\n",
        "plt.ylabel('Testing class')"
      ]
    },
    {
      "cell_type": "markdown",
      "metadata": {
        "id": "0LyGtrrlw0Pr"
      },
      "source": [
        "Task 7: Classification Accuracy\n",
        "-------------------------------\n",
        "\n",
        "Compute the classification accuracy by checking if the class of highest similarity for a test sample is the correct class."
      ]
    },
    {
      "cell_type": "code",
      "execution_count": 10,
      "metadata": {
        "colab": {
          "base_uri": "https://localhost:8080/"
        },
        "id": "aeSCZVQFw0Ps",
        "outputId": "b57324ce-8b4c-4b6b-d2dc-0f7ea29ecfe0"
      },
      "outputs": [
        {
          "name": "stdout",
          "output_type": "stream",
          "text": [
            "Accuracy is tensor(0.7857)\n"
          ]
        }
      ],
      "source": [
        "# compute accuracy for our small test set\n",
        "same = torch.argmax(similarities, dim=1) == torch.tensor(list(test_features.keys()))\n",
        "accuracy = sum(same) / len(same)\n",
        "print(\"Accuracy is\", accuracy)"
      ]
    },
    {
      "cell_type": "markdown",
      "metadata": {
        "id": "n_71whKaw0Ps"
      },
      "source": [
        "Task 8: Find Misclassified Images and Classes\n",
        "----------------------------------------------\n",
        "\n",
        "Find the test samples that are incorrectly classified. \n",
        "Get the class names (not only indexes) and write the names of the test sample class as well as the class that it was classified as.\n",
        "\n",
        "What are the two most dissimilar classes?"
      ]
    },
    {
      "cell_type": "code",
      "execution_count": 11,
      "metadata": {
        "colab": {
          "base_uri": "https://localhost:8080/"
        },
        "id": "13wPQVRBw0Pt",
        "outputId": "45fc8a17-a773-4485-9768-65e42492d212"
      },
      "outputs": [
        {
          "name": "stdout",
          "output_type": "stream",
          "text": [
            "apple is misclassified as tomato\n",
            "orange is misclassified as lemon\n",
            "potato is misclassified as lemon\n",
            "-------------\n",
            "\n",
            "The most dissimilar classes are potato and carrot\n"
          ]
        }
      ],
      "source": [
        "classnames = testset.classes\n",
        "\n",
        "# find all misclassified test images and print their real and predicted class name\n",
        "predicted_class_idx = np.argmax(similarities.detach().numpy(), axis = 0)\n",
        "predicted_class_names = [classnames[idx] for idx in predicted_class_idx]\n",
        "class_indicator = np.equal(predicted_class_idx, testset.targets) == 1\n",
        "for i in range(len(testset.targets)):\n",
        "  if not class_indicator[i]:\n",
        "    print (f'{classnames[i]} is misclassified as {predicted_class_names[i]}')\n",
        "\n",
        "print('-------------\\n')\n",
        "\n",
        "# find the pair of most dissimilar training and test class and print their names\n",
        "idx = np.argmin(similarities.detach().numpy())\n",
        "row = idx // len(testset.targets)\n",
        "col = idx % len(testset.targets)\n",
        "print (f'The most dissimilar classes are {classnames[row]} and {classnames[col]}')"
      ]
    }
  ],
  "metadata": {
    "colab": {
      "collapsed_sections": [],
      "name": "Assignment07.ipynb",
      "provenance": []
    },
    "interpreter": {
      "hash": "2dd53f8ad749bca69f7250ce75eb4f0def59db5cf79075a9716322ffc58e8a2e"
    },
    "kernelspec": {
      "display_name": "Python 3.8.10 ('DL')",
      "language": "python",
      "name": "python3"
    },
    "language_info": {
      "codemirror_mode": {
        "name": "ipython",
        "version": 3
      },
      "file_extension": ".py",
      "mimetype": "text/x-python",
      "name": "python",
      "nbconvert_exporter": "python",
      "pygments_lexer": "ipython3",
      "version": "3.8.10"
    },
    "orig_nbformat": 4,
    "widgets": {
      "application/vnd.jupyter.widget-state+json": {
        "261dcc1851c74ee3bb16ea77f3a8ef59": {
          "model_module": "@jupyter-widgets/base",
          "model_module_version": "1.2.0",
          "model_name": "LayoutModel",
          "state": {
            "_model_module": "@jupyter-widgets/base",
            "_model_module_version": "1.2.0",
            "_model_name": "LayoutModel",
            "_view_count": null,
            "_view_module": "@jupyter-widgets/base",
            "_view_module_version": "1.2.0",
            "_view_name": "LayoutView",
            "align_content": null,
            "align_items": null,
            "align_self": null,
            "border": null,
            "bottom": null,
            "display": null,
            "flex": null,
            "flex_flow": null,
            "grid_area": null,
            "grid_auto_columns": null,
            "grid_auto_flow": null,
            "grid_auto_rows": null,
            "grid_column": null,
            "grid_gap": null,
            "grid_row": null,
            "grid_template_areas": null,
            "grid_template_columns": null,
            "grid_template_rows": null,
            "height": null,
            "justify_content": null,
            "justify_items": null,
            "left": null,
            "margin": null,
            "max_height": null,
            "max_width": null,
            "min_height": null,
            "min_width": null,
            "object_fit": null,
            "object_position": null,
            "order": null,
            "overflow": null,
            "overflow_x": null,
            "overflow_y": null,
            "padding": null,
            "right": null,
            "top": null,
            "visibility": null,
            "width": null
          }
        },
        "38937694c3d84f4586273bf81dd13e91": {
          "model_module": "@jupyter-widgets/base",
          "model_module_version": "1.2.0",
          "model_name": "LayoutModel",
          "state": {
            "_model_module": "@jupyter-widgets/base",
            "_model_module_version": "1.2.0",
            "_model_name": "LayoutModel",
            "_view_count": null,
            "_view_module": "@jupyter-widgets/base",
            "_view_module_version": "1.2.0",
            "_view_name": "LayoutView",
            "align_content": null,
            "align_items": null,
            "align_self": null,
            "border": null,
            "bottom": null,
            "display": null,
            "flex": null,
            "flex_flow": null,
            "grid_area": null,
            "grid_auto_columns": null,
            "grid_auto_flow": null,
            "grid_auto_rows": null,
            "grid_column": null,
            "grid_gap": null,
            "grid_row": null,
            "grid_template_areas": null,
            "grid_template_columns": null,
            "grid_template_rows": null,
            "height": null,
            "justify_content": null,
            "justify_items": null,
            "left": null,
            "margin": null,
            "max_height": null,
            "max_width": null,
            "min_height": null,
            "min_width": null,
            "object_fit": null,
            "object_position": null,
            "order": null,
            "overflow": null,
            "overflow_x": null,
            "overflow_y": null,
            "padding": null,
            "right": null,
            "top": null,
            "visibility": null,
            "width": null
          }
        },
        "42005939c4724cf29c8019afa227888d": {
          "model_module": "@jupyter-widgets/base",
          "model_module_version": "1.2.0",
          "model_name": "LayoutModel",
          "state": {
            "_model_module": "@jupyter-widgets/base",
            "_model_module_version": "1.2.0",
            "_model_name": "LayoutModel",
            "_view_count": null,
            "_view_module": "@jupyter-widgets/base",
            "_view_module_version": "1.2.0",
            "_view_name": "LayoutView",
            "align_content": null,
            "align_items": null,
            "align_self": null,
            "border": null,
            "bottom": null,
            "display": null,
            "flex": null,
            "flex_flow": null,
            "grid_area": null,
            "grid_auto_columns": null,
            "grid_auto_flow": null,
            "grid_auto_rows": null,
            "grid_column": null,
            "grid_gap": null,
            "grid_row": null,
            "grid_template_areas": null,
            "grid_template_columns": null,
            "grid_template_rows": null,
            "height": null,
            "justify_content": null,
            "justify_items": null,
            "left": null,
            "margin": null,
            "max_height": null,
            "max_width": null,
            "min_height": null,
            "min_width": null,
            "object_fit": null,
            "object_position": null,
            "order": null,
            "overflow": null,
            "overflow_x": null,
            "overflow_y": null,
            "padding": null,
            "right": null,
            "top": null,
            "visibility": null,
            "width": null
          }
        },
        "68eff79024244c899d64546734246ae9": {
          "model_module": "@jupyter-widgets/controls",
          "model_module_version": "1.5.0",
          "model_name": "ProgressStyleModel",
          "state": {
            "_model_module": "@jupyter-widgets/controls",
            "_model_module_version": "1.5.0",
            "_model_name": "ProgressStyleModel",
            "_view_count": null,
            "_view_module": "@jupyter-widgets/base",
            "_view_module_version": "1.2.0",
            "_view_name": "StyleView",
            "bar_color": null,
            "description_width": ""
          }
        },
        "912c5f983c5942afb25e52cec51b7fb1": {
          "model_module": "@jupyter-widgets/base",
          "model_module_version": "1.2.0",
          "model_name": "LayoutModel",
          "state": {
            "_model_module": "@jupyter-widgets/base",
            "_model_module_version": "1.2.0",
            "_model_name": "LayoutModel",
            "_view_count": null,
            "_view_module": "@jupyter-widgets/base",
            "_view_module_version": "1.2.0",
            "_view_name": "LayoutView",
            "align_content": null,
            "align_items": null,
            "align_self": null,
            "border": null,
            "bottom": null,
            "display": null,
            "flex": null,
            "flex_flow": null,
            "grid_area": null,
            "grid_auto_columns": null,
            "grid_auto_flow": null,
            "grid_auto_rows": null,
            "grid_column": null,
            "grid_gap": null,
            "grid_row": null,
            "grid_template_areas": null,
            "grid_template_columns": null,
            "grid_template_rows": null,
            "height": null,
            "justify_content": null,
            "justify_items": null,
            "left": null,
            "margin": null,
            "max_height": null,
            "max_width": null,
            "min_height": null,
            "min_width": null,
            "object_fit": null,
            "object_position": null,
            "order": null,
            "overflow": null,
            "overflow_x": null,
            "overflow_y": null,
            "padding": null,
            "right": null,
            "top": null,
            "visibility": null,
            "width": null
          }
        },
        "955eac2a08ba4a2db61dffb43ffeac94": {
          "model_module": "@jupyter-widgets/controls",
          "model_module_version": "1.5.0",
          "model_name": "DescriptionStyleModel",
          "state": {
            "_model_module": "@jupyter-widgets/controls",
            "_model_module_version": "1.5.0",
            "_model_name": "DescriptionStyleModel",
            "_view_count": null,
            "_view_module": "@jupyter-widgets/base",
            "_view_module_version": "1.2.0",
            "_view_name": "StyleView",
            "description_width": ""
          }
        },
        "a09ecc64fed6491c833f60f1c12ea43e": {
          "model_module": "@jupyter-widgets/controls",
          "model_module_version": "1.5.0",
          "model_name": "HBoxModel",
          "state": {
            "_dom_classes": [],
            "_model_module": "@jupyter-widgets/controls",
            "_model_module_version": "1.5.0",
            "_model_name": "HBoxModel",
            "_view_count": null,
            "_view_module": "@jupyter-widgets/controls",
            "_view_module_version": "1.5.0",
            "_view_name": "HBoxView",
            "box_style": "",
            "children": [
              "IPY_MODEL_cb6964d07eb745488c25dcfa7198d472",
              "IPY_MODEL_e896ff1bcd9a4ff3984092daa3c64137",
              "IPY_MODEL_ef29b4f4079d4041bcc22843d69ceaba"
            ],
            "layout": "IPY_MODEL_261dcc1851c74ee3bb16ea77f3a8ef59"
          }
        },
        "bfd6223859f043e8a1903acb04182ff1": {
          "model_module": "@jupyter-widgets/controls",
          "model_module_version": "1.5.0",
          "model_name": "DescriptionStyleModel",
          "state": {
            "_model_module": "@jupyter-widgets/controls",
            "_model_module_version": "1.5.0",
            "_model_name": "DescriptionStyleModel",
            "_view_count": null,
            "_view_module": "@jupyter-widgets/base",
            "_view_module_version": "1.2.0",
            "_view_name": "StyleView",
            "description_width": ""
          }
        },
        "cb6964d07eb745488c25dcfa7198d472": {
          "model_module": "@jupyter-widgets/controls",
          "model_module_version": "1.5.0",
          "model_name": "HTMLModel",
          "state": {
            "_dom_classes": [],
            "_model_module": "@jupyter-widgets/controls",
            "_model_module_version": "1.5.0",
            "_model_name": "HTMLModel",
            "_view_count": null,
            "_view_module": "@jupyter-widgets/controls",
            "_view_module_version": "1.5.0",
            "_view_name": "HTMLView",
            "description": "",
            "description_tooltip": null,
            "layout": "IPY_MODEL_38937694c3d84f4586273bf81dd13e91",
            "placeholder": "​",
            "style": "IPY_MODEL_bfd6223859f043e8a1903acb04182ff1",
            "value": "100%"
          }
        },
        "e896ff1bcd9a4ff3984092daa3c64137": {
          "model_module": "@jupyter-widgets/controls",
          "model_module_version": "1.5.0",
          "model_name": "FloatProgressModel",
          "state": {
            "_dom_classes": [],
            "_model_module": "@jupyter-widgets/controls",
            "_model_module_version": "1.5.0",
            "_model_name": "FloatProgressModel",
            "_view_count": null,
            "_view_module": "@jupyter-widgets/controls",
            "_view_module_version": "1.5.0",
            "_view_name": "ProgressView",
            "bar_style": "success",
            "description": "",
            "description_tooltip": null,
            "layout": "IPY_MODEL_42005939c4724cf29c8019afa227888d",
            "max": 46830571,
            "min": 0,
            "orientation": "horizontal",
            "style": "IPY_MODEL_68eff79024244c899d64546734246ae9",
            "value": 46830571
          }
        },
        "ef29b4f4079d4041bcc22843d69ceaba": {
          "model_module": "@jupyter-widgets/controls",
          "model_module_version": "1.5.0",
          "model_name": "HTMLModel",
          "state": {
            "_dom_classes": [],
            "_model_module": "@jupyter-widgets/controls",
            "_model_module_version": "1.5.0",
            "_model_name": "HTMLModel",
            "_view_count": null,
            "_view_module": "@jupyter-widgets/controls",
            "_view_module_version": "1.5.0",
            "_view_name": "HTMLView",
            "description": "",
            "description_tooltip": null,
            "layout": "IPY_MODEL_912c5f983c5942afb25e52cec51b7fb1",
            "placeholder": "​",
            "style": "IPY_MODEL_955eac2a08ba4a2db61dffb43ffeac94",
            "value": " 44.7M/44.7M [00:00&lt;00:00, 128MB/s]"
          }
        }
      }
    }
  },
  "nbformat": 4,
  "nbformat_minor": 0
}
