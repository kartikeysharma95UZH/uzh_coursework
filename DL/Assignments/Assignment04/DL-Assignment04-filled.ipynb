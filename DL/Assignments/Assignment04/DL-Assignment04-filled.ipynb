{
  "cells": [
    {
      "cell_type": "markdown",
      "metadata": {
        "id": "WmwJGkws14pd"
      },
      "source": [
        "Assignment 4: Multi-Output Networks and Batch Processing\n",
        "========================================================\n",
        "\n",
        "\n",
        "Microsoft Forms Document: https://forms.office.com/r/nHKeCdSmTz\n",
        "\n",
        "\n",
        "Task 1: Dataset Loading\n",
        "-----------------------\n",
        "\n",
        "Load the dataset from files and provide the input matrix $\\mathbf X \\in \\mathbb R^{(D+1)\\times N}$ and the output matrix $\\mathbf T \\in \\mathbb R^{O\\times N}$.\n",
        "For more information about the dataset, refer to https://archive.ics.uci.edu/ml/datasets/Student+Performance.\n",
        "\n",
        "We skip categorical inputs (indexes 8-11) for now.\n",
        "All other entries are converted either into binary $(-1,1)$ or into an integer range $(0,1,\\ldots)$.\n",
        "The three outputs range between 0 and 20 each."
      ]
    },
    {
      "cell_type": "code",
      "execution_count": 1,
      "metadata": {
        "id": "ozWtvnxU14ph"
      },
      "outputs": [],
      "source": [
        "import math\n",
        "import numpy\n",
        "np = numpy\n",
        "import os\n",
        "\n",
        "# Dataset origin: https://archive.ics.uci.edu/ml/datasets/Student+Performance\n",
        "\n",
        "def dataset(course=\"mat\"):\n",
        "  # load dataset and provide input and target data\n",
        "  # possible data files are \"mat\" and \"por\"\n",
        "\n",
        "  # download data file from URL\n",
        "  dataset_zip_file = \"student.zip\"\n",
        "  if not os.path.exists(dataset_zip_file):\n",
        "    import urllib.request\n",
        "    urllib.request.urlretrieve(\"https://archive.ics.uci.edu/ml/machine-learning-databases/00320/student.zip\", dataset_zip_file)\n",
        "    print (\"Downloaded datafile\", dataset_zip_file)\n",
        "\n",
        "  import zipfile\n",
        "  import csv\n",
        "  import io\n",
        "\n",
        "  # collect inputs\n",
        "  inputs = []\n",
        "  targets = []\n",
        "  # some default values: yes=1, no=-1\n",
        "  yn = {\"yes\":1.,\"no\":-1.}\n",
        "  # read through dataset (without actually unzippiung to a file):\n",
        "  # ... open zip file\n",
        "  zip = zipfile.ZipFile(dataset_zip_file)\n",
        "  # ... open data file inside of zip file and convert bytes to text\n",
        "  datafile = io.TextIOWrapper(zip.open(os.path.join(F\"student-{course}.csv\"), 'r'))\n",
        "  # ... read through the lines via CSV reader, using the correct delimited\n",
        "  reader = csv.reader(datafile, delimiter=\";\")\n",
        "  # ... skip header line\n",
        "  next(reader)\n",
        "  for splits in reader:\n",
        "    # read input values\n",
        "    inputs.append([\n",
        "      1.,                             #### BIAS ####\n",
        "      {\"GP\":1.,\"MS\":-1.}[splits[0]],  # school\n",
        "      {\"M\":1.,\"F\":-1.}[splits[1]],    # gender\n",
        "      float(splits[2]),               # age\n",
        "      {\"U\":1.,\"R\":-1.}[splits[3]],    # address\n",
        "      {\"LE3\":1.,\"GT3\":-1.}[splits[4]],# family size\n",
        "      {\"T\":1.,\"A\":-1.}[splits[5]],    # parents living together\n",
        "      float(splits[6]),               # mother education\n",
        "      float(splits[7]),               # father education\n",
        "      # skip categorical values\n",
        "      float(splits[12]),              # travel time\n",
        "      float(splits[13]),              # study time\n",
        "      float(splits[14]),              # failures\n",
        "      yn[splits[15]],                 # extra support\n",
        "      yn[splits[16]],                 # family support\n",
        "      yn[splits[17]],                 # paid support\n",
        "      yn[splits[18]],                 # activities\n",
        "      yn[splits[19]],                 # nursery school\n",
        "      yn[splits[20]],                 # higher education\n",
        "      yn[splits[21]],                 # internet\n",
        "      yn[splits[22]],                 # romantic\n",
        "      float(splits[23]),              # family relation\n",
        "      float(splits[24]),              # free time\n",
        "      float(splits[25]),              # going out\n",
        "      float(splits[26]),              # workday alcohol\n",
        "      float(splits[27]),              # weekend alcohol\n",
        "      float(splits[28]),              # health\n",
        "      float(splits[29]),              # absences\n",
        "    ])\n",
        "\n",
        "    # read targets values\n",
        "    targets.append([\n",
        "      float(splits[30]),              # grade for primary school\n",
        "      float(splits[31]),              # grade for secondary school\n",
        "      float(splits[32]),              # grade for tertiary school\n",
        "    ])\n",
        "\n",
        "  print(F\"Loaded dataset with {len(targets)} samples\")\n",
        "  return np.transpose(np.array(inputs)), np.transpose(np.array(targets))"
      ]
    },
    {
      "cell_type": "markdown",
      "metadata": {
        "id": "Q1J9jIVM14pk"
      },
      "source": [
        "Test 1: Assert Valid Outputs\n",
        "----------------------------\n",
        "\n",
        "Load the dataset and check that all target data are in range 0-20. Also make sure that the dataset is in the correct dimensions, i.e., $\\mathbf X\\in \\mathbb R^{(D+1)\\times N}$ and $\\mathbf T \\in \\mathbb R^{O\\times N}$."
      ]
    },
    {
      "cell_type": "code",
      "execution_count": 2,
      "metadata": {
        "colab": {
          "base_uri": "https://localhost:8080/"
        },
        "id": "XYxd6dtW14pl",
        "outputId": "546d3342-2a6f-418c-df83-7bb400606bd2"
      },
      "outputs": [
        {
          "name": "stdout",
          "output_type": "stream",
          "text": [
            "Downloaded datafile student.zip\n",
            "Loaded dataset with 395 samples\n",
            "Dataset Range okay.\n",
            "Shape of X is 27 x 395\n",
            "Shape of T is 3 x 395\n"
          ]
        }
      ],
      "source": [
        "# load dataset\n",
        "# load dataset\n",
        "X, T = dataset(\"mat\")\n",
        "\n",
        "# check validity\n",
        "D=len(X) #27\n",
        "N=len(X[0]) #395\n",
        "O=3\n",
        "\n",
        "assert (np.all(np.array(T)) >= 0) and (np.all(np.array(T)<=20)) \n",
        "print(\"Dataset Range okay.\")\n",
        "\n",
        "assert np.shape(np.array(X))==(D,N)\n",
        "print(\"Shape of X is\", D ,\"x\", N)\n",
        "\n",
        "assert np.shape(np.array(T) )==(O,N)\n",
        "print(\"Shape of T is\", O, \"x\",N)"
      ]
    },
    {
      "cell_type": "markdown",
      "metadata": {
        "id": "WuwVZJzs14pl"
      },
      "source": [
        "Task 2: Input Data Normalization\n",
        "--------------------------------\n",
        "\n",
        "Implement a function that normalizes all input data using the whitening method with given mean and standard deviation.\n",
        "Compute the mean and the standard deviation for your dataset.\n",
        "Make sure that you handle the bias neuron $x_0$ correctly.\n",
        "Finally, normalize your input data using the implemented function."
      ]
    },
    {
      "cell_type": "code",
      "execution_count": 3,
      "metadata": {
        "id": "fgXbivuK14pm"
      },
      "outputs": [],
      "source": [
        "# compute mean and standard deviation over dataset\n",
        "# compute mean and standard deviation over dataset\n",
        "mean = np.mean(X, axis=1) #average for each row\n",
        "std = np.std(X, axis=1)\n",
        "\n",
        "# assure to handle x_0 correctly\n",
        "mean[0]=0\n",
        "std[0]=1 #avoid division by 0\n",
        "\n",
        "def normalize(x, mean, std):\n",
        "  # standardize the given data with the given meand and standard deviation\n",
        "  return ((x.T-mean)/std).T\n",
        "\n",
        "# normalize our dataset\n",
        "X = normalize(X, mean, std)"
      ]
    },
    {
      "cell_type": "markdown",
      "metadata": {
        "id": "o8xtpcod14pm"
      },
      "source": [
        "Task 3: Batch Processing\n",
        "------------------------\n",
        "\n",
        "Implement a function that turns the dataset $(X,T)$ into batches of a certain batch size $B$.\n",
        "Implement this function as a generator function, i.e., use ``yield`` instead of ``return``.\n",
        "Make sure that you yield both the input batch as well as the target batch.\n"
      ]
    },
    {
      "cell_type": "code",
      "execution_count": 4,
      "metadata": {
        "id": "Tmgq3TIx14pn"
      },
      "outputs": [],
      "source": [
        "def batch(X, T, batch_size=16):\n",
        "  shuffle = np.random.permutation(T.shape[1])\n",
        "  idx = 0\n",
        "  while True:\n",
        "    # shuffle dataset in each epoch\n",
        "    yield X[:,shuffle[idx:idx + batch_size]], T[:,shuffle[idx:idx + batch_size]]\n",
        "    idx += batch_size\n",
        "    if (idx >= T.shape[1]):\n",
        "      shuffle = np.random.permutation(T.shape[1])\n",
        "      idx = 0"
      ]
    },
    {
      "cell_type": "markdown",
      "metadata": {
        "id": "x1fU-1dc14pn"
      },
      "source": [
        "Test 2: Test your Batches\n",
        "-------------------------\n",
        "\n",
        "Make sure that your batch function returns batches in the correct size and with the correct content, i.e., $(\\vec x, \\vec t)$-alignment.\n",
        "Select appropriate test data that makes it easy to test this.\n",
        "\n",
        "Also check that the batches are in the correct dimensions, i.e., that $\\mathbf X \\in \\mathbb R^{(D+1)\\times B}$ and $\\mathbf T \\in \\mathbb R^{O\\times B}$"
      ]
    },
    {
      "cell_type": "code",
      "execution_count": 5,
      "metadata": {
        "colab": {
          "base_uri": "https://localhost:8080/"
        },
        "id": "SlkKkxRk14po",
        "outputId": "0812883b-b9f3-4fc6-8b1f-d447b7009053"
      },
      "outputs": [
        {
          "name": "stdout",
          "output_type": "stream",
          "text": [
            "Batches are as expected\n"
          ]
        }
      ],
      "source": [
        "# designe and create test data to test your batch processing function\n",
        "# designe and create test data to test your batch processing function\n",
        "xx = np.arange(0,40,2)\n",
        "XX=np.array([xx,10*xx]) #2x20\n",
        "TT = 2*XX\n",
        "\n",
        "for counter, (x,t) in enumerate(batch(XX, TT, 10)):\n",
        "  # test that the batches are in the desired form and content\n",
        "  assert np.all(t==2*x)\n",
        "\n",
        "  # we run this for a couple of batches, to assure that it works over some epochs\n",
        "  if counter == 20: break\n",
        "\n",
        "print(\"Batches are as expected\")"
      ]
    },
    {
      "cell_type": "markdown",
      "metadata": {
        "id": "ySigRKOG14po"
      },
      "source": [
        "Task 4: Multi-Output Network\n",
        "----------------------------\n",
        "\n",
        "Implement a multi-target network that computes the output matrix $\\mathbf Y$ for a given input dataset/batch $\\mathbf X$ and given parameters $\\Theta=(\\mathbf W^{(1)}, \\mathbf W^{(2)})$. \n",
        "The function should return both the output of the hidden units $\\mathbf H$ as well as the network output $\\mathbf Y$. Select $\\tanh$ as the activation function."
      ]
    },
    {
      "cell_type": "code",
      "execution_count": 6,
      "metadata": {
        "id": "9hiHDo3u14po"
      },
      "outputs": [],
      "source": [
        "def network(X, Theta):\n",
        "  W1, W2 = Theta\n",
        "\n",
        "  # compute activation\n",
        "  A = np.matmul(W1, X)\n",
        "\n",
        "  # compute hidden unit output\n",
        "  H = (np.exp(A) - np.exp(-A)) / (np.exp(A) + np.exp(-A))\n",
        "  H[0] = 1\n",
        "\n",
        "  # compute network output\n",
        "  Y = np.dot(W2, H)\n",
        "\n",
        "  return Y, H"
      ]
    },
    {
      "cell_type": "markdown",
      "metadata": {
        "id": "tMgdmHwI14pp"
      },
      "source": [
        "Task 5: Loss Implementation\n",
        "---------------------------\n",
        "\n",
        "Implement a function that computes the loss $\\mathcal J^{L_2}_\\Theta$ for a given network output $\\mathbf Y$, and their according targets $\\mathbf T$."
      ]
    },
    {
      "cell_type": "code",
      "execution_count": 7,
      "metadata": {
        "id": "PNe7C15L14pp"
      },
      "outputs": [],
      "source": [
        "def loss(Y, T):\n",
        "  N=len(Y[0])\n",
        "  return 1/N*np.linalg.norm(Y-T, \"fro\")**2 #Frobenius norm"
      ]
    },
    {
      "cell_type": "markdown",
      "metadata": {
        "id": "D45KJuaM14pp"
      },
      "source": [
        "Task 6: Gradient Implementation\n",
        "-------------------------------\n",
        "\n",
        "Implement a function that computes the gradient $\\nabla_\\Theta\\mathcal J^{L_2}$ for both weight matrices $\\Theta=(\\mathbf W^{(1)}, \\mathbf W^{(2)})$.\n",
        "Assume that the function gets the network input, $\\mathbf X$, its output $\\mathbf Y$, hidden unit activations $\\mathbf H$ and target values $\\mathbf T$.\n",
        "Remember that we have used $\\tanh$ as the activation function and change the implementation seen in the lecture accordingly.\n"
      ]
    },
    {
      "cell_type": "code",
      "execution_count": 8,
      "metadata": {
        "id": "biWML8rU14pq"
      },
      "outputs": [],
      "source": [
        "def gradient(X, T, Y, H, Theta):\n",
        "  W1, W2 = Theta\n",
        "\n",
        "  # first layer gradient\n",
        "  g1 = (2/np.shape(Y)[1])*np.dot((np.dot(W2.T,(Y-T))*(1-H**2)),X.T)\n",
        "  # second layer gradient\n",
        "  g2 = (2/np.shape(Y)[1])*(np.dot((Y-T),H.T))\n",
        " \n",
        "  return g1, g2"
      ]
    },
    {
      "cell_type": "markdown",
      "metadata": {
        "id": "JXJmvQ7M14pq"
      },
      "source": [
        "Task 7: Iterative Gradient Descent\n",
        "----------------------------------\n",
        "Implement the iterative gradient descent using the normalized dataset from Task 2, split into batches with the function from Task 3, the network from Task 4, the loss from Task 5 and the gradient from Task 6.\n",
        "Make sure that the network output $\\mathbf Y$ and the hidden unit output $\\mathbf H$ is computed only once for each batch.\n",
        "Store the loss values for each batch in a list and return it at the end.\n",
        "Use the number of epochs to be 10000, the batch size $B$, and the learning rate $\\eta=0.001$.\n",
        "How many iterations do we need when $B<N$?"
      ]
    },
    {
      "cell_type": "code",
      "execution_count": 9,
      "metadata": {
        "id": "ZsF68SLD14pq"
      },
      "outputs": [],
      "source": [
        "def gradient_descent(X, T, Theta, B, eta=0.001):\n",
        "  loss_values = []\n",
        "  (W1, W2) = Theta\n",
        "  max_epochs = 10000\n",
        "  epoch = 0\n",
        "  data_num = 0\n",
        "  x_ticks = []\n",
        "  # iterate over batches\n",
        "  gen = batch(X, T, batch_size=B)\n",
        "  for c, (x, t) in enumerate(gen):\n",
        "    # compute network output\n",
        "    (y, h) = network(x, (W1, W2))\n",
        "\n",
        "    # compute gradient\n",
        "    (g1, g2) = gradient(x, t, y, h, (W1, W2))\n",
        "\n",
        "    # compute and append loss\n",
        "    l = loss(y, t)\n",
        "\n",
        "    # and apply gradient descent\n",
        "    W1 -= eta * g1 \n",
        "    W2 -= eta * g2 \n",
        "\n",
        "    data_num += B\n",
        "    if data_num > len(T[0]):\n",
        "      epoch += 1\n",
        "      data_num = 0\n",
        "      loss_values.append(l)\n",
        "      if (epoch >= max_epochs):\n",
        "        break\n",
        "\n",
        "  # return the obtained loss values at the end\n",
        "  return loss_values"
      ]
    },
    {
      "cell_type": "markdown",
      "metadata": {
        "id": "JyXyAe8I14pq"
      },
      "source": [
        "Task 8: Run Gradient Descent\n",
        "----------------------------\n",
        "\n",
        "Select an appropriate number of hidden neurons $K$.\n",
        "Instantiate the weight matrices using the Xavier method as introduced in the lecture.\n",
        "Run the gradient descent twice, once as stochastic gradient descent with batch size $B=16$ and once as normal gradient descent.\n",
        "How can you achieve this without providing a different implementation for the ``gradient_descent`` function?\n"
      ]
    },
    {
      "cell_type": "code",
      "execution_count": 10,
      "metadata": {
        "id": "-bvOiCq414pq"
      },
      "outputs": [],
      "source": [
        "K = 20\n",
        "D = len(X)\n",
        "O = 3\n",
        "W1 = np.random.uniform(-1/np.sqrt(D), 1/np.sqrt(D), (K,D)) ######W0=0??\n",
        "W2 = np.random.uniform(-1/np.sqrt(D), 1/np.sqrt(D), (O,K))\n",
        "Theta = [W1, W2]\n",
        "\n",
        "import copy\n",
        "\n",
        "# run gradient descent with full dataset\n",
        "Theta1 = copy.deepcopy(Theta)\n",
        "GD = gradient_descent(X, T, Theta1, len(X[0]), eta=0.001)\n",
        "\n",
        "# run stochastic gradient descent with batches of size 16\n",
        "Theta2 = copy.deepcopy(Theta)\n",
        "SGD = gradient_descent(X, T, Theta2, 16, eta=0.001)"
      ]
    },
    {
      "cell_type": "markdown",
      "metadata": {
        "id": "cvHpEup814pr"
      },
      "source": [
        "Task 9: Plotting Loss Progression\n",
        "---------------------------------\n",
        "\n",
        "Plot the progression of the two gradient descent steps together into one plot.\n",
        "Do we need to take care of something when plotting both together?\n",
        "Choose logarithmic axes whenever you see fit."
      ]
    },
    {
      "cell_type": "code",
      "execution_count": 11,
      "metadata": {
        "colab": {
          "base_uri": "https://localhost:8080/",
          "height": 269
        },
        "id": "oKxY0oMz14pr",
        "outputId": "7aefa7fa-fc95-45bd-f350-cdd4083f20b7"
      },
      "outputs": [
        {
          "data": {
            "image/png": "[encoded data removed]",
            "text/plain": [
              "<Figure size 432x288 with 1 Axes>"
            ]
          },
          "metadata": {
            "needs_background": "light"
          },
          "output_type": "display_data"
        }
      ],
      "source": [
        "from matplotlib import pyplot\n",
        "\n",
        "pyplot.plot(SGD, \"b-\", label=\"Stochastic Gradient Descent\")\n",
        "pyplot.plot(GD, \"g-\", label=\"Gradient Descent\")\n",
        "pyplot.legend()\n",
        "pyplot.loglog()\n",
        "pyplot.show()"
      ]
    },
    {
      "cell_type": "markdown",
      "metadata": {
        "id": "7cKia1SB14pr"
      },
      "source": [
        "Task 10: Example Evaluation\n",
        "---------------------------\n",
        "\n",
        "We want to see what the network has learned.\n",
        "Therefore, we evaluate some data point that would represent a typical Swiss student (except for the school entry, where we select one of them randomly).\n",
        "We select appropriate information for all inputs, see https://archive.ics.uci.edu/ml/datasets/Student+Performance for an explanation of typical values.\n",
        "\n",
        "Also remember that input data need to be normalized before feeding it to the network."
      ]
    },
    {
      "cell_type": "code",
      "execution_count": 12,
      "metadata": {
        "colab": {
          "base_uri": "https://localhost:8080/"
        },
        "id": "sgNS9sJH14pr",
        "outputId": "21c84b4b-64d8-44ab-8f22-9a349839e965"
      },
      "outputs": [
        {
          "name": "stdout",
          "output_type": "stream",
          "text": [
            "Prediction :\t [[12.95429357 14.18527714  8.67407125]]\n"
          ]
        }
      ],
      "source": [
        "# select a specific example\n",
        "example = numpy.array([[\n",
        "  1., # BIAS\n",
        "  -1, # school (select -1 or 1)\n",
        "  1, # gender\n",
        "  18, # age\n",
        "  1, # adress\n",
        "  1, # family size\n",
        "  1, # parents living together\n",
        "  1, # mother education\n",
        "  1, # father education\n",
        "  1, # travel time\n",
        "  4, # study time\n",
        "  0, # class failure before\n",
        "\n",
        "  1, # support from school\n",
        "  1, # support from the family\n",
        "  1, # paid extra support\n",
        "  -1, # out-of-school activities\n",
        "  1, # nursery school\n",
        "  1, # want to do higher ed\n",
        "  1, # internet access\n",
        "  1, # romantic relation\n",
        "\n",
        "  1, # relation to family\n",
        "  3, # amount of free time\n",
        "  1, # go out with peers\n",
        "  6, # alcoholic drinks during week\n",
        "  1, # alcoholic drinks in the weekend\n",
        "  1, # health status\n",
        "  0 # days of absence\n",
        "]]).T\n",
        "\n",
        "example = normalize(example, mean, std)\n",
        "\n",
        "# compute network output\n",
        "prediction, h = network(example, Theta2)\n",
        "print(\"Prediction :\\t\", prediction.T)\n"
      ]
    },
    {
      "cell_type": "markdown",
      "metadata": {
        "id": "ARupZwp014ps"
      },
      "source": [
        "Task 11: Influence of Data Dimensions\n",
        "-------------------------------------\n",
        "\n",
        "We modify particular dimensions of the input and evaluate how this changes the predicted grades.\n",
        "Particularly, we test:\n",
        "\n",
        "* if it makes a difference to be female (-1) or male (1) at index 2\n",
        "* if the student takes paid classes (-1 or 1) at index 14\n",
        "* if a romantic relationship influences (-1 or 1) the results at index 19\n",
        "* how much of daily alcohol consumption (1-6) is still OK at index 23\n",
        "\n",
        "Note that the indexes include the fact that we are omitting some input dimensions, so they might differ to what is listed on the webpage.\n"
      ]
    },
    {
      "cell_type": "code",
      "execution_count": 13,
      "metadata": {
        "colab": {
          "base_uri": "https://localhost:8080/"
        },
        "id": "iZCnP9Be14ps",
        "outputId": "6005278f-319a-4cf8-a825-816cac5bb33d"
      },
      "outputs": [
        {
          "name": "stdout",
          "output_type": "stream",
          "text": [
            "For index: 2, value -0.9481763873554659, the predicted output is [[12.95672823 14.1649579   8.67044622]]\n",
            "For index: 2, value 1.0546560886092884, the predicted output is [[12.95429357 14.18527714  8.67407125]]\n",
            "For index: 14, value -0.9196708066060205, the predicted output is [[12.94423069 14.14026909  8.62990333]]\n",
            "For index: 14, value 1.0873455945507646, the predicted output is [[12.95429357 14.18527714  8.67407125]]\n",
            "For index: 19, value -0.7084498152194034, the predicted output is [[13.17262112 14.11204308  8.47218149]]\n",
            "For index: 19, value 1.4115325863841144, the predicted output is [[12.95429357 14.18527714  8.67407125]]\n",
            "For index: 23, value -0.5406986566036547, the predicted output is [[17.10796171 16.6049923  12.67616791]]\n",
            "For index: 23, value 0.583385392651312, the predicted output is [[17.88478987 17.83026278 13.49235493]]\n",
            "For index: 23, value 1.7074694419062786, the predicted output is [[17.28435371 17.77838633 13.21654874]]\n",
            "For index: 23, value 2.831553491161245, the predicted output is [[14.9211371  16.56179874 11.3060937 ]]\n",
            "For index: 23, value 3.9556375404162116, the predicted output is [[13.36128357 14.80440318  9.3200821 ]]\n"
          ]
        }
      ],
      "source": [
        "def predict_grade(x,theta, index, value):\n",
        "  x = x.copy()\n",
        "  x[index,:]=value\n",
        "  return network(x,theta)[0]\n",
        "\n",
        "# run this with the 4 modifications and their according values as seen above\n",
        "# note that we use normalized data in all cases (for X, example and values)\n",
        "for index in [2,14,19,23]:\n",
        "  for value in numpy.unique(X[index,:]):\n",
        "    print(\"For index: {}, value {}, the predicted output is {}\"\n",
        ".format(index,value,predict_grade(example,Theta2,index,value).T))"
      ]
    }
  ],
  "metadata": {
    "colab": {
      "collapsed_sections": [],
      "name": "Assignment04.ipynb",
      "provenance": []
    },
    "interpreter": {
      "hash": "2dd53f8ad749bca69f7250ce75eb4f0def59db5cf79075a9716322ffc58e8a2e"
    },
    "kernelspec": {
      "display_name": "Python 3.8.10 ('DL')",
      "language": "python",
      "name": "python3"
    },
    "language_info": {
      "codemirror_mode": {
        "name": "ipython",
        "version": 3
      },
      "file_extension": ".py",
      "mimetype": "text/x-python",
      "name": "python",
      "nbconvert_exporter": "python",
      "pygments_lexer": "ipython3",
      "version": "3.8.10"
    },
    "orig_nbformat": 4
  },
  "nbformat": 4,
  "nbformat_minor": 0
}
