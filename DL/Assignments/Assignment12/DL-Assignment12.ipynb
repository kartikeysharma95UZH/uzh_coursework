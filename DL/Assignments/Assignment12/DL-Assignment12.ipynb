{
 "cells": [
  {
   "cell_type": "markdown",
   "metadata": {},
   "source": [
    "Assignment 12: Radial Basis Function Network\n",
    "============================================\n",
    "\n",
    "\n",
    "Microsoft Forms Document: https://forms.office.com/r/Zyre1SxphD\n",
    "\n",
    "\n",
    "In our experiments we will apply this layer as the prior-to-last layer in our classification network, and try to learn two-dimensional deep feature representations for the MNIST dataset that are able to classify the digits into 10 different classes.\n",
    "\n",
    "We will use three different parameters here:\n",
    "\n",
    "* $D$ is the dimensionality of the deep features that feed into the RBF layer. We will use $D=2$ in out experiments to be able to visualize the computed feature space.\n",
    "* $K$ is the number of basis functions, i.e., the output dimension of the RBF layer.\n",
    "* $O$ is the number of outputs. Since we will work with MNIST, $O=10$ in our experiments.\n",
    "\n",
    "\n",
    "Task 1: Dataset\n",
    "---------------\n",
    "\n",
    "We will make use of the default implementations of the MNIST dataset.\n",
    "As usual, we will need the training and validation set splits of MNIST, including data loaders.\n",
    "Select appropriate batch sizes for training and validation set."
   ]
  },
  {
   "cell_type": "code",
   "execution_count": null,
   "metadata": {},
   "outputs": [],
   "source": [
    "import torch\n",
    "import torchvision\n",
    "\n",
    "# training set and data loader\n",
    "train_loader = ...\n",
    "\n",
    "# validation set and data loader\n",
    "validation_loader = ...\n",
    "\n",
    "device = torch.device(\"cuda\")"
   ]
  },
  {
   "cell_type": "markdown",
   "metadata": {},
   "source": [
    "Task 2: Radial Basis Function Layer\n",
    "-----------------------------------\n",
    "Implement the RBF layer as a `torch.nn.Module`.\n",
    "In `__inut__`, store the weight matrix (aka. the basis functions) as a `torch.nn.Parameter`, and initialize them randomly with values in range $[-2,2]$.\n",
    "In `forward`, compute and return the distances of the input to all *basis functions*, i.e., vectors stored in out weight matrix."
   ]
  },
  {
   "cell_type": "code",
   "execution_count": null,
   "metadata": {},
   "outputs": [],
   "source": [
    "class RBFLayer(torch.nn.Module):\n",
    "  def __init__(self, K, R):\n",
    "    # call base class constructor\n",
    "    super(RBFLayer, self).__init__()\n",
    "    # store a parameter for the basis functions\n",
    "    self.W = ...\n",
    "    # initialize the matrix between -2 and 2\n",
    "    ...\n",
    "\n",
    "  def forward(self, x):\n",
    "    # collect the required shape parameters, B, R, K\n",
    "    B, R, K = ...\n",
    "    # Bring the weight matrix of shape R,K to size B,R,K by adding batch dimension (B, dim 0)\n",
    "    W = ...\n",
    "    # Bring the input matrix of shape B,K to size B,R,K by adding R dimension (dim=1)\n",
    "    X = ...\n",
    "    # compute the activation \n",
    "    A = ...\n",
    "    return A"
   ]
  },
  {
   "cell_type": "markdown",
   "metadata": {},
   "source": [
    "Task 3: Radial Basis Function Activation\n",
    "----------------------------------------\n",
    "The activation function also requires a `Parameter`, i.e., the standard deviations of the Gaussian.\n",
    "Hence, we need to implement the activation function also as a `torch.nn.Module`.\n",
    "Here, we are treating the denominator of the Gaussian as a separate variable: `sigma2 = 2*sigma*sigma`.\n",
    "\n",
    "Implement the activation function with learnable `sigma2` parameters.\n",
    "Initialize all `sigma2` parameters with the value of 1."
   ]
  },
  {
   "cell_type": "code",
   "execution_count": null,
   "metadata": {},
   "outputs": [],
   "source": [
    "class RBFActivation(torch.nn.Module):\n",
    "  def __init__(self, R):\n",
    "    # call base class constructor\n",
    "    super(RBFActivation, self).__init__()\n",
    "    # store a parameter for the basis functions\n",
    "    self.sigma = ...\n",
    "  \n",
    "  def forward(self, x):\n",
    "    # implement the RBF activation function\n",
    "    return ..."
   ]
  },
  {
   "cell_type": "markdown",
   "metadata": {},
   "source": [
    "Test 1: RBF Layer and Activation\n",
    "--------------------------------\n",
    "\n",
    "Instantiate an RBF layer and an RBF activation function for $K=4$ and $R=10$.\n",
    "Generate a random batch of size $B=12$.\n",
    "Call both the RBF layer and the activation on the batch.\n",
    "Make sure that the resulting output is of shape $B\\times K$."
   ]
  },
  {
   "cell_type": "code",
   "execution_count": null,
   "metadata": {},
   "outputs": [],
   "source": [
    "# instantiate layer and activation\n",
    "test_layer = ...\n",
    "test_activation = ...\n",
    "\n",
    "# create test data batch\n",
    "test_data = ...\n",
    "\n",
    "# forward test data through the layer and the activation\n",
    "a = ...\n",
    "h = ...\n",
    "\n",
    "# check that the shape is correct\n",
    "..."
   ]
  },
  {
   "cell_type": "markdown",
   "metadata": {},
   "source": [
    "Task 4: Radial Basis Function Network\n",
    "-------------------------------------\n",
    "\n",
    "As the network, we rely on our convolutional network from Assignment 8.\n",
    "However, this time we add an RBF layer and its activation between the first and the second fully-connected layer.\n",
    "We will return both the deep features of dimension $K$ and the logits of dimension $O$.\n",
    "Note that the processing will happen on batch level."
   ]
  },
  {
   "cell_type": "code",
   "execution_count": null,
   "metadata": {},
   "outputs": [],
   "source": [
    "class RBFNetwork(torch.nn.Module):\n",
    "  def __init__(self, Q1, Q2, K, R, O):\n",
    "    # call base class constrcutor\n",
    "    super(RBFNetwork,self).__init__()\n",
    "    # convolutional define layers\n",
    "    self.conv1 = ...\n",
    "    self.conv2 = ...\n",
    "    # pooling and activation functions will be re-used for the different stages\n",
    "    self.pool = ...\n",
    "    self.act = ...\n",
    "    # define first fully-connected layer\n",
    "    self.flatten = ...\n",
    "    self.fc1 = ...\n",
    "    # define RBF layer and its activation\n",
    "    self.rbf_layer = ...\n",
    "    self.rbf_activation = ...\n",
    "    # define second fully-connected layer\n",
    "    self.fc2 = ...\n",
    "  \n",
    "  def forward(self,x):\n",
    "    # get the deep feature layer as the output of the first fully-connected layer\n",
    "    deep_feature = ...\n",
    "    # apply the RBF layer and activation\n",
    "    ...\n",
    "    # apply the last fully-connected layer to obtain the logits\n",
    "    logits = ...\n",
    "    # return both the logits and the deep features\n",
    "    return logits, deep_feature\n"
   ]
  },
  {
   "cell_type": "markdown",
   "metadata": {},
   "source": [
    "Task 5: Training and Validation Loop\n",
    "------------------------------------\n",
    "\n",
    "The training and validation loop is as usual.\n",
    "Instantiate the network with $Q_1=32$, $Q_2=64$, $K=2$, $R=100$ and $O=10$.\n",
    "Instantiate loss function and optimizer.\n",
    "Train the network on the training set.\n",
    "Compute the validation set accuracy after each epoch of training.\n",
    "\n",
    "Hint: The validation set accuracy after the first epoch should be more than 80%. \n",
    "If it is much lower, increase the learning rate and/or change the optimizer.\n",
    "On the other hand, should the accuracy get stuck around 10% and does not change over the epochs, reduce the learning rate."
   ]
  },
  {
   "cell_type": "code",
   "execution_count": null,
   "metadata": {},
   "outputs": [],
   "source": [
    "network = ...\n",
    "optimizer = ...\n",
    "loss = ...\n",
    "\n",
    "for epoch in range(20):\n",
    "  for x,t in train_loader:\n",
    "    # train network with the current batch\n",
    "    ...\n",
    "\n",
    "  # compute validation set accuracy\n",
    "  correct = 0\n",
    "  with torch.no_grad():\n",
    "    for x,t in validation_loader:\n",
    "      # compute accuracy for current batch\n",
    "      ...\n",
    "\n",
    "  print(F\"Epoch {epoch+1}; test accuracy: {correct/...:1.4f}\")"
   ]
  },
  {
   "cell_type": "markdown",
   "metadata": {},
   "source": [
    "Task 6: Deep Feature Extraction\n",
    "-------------------------------\n",
    "\n",
    "Extract the deep feature representations from the validation set.\n",
    "Separate them by target class.\n"
   ]
  },
  {
   "cell_type": "code",
   "execution_count": null,
   "metadata": {},
   "outputs": [],
   "source": [
    "import numpy\n",
    "\n",
    "# extract all deep features for all validation set samples\n",
    "features = [[] for _ in range(10)]\n",
    "\n",
    "with torch.no_grad():\n",
    "  for x,t in validation_loader:\n",
    "    # extract deep features\n",
    "    ...\n",
    "    # separate the 10 different targets into separate lists\n",
    "    ...\n",
    "\n",
    "# convert features to numpy for later processing/plotting\n",
    "features = [numpy.array(f) for f in features]"
   ]
  },
  {
   "cell_type": "markdown",
   "metadata": {},
   "source": [
    "Task 7: Deep Feature Visualization\n",
    "----------------------------------\n",
    "\n",
    "Obtain a list of 10 distinct colors.\n",
    "Plot a dot for each in the 2-D space, maybe using `pyplot.scatter`.\n",
    "Plot these dots with a different color for each class.\n",
    "\n",
    "Task 8: Basis Function Visualization\n",
    "------------------------------------\n",
    "\n",
    "Obtain the learned basis functions $\\vec w_r$ and their according sizes $\\sigma_r$ from the trained network.\n",
    "Draw black circles centered at $\\vec w_r$ and with radii corresponding to $\\sigma_r$ on top of the deep feature plot.\n",
    "Note that the `s=` parameter to the `scatter` function is given in pts.\n",
    "\n",
    "Note: Since each notebook cell uses its own drawing process, we need to combine Tasks 7 and 8 here."
   ]
  },
  {
   "cell_type": "code",
   "execution_count": null,
   "metadata": {},
   "outputs": [],
   "source": [
    "from matplotlib import pyplot\n",
    "\n",
    "# define 10 visually distinct colors\n",
    "colors = numpy.array([\n",
    "    [230, 25, 75],\n",
    "    [60, 180, 75],\n",
    "    [255, 225, 25],\n",
    "    [67, 99, 216],\n",
    "    [245, 130, 49],\n",
    "    [145, 30, 180],\n",
    "    [70, 240, 240],\n",
    "    [240, 50, 230],\n",
    "    [188, 246, 12],\n",
    "    [250, 190, 190],\n",
    "]) / 255.\n",
    "\n",
    "\n",
    "# generate 10 scatter plots, one for each label\n",
    "...\n",
    "\n",
    "\n",
    "# get the basis functions from the rbf layer\n",
    "basis_functions = ...\n",
    "# get the basis functions from the rbf activation\n",
    "sigmas = ...\n",
    "\n",
    "# plot learned centers\n",
    "pyplot.scatter(..., ..., color=\"k\", marker=\"o\", s=..., facecolors=\"none\")\n",
    "\n",
    "# make the plot more beatuiful\n",
    "..."
   ]
  }
 ],
 "metadata": {
  "interpreter": {
   "hash": "a29cabff5744fce69e08a959ab87b9e77a9f67b498d08783caa8c3bb16f23a00"
  },
  "kernelspec": {
   "display_name": "Python 3.8.10 ('DL')",
   "language": "python",
   "name": "python3"
  },
  "language_info": {
   "codemirror_mode": {
    "name": "ipython",
    "version": 3
   },
   "file_extension": ".py",
   "mimetype": "text/x-python",
   "name": "python",
   "nbconvert_exporter": "python",
   "pygments_lexer": "ipython3",
   "version": "3.8.13"
  },
  "orig_nbformat": 4
 },
 "nbformat": 4,
 "nbformat_minor": 2
}
