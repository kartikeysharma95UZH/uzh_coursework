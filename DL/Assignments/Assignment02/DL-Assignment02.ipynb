{
 "cells": [
  {
   "cell_type": "markdown",
   "metadata": {},
   "source": [
    "Assignment 2: Gradient Descent\n",
    "==============================\n",
    "\n",
    "\n",
    "Microsoft Forms Document: https://forms.office.com/r/kkt8SK1HA8\n",
    "\n",
    "The loss function is manually defined as $\\mathcal J_{\\vec w}=w_0^2 + w_1^2 + 20 \\sin(w_0) \\cos(w_1)$.\n",
    "The weights $\\vec w = (w_0, w_1)^T$ shall be optimized such that the loss function has a minimum.\n",
    "\n",
    "\n",
    "Task 1: Compute the Gradient\n",
    "----------------------------\n",
    "\n",
    "The gradient is defined as the partial derivatives of the loss function with respect to the two variables $w_0$ and $w_1$.\n",
    "We need to calculate it:\n",
    "\n",
    "...\n",
    "\n",
    "Task 2: Implement the Loss Function\n",
    "-----------------------------------\n"
   ]
  },
  {
   "cell_type": "code",
   "execution_count": null,
   "metadata": {},
   "outputs": [],
   "source": [
    "import numpy\n",
    "\n",
    "def loss(w):\n",
    "  return ..."
   ]
  },
  {
   "cell_type": "markdown",
   "metadata": {},
   "source": [
    "Task 3: Implement the Gradient\n",
    "------------------------------\n",
    "Remeber that the gradient needs to be computed and returned for both $w_0$ and $w_1$."
   ]
  },
  {
   "cell_type": "code",
   "execution_count": null,
   "metadata": {},
   "outputs": [],
   "source": [
    "def gradient(w):\n",
    "  return ..."
   ]
  },
  {
   "cell_type": "markdown",
   "metadata": {},
   "source": [
    "Test 1: Test Functions\n",
    "----------------------\n",
    "Test the two functions defined in the task above with $\\vec w = (0,0)^T$ . What should be the expected outcomes?"
   ]
  },
  {
   "cell_type": "code",
   "execution_count": null,
   "metadata": {},
   "outputs": [],
   "source": [
    "w = numpy.zeros(2)\n",
    "\n",
    "# analytically compute the expected values\n",
    "expected_loss = ...\n",
    "expected_gradient = ...\n",
    "\n",
    "# test loss function\n",
    "assert abs(loss(w) - expected_loss) < 1e-8\n",
    "assert numpy.all(numpy.abs(gradient(w) - expected_gradient) < 1e-8)"
   ]
  },
  {
   "cell_type": "markdown",
   "metadata": {},
   "source": [
    "Gradient descent is an iterative algorithm that requires to define a proper stopping criterion.\n",
    "There are several possibilities.\n",
    "Chose at least one.\n",
    "\n",
    "Task 4: Termination Criterion\n",
    "-----------------------------\n",
    "\n",
    "...\n",
    "\n",
    "Task 5: Implement Gradient Descent\n",
    "----------------------------------\n",
    "\n",
    "We want to implement a function that performs gradient descent.\n",
    "We want this function to be very flexible, hence the functions to compute the gradient and the loss are provided as parameters."
   ]
  },
  {
   "cell_type": "code",
   "execution_count": null,
   "metadata": {},
   "outputs": [],
   "source": [
    "def gradient_descent(w, eta=0.01):\n",
    "  # copy the weights to not modify the original values\n",
    "  w_star = ...\n",
    "\n",
    "  # perform iterative gradient descent\n",
    "  while ...:\n",
    "    # compute the gradient\n",
    "    ...\n",
    "\n",
    "    # update the weights\n",
    "    ...\n",
    "\n",
    "  return w_star"
   ]
  },
  {
   "cell_type": "markdown",
   "metadata": {},
   "source": [
    "Task 6: Evaluate Gradient Descent\n",
    "---------------------------------\n",
    "\n",
    "We call gradient descent 1000 times with different random values for $\\vec w\\in[-20,20]^2$ and a learning rate of $\\eta=0.01$. Store the resulting weight vectors."
   ]
  },
  {
   "cell_type": "code",
   "execution_count": null,
   "metadata": {},
   "outputs": [],
   "source": [
    "stored_weights = []\n",
    "\n",
    "for i in range(1000):\n",
    "  # create random weight vector\n",
    "  w = ...\n",
    "  # call gradient descent\n",
    "  w_star = ...\n",
    "  # store it in the list\n",
    "  ..."
   ]
  },
  {
   "cell_type": "markdown",
   "metadata": {},
   "source": [
    "Test 2: Check Minima\n",
    "--------------------\n",
    "\n",
    "Counting the number of local minima in our loss function, we reach a total of 16. Make sure that the number of minima that are reached is not higher than that!"
   ]
  },
  {
   "cell_type": "code",
   "execution_count": null,
   "metadata": {},
   "outputs": [],
   "source": [
    "maximum_number_of_minima = 16\n",
    "\n",
    "# compute the number of reached minima \n",
    "number_of_reached_minima = ...\n",
    "\n",
    "assert number_of_reached_minima <= maximum_number_of_minima"
   ]
  },
  {
   "cell_type": "markdown",
   "metadata": {},
   "source": [
    "Task 7: Find global minimum\n",
    "---------------------------\n",
    "From the 1000 result vectors, select the one with the minimum loss and print both of them."
   ]
  },
  {
   "cell_type": "code",
   "execution_count": null,
   "metadata": {},
   "outputs": [],
   "source": [
    "minimum_loss = ...\n",
    "minimum_weights = ...\n",
    "\n",
    "print(\"The minimum loss value of:\", minimum_loss, \"was found for minimum\", minimum_weights)"
   ]
  },
  {
   "cell_type": "markdown",
   "metadata": {},
   "source": [
    "Task 8: Loss Surface Plot\n",
    "-------------------------\n",
    "\n",
    "Plot the loss surface and the optimized points into the same 3D plot.\n",
    "Chose the range for $w_0$ and $w_1$ to be in $[-10,10]$.\n",
    "\n",
    "When plotting the resulting optimized weights $\\vec w=(w_0, w_1)^T$, we need to define the third coordinate. What should this coordinate be?\n"
   ]
  },
  {
   "cell_type": "code",
   "execution_count": null,
   "metadata": {},
   "outputs": [],
   "source": [
    "from matplotlib import pyplot\n",
    "\n",
    "# create 3D axis\n",
    "figure = pyplot.figure()\n",
    "axis = figure.add_subplot(111, projection='3d', azim = -40, elev=50)\n",
    "\n",
    "# define range to plot\n",
    "w_range = ...\n",
    "w0, w1 = numpy.meshgrid(w_range,w_range)\n",
    "\n",
    "# compute loss for w0 and w1\n",
    "J = ...\n",
    "\n",
    "# plot surface with jet colormap\n",
    "axis.plot_surface(w0, w1, J, cmap=\"jet\", alpha=0.8)\n",
    "\n",
    "# plot resulting points in 3D\n",
    "for w_star in stored_weights:\n",
    "  # compute the z-position)\n",
    "  z = ...\n",
    "  # plot as 3D point\n",
    "  axis.plot([w_star[0]], [w_star[1]], [z], \"kx-\")"
   ]
  }
 ],
 "metadata": {
  "interpreter": {
   "hash": "2dd53f8ad749bca69f7250ce75eb4f0def59db5cf79075a9716322ffc58e8a2e"
  },
  "kernelspec": {
   "display_name": "Python 3.8.10 ('DL')",
   "language": "python",
   "name": "python3"
  },
  "language_info": {
   "codemirror_mode": {
    "name": "ipython",
    "version": 3
   },
   "file_extension": ".py",
   "mimetype": "text/x-python",
   "name": "python",
   "nbconvert_exporter": "python",
   "pygments_lexer": "ipython3",
   "version": "3.8.10"
  },
  "orig_nbformat": 4
 },
 "nbformat": 4,
 "nbformat_minor": 2
}
