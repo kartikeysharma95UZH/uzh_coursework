{
  "cells": [
    {
      "cell_type": "markdown",
      "metadata": {
        "id": "3C5Hmw6V8_l5"
      },
      "source": [
        "Assignment 10: Learn to Write Like Shakespeare\n",
        "==============================================\n",
        "\n",
        "\n",
        "Microsoft Forms Document: https://forms.office.com/r/xs1Xb1pe3g\n",
        "\n",
        "In this assignment we will implement a simple recurrent network with one hidden layer.\n",
        "We train this network on a medium-size poem \"The Sonnet\" written by William Shakespeare and use it for auto-completing sentences/phrases.\n",
        "\n",
        "The data that we will use is originally provided here: http://raw.githubusercontent.com/brunoklein99/deep-learning-notes/master/shakespeare.txt"
      ]
    },
    {
      "cell_type": "code",
      "execution_count": 1,
      "metadata": {
        "id": "-B5466Y28_l7"
      },
      "outputs": [
        {
          "name": "stdout",
          "output_type": "stream",
          "text": [
            "Downloaded datafile shakespeare.txt\n"
          ]
        }
      ],
      "source": [
        "import os\n",
        "import random\n",
        "import torch\n",
        "\n",
        "# download the data file\n",
        "filename = \"shakespeare.txt\"\n",
        "if not os.path.exists(filename):\n",
        "  url = \"http://raw.githubusercontent.com/brunoklein99/deep-learning-notes/master/\"\n",
        "  import urllib.request\n",
        "  urllib.request.urlretrieve(url+filename, filename)\n",
        "  print (\"Downloaded datafile\", filename)\n",
        "\n",
        "# select to run everything on CUDA\n",
        "device = torch.device(\"cuda\")"
      ]
    },
    {
      "cell_type": "markdown",
      "metadata": {
        "id": "w4ZLiewB8_l8"
      },
      "source": [
        "We need to parse the data and turn it into a representation from which we can learn.\n",
        "First, we need to count the number of unique characters to obtain the dimension $D$ of out input and output.\n",
        "Then, we need to obtain one-hot encoding vectors for each of the characters.\n",
        "Finally, we need to implement sequences and their according targets, using zero-padding where required.\n",
        "\n",
        "Task 1: Data Characteristics\n",
        "----------------------------\n",
        "\n",
        "Load all text data from the file `shakespeare.txt`.\n",
        "Count the number of unique characters contained in the poem. \n",
        "Here, we consider only lower-case characters to reduce the alphabet size.\n",
        "At the same time, we also store the complete poem in a data variable.\n",
        "\n",
        "Please make sure that you handle the newline character at the end of each line correctly and consistently.\n"
      ]
    },
    {
      "cell_type": "code",
      "execution_count": 2,
      "metadata": {
        "colab": {
          "base_uri": "https://localhost:8080/"
        },
        "id": "mJkfgNhV8_l8",
        "outputId": "6871f18d-35eb-4df8-b114-4eaec25e13ff"
      },
      "outputs": [
        {
          "name": "stdout",
          "output_type": "stream",
          "text": [
            "Collected a total of 93716 elements of 37 unique characters\n"
          ]
        }
      ],
      "source": [
        "# load all data from the text file\n",
        "with open(\"shakespeare.txt\") as file:\n",
        "  data = ' '.join(file.read().lower().split())\n",
        "\n",
        "# extract a list of all unique characters\n",
        "characters = sorted(list(set(data)))\n",
        "\n",
        "D = len(characters)\n",
        "print (f\"Collected a total of {len(data)} elements of {D} unique characters\")"
      ]
    },
    {
      "cell_type": "markdown",
      "metadata": {
        "id": "quvoutqJ8_l8"
      },
      "source": [
        "Task 2: One-hot Encoding\n",
        "------------------------\n",
        "\n",
        "Each of the characters need to be represented by a one-hot encoding.\n",
        "Create a dictionary that provides the encoding for each unique character."
      ]
    },
    {
      "cell_type": "code",
      "execution_count": 3,
      "metadata": {
        "id": "cSZg_iws8_l9"
      },
      "outputs": [],
      "source": [
        "one_hot = dict()\n",
        "for i,c in enumerate(characters):\n",
        "  one_hot[c] = torch.zeros(D)\n",
        "  one_hot[c][i] = 1"
      ]
    },
    {
      "cell_type": "markdown",
      "metadata": {
        "id": "-GgtQaqt8_l9"
      },
      "source": [
        "Task 3: Sequence Coding\n",
        "-----------------------\n",
        "\n",
        "Write a function that provides the inputs and targets for a given sequence of the specified sequence length.\n",
        "The last value of the target sequence should be the character of the given index.\n",
        "If a character would be requested from outside of the data range, prepend the inputs (and the targets) with 0.\n",
        "Assure that $\\vec t^{\\{s\\}} = \\vec x^{\\{s+1\\}}$ $\\forall s<S$."
      ]
    },
    {
      "cell_type": "code",
      "execution_count": 4,
      "metadata": {
        "id": "0xuoDLbK8_l9"
      },
      "outputs": [],
      "source": [
        "def enc(index, list):\n",
        "  if 0 <= index < len(data):\n",
        "    char = data[index]\n",
        "    list.append(one_hot[char])\n",
        "  else:\n",
        "    list.append(torch.tensor([0] * D))\n",
        "\n",
        "\n",
        "def sequence(index, S):\n",
        "  # collect both input and target encodings\n",
        "  inputs, targets = [], []\n",
        "  # go through the sequence and turn characters into encodings\n",
        "  for s in range(S):\n",
        "    enc(index - S + s, inputs)\n",
        "    enc(index - S + s + 1, targets)\n",
        "\n",
        "  return torch.stack(inputs), torch.stack(targets)"
      ]
    },
    {
      "cell_type": "markdown",
      "metadata": {
        "id": "dLzKgekK8_l9"
      },
      "source": [
        "Test 1: Sequences\n",
        "-----------------\n",
        "\n",
        "Get a sequence for size 5 with index 2. Assure that the data and target vectors are as desired, i.e., the first elements are 0 vectors, and later one-hot encoded data is added."
      ]
    },
    {
      "cell_type": "code",
      "execution_count": 5,
      "metadata": {
        "id": "zfaOVXdT8_l-"
      },
      "outputs": [],
      "source": [
        "# get sequence\n",
        "x,t = sequence(2,5)\n",
        "\n",
        "# perform checks\n",
        "x_expected = torch.stack([torch.zeros(D),torch.zeros(D),torch.zeros(D),one_hot[data[0]],one_hot[data[1]]])\n",
        "t_expected = torch.stack([torch.zeros(D),torch.zeros(D),one_hot[data[0]],one_hot[data[1]],one_hot[data[2]]])\n",
        "\n",
        "assert torch.all(x == x_expected)\n",
        "assert torch.all(t == t_expected)"
      ]
    },
    {
      "cell_type": "markdown",
      "metadata": {
        "id": "3a_hJeE48_l-"
      },
      "source": [
        "We use the standard data loader with a batch size of $B=256$. Theoretically, each training sample could have its own sequence length $S$. To enable batch processing, the sequence size must be the same for each element in the batch (otherwise it cannot be transformed as one large tensor). Thus, our dataset needs to have a fixed sequence size $S$.\n",
        "\n",
        "Task 4: Dataset and Data Loader\n",
        "-------------------------------\n",
        "Implement a dataset that takes parameters $N$ (size of the dataset) and $S$ (size of the sequence).\n",
        "In the `__getitem__` function, return the `sequence` (using the function of Task 3) for the sample with the given index, i.e., both the input and the target sequence.\n"
      ]
    },
    {
      "cell_type": "code",
      "execution_count": 6,
      "metadata": {
        "id": "_FEEFUPq8_l-"
      },
      "outputs": [],
      "source": [
        "class Dataset(torch.utils.data.Dataset):\n",
        "  def __init__(self, data, S):\n",
        "    self.S = S\n",
        "    self.data = data\n",
        "    self.N = len(data)\n",
        "\n",
        "  def __getitem__(self, index):\n",
        "    return sequence(index, self.S)\n",
        "\n",
        "  def __len__(self):\n",
        "    return self.N\n",
        "\n",
        "\n",
        "dataset = Dataset(data, 5)\n",
        "data_loader = torch.utils.data.DataLoader(dataset, batch_size=256, shuffle=True)"
      ]
    },
    {
      "cell_type": "markdown",
      "metadata": {
        "id": "zhc_1h5g8_l_"
      },
      "source": [
        "Test 2: Data Sizes\n",
        "------------------\n",
        "\n",
        "Check that all samples in the dataset have the desired size and behavior."
      ]
    },
    {
      "cell_type": "code",
      "execution_count": 7,
      "metadata": {
        "id": "f_8qzbSy8_l_"
      },
      "outputs": [],
      "source": [
        "for i, (x, t) in enumerate(data_loader):\n",
        "  if i == len(data_loader) - 1:\n",
        "    continue\n",
        "  # check that the data and targets are as expected\n",
        "  assert x.size() == (256, 5, D)\n",
        "  assert t.size() == (256, 5, D)\n",
        "  assert x[:,1:].tolist() == t[:,:-1].tolist()"
      ]
    },
    {
      "cell_type": "markdown",
      "metadata": {
        "id": "pweYna068_l_"
      },
      "source": [
        "Task 5: Elman Network Implementation\n",
        "------------------------------------\n",
        "\n",
        "Manually implement an Elman network using one fully-connected layer for hidden, recurrent and output units.\n",
        "\n",
        "Implement the processing of the input in the Elman network. Make sure that logit values are computed and returned for each element in the sequence. Try to use as much tensor processing as possible. Remember the shape of $X$ is $B\\times S\\times D$, and when going through the sequence, we need to process $\\vec x^{\\{s\\}}$ separately, while working on all batch elements simultaneously."
      ]
    },
    {
      "cell_type": "code",
      "execution_count": 8,
      "metadata": {
        "id": "Ksy7PvkM8_l_"
      },
      "outputs": [],
      "source": [
        "class ElmanNetwork(torch.nn.Module):\n",
        "  def __init__(self, D, K):\n",
        "    super(ElmanNetwork,self).__init__()\n",
        "    self.W1 = torch.nn.Linear(D, K)\n",
        "    self.Wr = torch.nn.Linear(K, K)\n",
        "    self.W2 = torch.nn.Linear(K, D)\n",
        "    self.activation = torch.nn.PReLU()\n",
        "    self.K = K\n",
        "\n",
        "  def forward(self, x):\n",
        "    # get the shape of the data\n",
        "    B, S, D = x.shape\n",
        "    # initialize the hidden vector in the desired size with 0\n",
        "    # remember to put it on the device\n",
        "    h_s = torch.zeros((B,self.K)).to(device)\n",
        "    # store all logits (we will need them in the loss function)\n",
        "    Z = torch.empty(x.shape, device=device)\n",
        "    # iterate over the sequence\n",
        "    for s in range(S):\n",
        "      # use current sequence item\n",
        "      x_s = x[:, s]\n",
        "      # compute recurrent activation\n",
        "      a_s = self.W1(x_s) + self.Wr(h_s)\n",
        "      # apply activation function\n",
        "      h_s = self.activation(a_s)\n",
        "      # compute logit values\n",
        "      z = self.W2(h_s)\n",
        "      # store logit value\n",
        "      Z[:,s] = z\n",
        "\n",
        "    # return logits for all sequence elements\n",
        "    return Z"
      ]
    },
    {
      "cell_type": "markdown",
      "metadata": {
        "id": "trH27pZr8_l_"
      },
      "source": [
        "Test 3: Network Output\n",
        "----------------------\n",
        "\n",
        "Instantiate an Elman network with arbitrary numbers for $D$ and $K$.\n",
        "Generate training samples in a given format, forward them through the network and assure that the results are in the required dimensionality."
      ]
    },
    {
      "cell_type": "code",
      "execution_count": 9,
      "metadata": {
        "id": "5SsG4sgg8_mA"
      },
      "outputs": [],
      "source": [
        "# instantiate test network\n",
        "test_network = ElmanNetwork(10, 10).to(device)\n",
        "\n",
        "# create test input in size BxSxD\n",
        "test_input = torch.rand((256, 10, 10)).to(device)\n",
        "# get the network output\n",
        "test_output = test_network(test_input)\n",
        "# check that the netowrk output size is as intended\n",
        "assert test_output.shape == (256, 10, 10)"
      ]
    },
    {
      "cell_type": "markdown",
      "metadata": {
        "id": "LQEkZNds8_mA"
      },
      "source": [
        "To train the Elman network, we will use categorical cross-entropy loss, averaged over all samples in the sequence.\n",
        "For each batch, we will use a different sequence size -- while the size inside a batch must stay the same.\n",
        "\n",
        "According to the PyTorch documentation, the `CrossEntropyLoss` handles logits and targets in shape $B\\times O\\times\\ldots$.\n",
        "In our case, logits and targets are in dimension $B\\times S\\times O$.\n",
        "Hence, we need to make sure that we re-order the indexes such that we fulfil the requirement; you might want to use the `permute` operator.\n",
        "\n",
        "WARNING: `CrossEntropyLoss` will not complain when the order for the `CrossEntropyLoss` is wrong, just the results will be wrong.\n",
        "\n",
        "\n",
        "Task 6: Training Loop\n",
        "---------------------\n",
        "Instantiate the optimizer with an appropriate learning rate $\\eta$ and the loss function.\n",
        "Implement the training loop for 10 epochs -- more epochs will further improve the results.\n",
        "Compute the average training loss per epoch.\n",
        "Possibly, at the end of each batch, overwrite the `dataset.S` with a value randomly samples from $S\\in[5,20]$.\n",
        "\n",
        "Note that 10 epochs will train for about 2 minutes, if implemented in an optimized way, on the GPU. Non-optimized training will take considerably longer.\n"
      ]
    },
    {
      "cell_type": "code",
      "execution_count": 10,
      "metadata": {
        "colab": {
          "base_uri": "https://localhost:8080/"
        },
        "id": "i6Il59vN8_mA",
        "outputId": "0669cc47-1e04-4a3a-901c-e29c44cd4066"
      },
      "outputs": [
        {
          "name": "stdout",
          "output_type": "stream",
          "text": [
            "Epoch 1; train loss: 2.24843\n",
            "Epoch 2; train loss: 1.80057\n",
            "Epoch 3; train loss: 1.62496\n",
            "Epoch 4; train loss: 1.49075\n",
            "Epoch 5; train loss: 1.40887\n",
            "Epoch 6; train loss: 1.31558\n",
            "Epoch 7; train loss: 1.24233\n",
            "Epoch 8; train loss: 1.18338\n",
            "Epoch 9; train loss: 1.16234\n",
            "Epoch 10; train loss: 1.14440\n"
          ]
        }
      ],
      "source": [
        "network = ElmanNetwork(D,K=1000).to(device)\n",
        "optimizer = torch.optim.Adam(\n",
        "  params=network.parameters(),\n",
        "  lr=1e-3\n",
        ")\n",
        "loss = torch.nn.CrossEntropyLoss()\n",
        "\n",
        "for epoch in range(10):\n",
        "  # create random sequence\n",
        "  train_loss = 0.\n",
        "\n",
        "  for x, t in data_loader:\n",
        "    x = x.to(device)\n",
        "    t = t.to(device)\n",
        "    optimizer.zero_grad()\n",
        "    # compute network output\n",
        "    z = network(x)\n",
        "    # compute loss, arrange order of logits and targets\n",
        "    J = loss(z.permute(0,2,1),t.permute(0,2,1))\n",
        "    # compute gradient for this batch\n",
        "    J.backward()\n",
        "    optimizer.step()\n",
        "    # compute average loss\n",
        "    train_loss += J.item()\n",
        "    # select a new sequence length S in [5,20]\n",
        "    dataset.S = torch.randint(5,20,(1,))\n",
        "\n",
        "  # print average loss for training and validation\n",
        "  print(f\"\\rEpoch {epoch+1}; train loss: {train_loss/len(data_loader):1.5f}\")"
      ]
    },
    {
      "cell_type": "markdown",
      "metadata": {
        "id": "FtUMB-Go8_mA"
      },
      "source": [
        "Task 7: Text Encoding\n",
        "---------------------\n",
        "For a given text (a sequence of $S$ characters), provide the encoding $\\mathcal X \\in R^{B\\times S\\times D}$.\n",
        "Assure that the batch index $B=1$ is added to the encoding, so that the network is able to handle it."
      ]
    },
    {
      "cell_type": "code",
      "execution_count": 11,
      "metadata": {
        "id": "nsE_DBKs8_mB"
      },
      "outputs": [],
      "source": [
        "def encode(text):\n",
        "  text = text.lower()\n",
        "  S = len(text)\n",
        "  encoding = torch.zeros((1,S,D))\n",
        "  for i,c in enumerate(text):\n",
        "    encoding[0][i] = one_hot[c]\n",
        "  return encoding"
      ]
    },
    {
      "cell_type": "markdown",
      "metadata": {
        "id": "zC2Zi_Kq8_mB"
      },
      "source": [
        "Task 8: Next Element Prediction\n",
        "-------------------------------\n",
        "\n",
        "Implement a function that return the next character from the logits returned by the network.\n",
        "Note that the logits are in dimension $\\mathcal Y \\in \\mathbb R^{B\\times S\\times D}$ with $B=1$, and we are generally only interested in the prediction for the last sequence item.\n",
        "\n",
        "Select the character with the highest SoftMax probability $\\max_o z^{\\{S\\}}_o$ and append this character to the `text`.\n",
        "Alternatively, we can also randomly draw a character based on the SoftMax probability distribution $\\vec y^{\\{S\\}}$. `random.choices` provides the possibility to pass a list of characters and a list of probabilities."
      ]
    },
    {
      "cell_type": "code",
      "execution_count": 12,
      "metadata": {
        "id": "4bYoiQFV8_mB"
      },
      "outputs": [],
      "source": [
        "def predict(z, use_best):\n",
        "  # B, S, D = z.shape\n",
        "  # select the appropriate logits\n",
        "  z_S = z[0,-1]\n",
        "  softmax = torch.nn.Softmax(dim=0)\n",
        "  probability = softmax(z_S)\n",
        "  if use_best:\n",
        "    best_index = torch.argmax(probability)\n",
        "    # take character with maximum probability\n",
        "    next_char = characters[best_index]\n",
        "  else:\n",
        "    # sample character based on class probabilities\n",
        "    next_char = random.choices(characters,probability)[0]\n",
        "  return next_char"
      ]
    },
    {
      "cell_type": "markdown",
      "metadata": {
        "id": "6XUbpPQS8_mB"
      },
      "source": [
        "Task 9: Sequence Completion\n",
        "---------------------------\n",
        "\n",
        "Write a function that takes a `seed` text which it will complete with the given number of characters.\n",
        "Write a loop that turns the current `text` into an encoded sequence of its characters using the function from Task 7.\n",
        "Forward the text through the network and take the prediction of the last sequence item $\\vec z^{\\{S\\}}$ using the function from Task 8.\n",
        "Append this to the current text (remember that Python strings are immutable).\n",
        "Repeat this loop 80 times, and return the resulting `text`."
      ]
    },
    {
      "cell_type": "code",
      "execution_count": 13,
      "metadata": {
        "id": "Sny6Zpt78_mB"
      },
      "outputs": [],
      "source": [
        "def sequence_completion(seed, count, use_best):\n",
        "  # we start with the given seed\n",
        "  text = seed\n",
        "  for i in range(count):\n",
        "    # predict the next character\n",
        "    z = network(encode(text).to(device))\n",
        "    next_char = predict(z,use_best)\n",
        "    # append character to text\n",
        "    text += next_char\n",
        "\n",
        "  return text"
      ]
    },
    {
      "cell_type": "markdown",
      "metadata": {
        "id": "ipf82lfC8_mB"
      },
      "source": [
        "Task 10: Text Production\n",
        "-----------------------\n",
        "\n",
        "Select several seeds (such as `\"the \", \"beau\", \"mothe\", \"bloo\"`) and let the network predict the following 80 most probable characters, or using probability sampling.\n",
        "Write the completed sentences to console."
      ]
    },
    {
      "cell_type": "code",
      "execution_count": 14,
      "metadata": {
        "colab": {
          "base_uri": "https://localhost:8080/"
        },
        "id": "Y8NmOme58_mC",
        "outputId": "835509c7-86ba-4a03-c840-c2884884d019"
      },
      "outputs": [
        {
          "name": "stdout",
          "output_type": "stream",
          "text": [
            "\"i remember\" -> \"i remember not, the basest on love, my love still may privilage your sake, and for their s\"\n",
            "\"i remember\" -> \"i remembered not the dusat thou hast too hate a king, but when from you homoun the gountat\"\n",
            "\n",
            "\"thou\" -> \"thou art, they do i him sut at ge, which he will no fleeting youth, and words and wo\"\n",
            "\"thou\" -> \"thou shouldst print wincuse my thought and loved by the semmont falten pitrespesay t\"\n",
            "\n",
            "\"thy\" -> \"thy store, when that she that fair thou art, and to thy beauty that beauty of your \"\n",
            "\"thy\" -> \"thy poor drudgedinct on youth, where to any unlook a mettent flowers in odour and u\"\n",
            "\n",
            "\"the \" -> \"the world away, as wemb? no mard look it than thy soul live that my adder or aption \"\n",
            "\"the \" -> \"the angel felt, in shall fame, dout of my hath fair aspect of anthould de full growt\"\n",
            "\n",
            "\"beau\" -> \"beauty by such a beautes his youth, which being full of parts and eye's moing sings \"\n",
            "\"beau\" -> \"beauty's defiguric of thy days. age) whom thee goot, shall hath mose erem thy part; \"\n",
            "\n",
            "\"mothe\" -> \"mother, when thou art, and to thy worst old thing thee thou mayst have thy love and t\"\n",
            "\"mothe\" -> \"mother. so is sternine oo see mo thy gid? o change of secels one, othem thy face: o l\"\n",
            "\n",
            "\"bloo\" -> \"bloody spur thousart grief, thou mayst have thy love to approved not thy self thou s\"\n",
            "\"bloo\" -> \"blood, of thy worth old woes new weto dised stay. from thee, pelive, when you is lie\"\n",
            "\n",
            "\"alessandro\" -> \"alessandross, but thee becomes the world away: let thou art blamed shall not be the presse\"\n",
            "\"alessandro\" -> \"alessandropsed fore thou art, be two nought sweets: and there painted mend. thy looked one\"\n",
            "\n"
          ]
        }
      ],
      "source": [
        "seeds = ['i remember', 'thou', 'thy', \"the \", \"beau\", \"mothe\", \"bloo\", 'alessandro', ]\n",
        "\n",
        "for seed in seeds:\n",
        "  best = sequence_completion(seed, 80, True)\n",
        "  # print seed and text\n",
        "  print (f\"\\\"{seed}\\\" -> \\\"{best}\\\"\")\n",
        "  sampled = sequence_completion(seed, 80, False)\n",
        "  # print seed and text\n",
        "\n",
        "  print (f\"\\\"{seed}\\\" -> \\\"{sampled}\\\"\")\n",
        "  print()"
      ]
    }
  ],
  "metadata": {
    "accelerator": "GPU",
    "colab": {
      "collapsed_sections": [],
      "name": "Assignment10.ipynb",
      "provenance": []
    },
    "interpreter": {
      "hash": "a29cabff5744fce69e08a959ab87b9e77a9f67b498d08783caa8c3bb16f23a00"
    },
    "kernelspec": {
      "display_name": "Python 3.8.10 ('DL')",
      "language": "python",
      "name": "python3"
    },
    "language_info": {
      "codemirror_mode": {
        "name": "ipython",
        "version": 3
      },
      "file_extension": ".py",
      "mimetype": "text/x-python",
      "name": "python",
      "nbconvert_exporter": "python",
      "pygments_lexer": "ipython3",
      "version": "3.8.13"
    },
    "orig_nbformat": 4
  },
  "nbformat": 4,
  "nbformat_minor": 0
}
