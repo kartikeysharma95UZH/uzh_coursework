{
  "cells": [
    {
      "cell_type": "markdown",
      "metadata": {
        "id": "IIkBdB1pCG6J"
      },
      "source": [
        "Assignment 8: Open-Set Classification\n",
        "=====================================\n",
        "\n",
        "\n",
        "Microsoft Forms Document: https://forms.office.com/r/xY9sQDQdGh\n",
        "\n",
        "We select the MNIST dataset and define several classes to be known, known unknown (used as negative class during training) and unknown unknown (not used for training at all).\n",
        "\n",
        "Task 1: Target Vectors\n",
        "----------------------\n",
        "\n",
        "For our training dataset, we want to use four classes of MNIST digits (4,5,8,9) as known classes and four (0,2,3,7) as known unknowns. \n",
        "The remaining two classes shall be ignored during training and validation, amd only be used for testing purposes.\n",
        "\n",
        "When we want to train with our adapted softmax function, we need to assign the correct target vectors for the classes. \n",
        "These are $(1,0,0,0)$, $(0,1,0,0)$, $(0,0,1,0)$ and $(0,0,0,1)$ for the known classes, respectively. \n",
        "For known unknown classes, the target vector is $\\left(\\frac14,\\frac14,\\frac14,\\frac14\\right)$, throughout.\n"
      ]
    },
    {
      "cell_type": "code",
      "execution_count": 12,
      "metadata": {
        "id": "pmoczEUUCG6N"
      },
      "outputs": [],
      "source": [
        "import torch\n",
        "import torchvision\n",
        "\n",
        "# define the three types of classes\n",
        "known_classes = (4,5,8,9)\n",
        "known_unknown_classes = (0,2,3,7)\n",
        "unknown_classes = (1,6)\n",
        "O = len(known_classes)\n",
        "\n",
        "def target_vector(index):\n",
        "  # select correct one-hot vector for known classes, and the 1/O-vectors for unknown classes\n",
        "  if index in known_classes:\n",
        "    pos = known_classes.index(index)\n",
        "    return torch.tensor([1 if i == pos else 0 for i in range(O)])\n",
        "  else:\n",
        "    return torch.tensor([1 / O for _ in range(O)])"
      ]
    },
    {
      "cell_type": "markdown",
      "metadata": {
        "id": "_q5h4NpDCG6P"
      },
      "source": [
        "Test 1: Check your Target Vectors\n",
        "---------------------------------\n",
        "\n",
        "Test that your target vectors are correct, for all tpyes of known and unknown samples."
      ]
    },
    {
      "cell_type": "code",
      "execution_count": 13,
      "metadata": {
        "id": "Md-um-x6CG6P"
      },
      "outputs": [],
      "source": [
        "# check that the target vectors for known classes are correct\n",
        "for index in known_classes:\n",
        "  t = target_vector(index)\n",
        "  assert t.sum() == 1\n",
        "  assert t.argmax() == known_classes.index(index)\n",
        "  assert type(t) == torch.Tensor\n",
        "\n",
        "# check that the target vectors for unknown classes are correct\n",
        "for index in known_unknown_classes + unknown_classes:\n",
        "  t = target_vector(index)\n",
        "  assert t.sum() == 1\n",
        "  assert type(t) == torch.Tensor\n",
        "  "
      ]
    },
    {
      "cell_type": "markdown",
      "metadata": {
        "id": "YsLWrd3ICG6Q"
      },
      "source": [
        "Task 2 and 3: Training Dataset\n",
        "------------------------\n",
        "We rely on the MNIST dataset implementation from PyTorch and adapt some parts of it. \n",
        "Mainly, we will let PyTorch load the dataset by calling the base class constructor and modify the `self.data` and `self.targets` ourselves.\n",
        "Additionally, we need to implement the index function to return the data and targets in the desired format.\n",
        "\n",
        "Since Jupyter Notebook does not allow splitting classes over several code boxes, the two tasks are required to be solved in the same code box."
      ]
    },
    {
      "cell_type": "code",
      "execution_count": 14,
      "metadata": {
        "id": "iP8Sf8JxCG6R"
      },
      "outputs": [],
      "source": [
        "import numpy as np\n",
        "\n",
        "class DataSet(torchvision.datasets.MNIST):\n",
        "  def __init__(self, purpose=\"train\"):\n",
        "    # call base class constructor to handle the data loading\n",
        "    super(DataSet, self).__init__(\n",
        "      \".\", train = True if purpose == \"train\" else False, download=True, transform = torchvision.transforms.ToTensor()\n",
        "    )\n",
        "\n",
        "    # select the valid classes based on the current purpose\n",
        "    # select the valid classes based on the current purpose\n",
        "    if purpose == \"train\":\n",
        "      self.classes = known_classes + known_unknown_classes\n",
        "    elif purpose == \"valid\":\n",
        "      self.classes = known_classes + known_unknown_classes\n",
        "    elif purpose == \"test\":\n",
        "      self.classes = known_classes + unknown_classes\n",
        "\n",
        "    # check if one element of the list is in another list\n",
        "    mask = np.column_stack([self.targets == i for i in self.classes]).any(axis=1)\n",
        "    # sub-select the data of valid classes\n",
        "    self.data = self.data[mask]\n",
        "    # select the targets of valid classes\n",
        "    self.targets = self.targets[mask]\n",
        "\n",
        "  def __getitem__(self, index):\n",
        "    # perform appropriate actions on the data and the targets\n",
        "    (i,t) = super().__getitem__(index)\n",
        "    target = target_vector(t)\n",
        "    return i, target"
      ]
    },
    {
      "cell_type": "markdown",
      "metadata": {
        "id": "3vlLi9VFCG6S"
      },
      "source": [
        "Test 2: Data Sets\n",
        "-----------------\n",
        "\n",
        "Instantiate the training dataset.\n",
        "Implement a data loader for the training dataset with a batch size of 64.\n",
        "Assure that all inputs are of the desired type and shape.\n",
        "Assert that the target values are in the correct format, and the sum of the target values per sample is one."
      ]
    },
    {
      "cell_type": "code",
      "execution_count": 15,
      "metadata": {
        "id": "MO0Y-5wTCG6T"
      },
      "outputs": [],
      "source": [
        "# instantiate the training dataset\n",
        "train_set = DataSet(purpose=\"train\")\n",
        "train_loader = torch.utils.data.DataLoader(train_set, batch_size=64, shuffle=True)\n",
        "\n",
        "# assert that we have not filtered out all samples\n",
        "assert len(train_set.data) == len(train_set.targets)\n",
        "assert len(train_set.data) > 0\n",
        "\n",
        "# check the batch and assert valid data and sizes\n",
        "for i, (x,t) in enumerate(train_loader):\n",
        "  if i == len(train_loader) - 1:\n",
        "    continue\n",
        "  assert x.shape == (64, 1, 28, 28)\n",
        "  assert t.shape == (64, 4)\n",
        "  assert torch.all(x <= 1)\n"
      ]
    },
    {
      "cell_type": "markdown",
      "metadata": {
        "id": "Dib-Vio8CG6T"
      },
      "source": [
        "Task 4: Utility Function\n",
        "------------------------\n",
        "\n",
        "Implement a function that splits a batch of samples into known and unknown parts. For the known parts, also provide the target vectors.\n",
        "How can we know which of the data samples are known smaples, and which are unknown?"
      ]
    },
    {
      "cell_type": "code",
      "execution_count": 16,
      "metadata": {
        "id": "Ng82VswACG6U"
      },
      "outputs": [],
      "source": [
        "def split_known_unknown(batch, targets):\n",
        "  # select the indexes at which known and unknown samples exist\n",
        "  known = torch.any(targets == 1, dim=1)\n",
        "  unknown = torch.all(targets == 1/4, dim=1)\n",
        "  # return the known samples, the targets of the known samples, as well as the unknown samples\n",
        "  return batch[known], targets[known], batch[unknown]"
      ]
    },
    {
      "cell_type": "markdown",
      "metadata": {
        "id": "2GuNoofDCG6U"
      },
      "source": [
        "Task 5: Loss Function Implementation\n",
        "------------------------------------\n",
        "\n",
        "We implement a loss function that implements an autograd function, i.e., we define both the forward and the backward pass for our loss computation."
      ]
    },
    {
      "cell_type": "code",
      "execution_count": 17,
      "metadata": {
        "id": "1dDOjCBXCG6V"
      },
      "outputs": [],
      "source": [
        "class AdaptedSoftMax(torch.autograd.Function):\n",
        "\n",
        "  # implement the forward propagation\n",
        "  @staticmethod\n",
        "  def forward(ctx, logits, targets):\n",
        "    # compute the log probabilities via log_softmax\n",
        "    log_probs = torch.nn.functional.log_softmax(logits,dim=1)\n",
        "    # save required values for backward pass\n",
        "    ctx.save_for_backward(log_probs, targets)\n",
        "    # compute loss\n",
        "    loss = - targets * log_probs\n",
        "    return torch.sum(loss)\n",
        "\n",
        "  # implement Jacobian\n",
        "  @staticmethod\n",
        "  def backward(ctx, result):\n",
        "    # get results stored from forward pass\n",
        "    log_probs, targets = ctx.saved_tensors\n",
        "    # compute derivative of loss w.r.t. the logits\n",
        "    dJ_dy = torch.exp(log_probs) - targets\n",
        "    # return the derivatives; none for derivative for the targets\n",
        "    return dJ_dy, None\n",
        "\n",
        "# DO NOT REMOVE!\n",
        "# here we set the adapted softmax function to be used later\n",
        "adapted_softmax = AdaptedSoftMax.apply"
      ]
    },
    {
      "cell_type": "markdown",
      "metadata": {
        "id": "8ck68JrZCG6V"
      },
      "source": [
        "Task 5a: Alternative Loss Function\n",
        "----------------------------------\n",
        "\n",
        "If the implementation of the autograd function in Task 5 is too complicated, we can also rely on PyTorch to compute the gradient for us.\n",
        "In this case, we only need to define the forward pass, i.e., the loss function itself."
      ]
    },
    {
      "cell_type": "code",
      "execution_count": 18,
      "metadata": {
        "id": "Ll7tWYgzCG6W"
      },
      "outputs": [],
      "source": [
        "def adapted_softmax_alt(logits, targets):\n",
        "  # compute cross-entropy loss on top of softmax values of the logits\n",
        "  #loss = torch.nn.functional.cross_entropy(logits, targets)\n",
        "  loss = -torch.sum(torch.nn.functional.log_softmax(logits, dim=1) * targets)\n",
        "  return loss"
      ]
    },
    {
      "cell_type": "markdown",
      "metadata": {
        "id": "gs39yr2OCG6W"
      },
      "source": [
        "Task 6: Confidence Evaluation\n",
        "-----------------------------\n",
        "\n",
        "Implement a function to compute the confidence value for a given batch of samples. Make sure to split the batch between known and unknown samples, and compute the confidence value for both separately."
      ]
    },
    {
      "cell_type": "code",
      "execution_count": 19,
      "metadata": {
        "id": "yhBEWy_tCG6W"
      },
      "outputs": [],
      "source": [
        "def confidence(logits, targets):\n",
        "  # comupte softmax confidences\n",
        "  batch = torch.nn.functional.softmax(logits, dim=1)\n",
        "  # split between known and unknown\n",
        "  batch_known, targets_known, batch_unknown = split_known_unknown(batch, targets)\n",
        "  # compute confidence score for known targets\n",
        "  conf_known = torch.sum(batch_known * targets_known)\n",
        "  # compute confidence score for unknown targets\n",
        "  conf_unknown = torch.sum(1 - torch.max(batch_unknown, dim = 1)[0] + 1/4)\n",
        "  return conf_known + conf_unknown"
      ]
    },
    {
      "cell_type": "markdown",
      "metadata": {
        "id": "9Dkd1hqqCG6X"
      },
      "source": [
        "Test 3: Check Confidence Implementation\n",
        "---------------------------------------\n",
        "\n",
        "Test that your confidence implementation does what it is supposed to do."
      ]
    },
    {
      "cell_type": "code",
      "execution_count": 20,
      "metadata": {
        "id": "L9Vdl215CG6X"
      },
      "outputs": [],
      "source": [
        "# select good logit vectors for known and unknown classes\n",
        "known_logits = torch.diag(torch.ones(4)) * 5 - 4\n",
        "unknown_logits = torch.ones((4, 4))\n",
        "logits = torch.vstack((known_logits, unknown_logits))\n",
        "targets = torch.stack([target_vector(c) for c in known_classes + known_unknown_classes])\n",
        "# select the according target vectors for these classes\n",
        "conf = confidence(logits, targets)\n",
        "\n",
        "# the confidence should be close to 1 for all cases\n",
        "assert 5 - conf < 0.1"
      ]
    },
    {
      "cell_type": "markdown",
      "metadata": {
        "id": "1Um9cmgSCG6X"
      },
      "source": [
        "Task 7: Network Definition\n",
        "--------------------------\n",
        "\n",
        "We define our own small-scale network to classify known and unknown samples for MNIST.\n",
        "We basically use the same convolutional network as in Assignment 6, with some small adaptations.\n",
        "However, this time we need to implement our own network model since we need to modify our network output."
      ]
    },
    {
      "cell_type": "code",
      "execution_count": 21,
      "metadata": {
        "id": "i7HLLbqqCG6Y"
      },
      "outputs": [],
      "source": [
        "class Network (torch.nn.Module):\n",
        "  def __init__(self, Q1, Q2, K, O):\n",
        "    # call base class constrcutor\n",
        "    super(Network,self).__init__()\n",
        "    # define convolutional layers\n",
        "    self.conv1 = torch.nn.Conv2d(1, Q1, (5,5), stride=1, padding=2)\n",
        "    self.conv2 = torch.nn.Conv2d(Q1, Q2, (5,5), stride=1, padding=2)\n",
        "    # pooling and activation functions will be re-used for the different stages\n",
        "    self.pool = torch.nn.MaxPool2d((2,2), 2)\n",
        "    self.act = torch.nn.ReLU()\n",
        "    # define fully-connected layers\n",
        "    self.flatten = torch.nn.Flatten()\n",
        "    self.fc1 = torch.nn.Linear(7*7*Q2, K)\n",
        "    self.fc2 = torch.nn.Linear(K,O)\n",
        "\n",
        "  def forward(self,x):\n",
        "    # compute first layer of convolution, pooling and activation\n",
        "    a = self.conv1(x)\n",
        "    a = self.pool(a)\n",
        "    a = self.act(a)\n",
        "    # compute second layer of convolution, pooling and activation\n",
        "    a = self.conv2(a)\n",
        "    a = self.pool(a)\n",
        "    a = self.act(a)\n",
        "    a = self.flatten(a)\n",
        "\n",
        "    # get the deep features as the output of the first fully-connected layer\n",
        "    deep_features = self.fc1(a)\n",
        "    # get the logits as the output of the second fully-connected layer\n",
        "    logits = self.fc2(deep_features)\n",
        "    # return both the logits and the deep features\n",
        "    return logits, deep_features\n",
        "\n",
        "# run on cuda device\n",
        "device = torch.device(\"cuda\")\n",
        "# create network with 20 hidden neurons in FC layer\n",
        "network = Network(Q1=32, Q2=32, K=20, O=4).to(device)"
      ]
    },
    {
      "cell_type": "markdown",
      "metadata": {
        "id": "2wlDarXQCG6Y"
      },
      "source": [
        "Task 8: Training Loop\n",
        "---------------------\n",
        "\n",
        "Instantiate everything that you need.\n",
        "Implement the training loop for 100 epochs.\n",
        "Compute the running training confidence and validation confidence and print them at the end of each epoch."
      ]
    },
    {
      "cell_type": "code",
      "execution_count": 22,
      "metadata": {
        "colab": {
          "base_uri": "https://localhost:8080/"
        },
        "id": "WEhQoA6vCG6Y",
        "outputId": "6f42f40e-2564-4b10-d821-2c3e75c40b78"
      },
      "outputs": [
        {
          "name": "stdout",
          "output_type": "stream",
          "text": [
            "Epoch 0; train: 0.88947, val: 0.94526\n",
            "Epoch 1; train: 0.95130, val: 0.94879\n",
            "Epoch 2; train: 0.96177, val: 0.96803\n",
            "Epoch 3; train: 0.96740, val: 0.96889\n",
            "Epoch 4; train: 0.97026, val: 0.96602\n",
            "Epoch 5; train: 0.97299, val: 0.97571\n",
            "Epoch 6; train: 0.97452, val: 0.96964\n",
            "Epoch 7; train: 0.97735, val: 0.97254\n",
            "Epoch 8; train: 0.97842, val: 0.97826\n",
            "Epoch 9; train: 0.98039, val: 0.97324\n"
          ]
        }
      ],
      "source": [
        "# SGD optimizer with appropriate learning rate\n",
        "optimizer = torch.optim.SGD(network.parameters(),lr=0.001, momentum=0.9)\n",
        "\n",
        "# validation set and data loader\n",
        "validation_set = DataSet(\"valid\")\n",
        "validation_loader = torch.utils.data.DataLoader(validation_set, batch_size=100)\n",
        "\n",
        "for epoch in range(10): # or 100\n",
        "  # evaluate average confidence for training and validation set\n",
        "  train_conf = validation_conf = 0.\n",
        "\n",
        "  for x,t in train_loader:\n",
        "    # extract logits (and deep features) from network\n",
        "    optimizer.zero_grad()\n",
        "    # extract logits (and deep features) from network\n",
        "    logits, deep_feature = network(x.to(device))\n",
        "    # compute our loss\n",
        "    J = AdaptedSoftMax.apply(logits, t.to(device))\n",
        "    #J = adapted_softmax_alt(logits, t.to(device))\n",
        "    J.backward()\n",
        "    # perform weight update\n",
        "    optimizer.step()\n",
        "\n",
        "    # compute training confidence\n",
        "    with torch.no_grad():\n",
        "      train_conf += confidence(logits, t.to(device))\n",
        "\n",
        "  # compute validation comfidence\n",
        "  with torch.no_grad():\n",
        "    for x,t in validation_loader:\n",
        "      # extract logits (and deep features)\n",
        "      logits, deep_feature = network(x.to(device))\n",
        "      # compute validation confidence\n",
        "      validation_conf += confidence(logits, t.to(device))\n",
        "\n",
        "  # print average confidence for training and validation\n",
        "  print(f\"\\rEpoch {epoch}; train: {train_conf/len(train_set):1.5f}, val: {validation_conf/len(validation_set):1.5f}\")"
      ]
    },
    {
      "cell_type": "markdown",
      "metadata": {
        "id": "s2UBmSKUCG6Z"
      },
      "source": [
        "Task 9: Feature Magnitude Plot\n",
        "------------------------------\n",
        "\n",
        "Take the validation and test sets and plot their feature magnitude as histogram, based on the pre-trained network and split between known, known unknown (validation set) and unknown unknown (test set)."
      ]
    },
    {
      "cell_type": "code",
      "execution_count": 23,
      "metadata": {
        "colab": {
          "base_uri": "https://localhost:8080/",
          "height": 189
        },
        "id": "dAlcEqu1CG6Z",
        "outputId": "fb2ab207-78fc-4c6b-f2b4-2aec92e6a686"
      },
      "outputs": [
        {
          "data": {
            "text/plain": [
              "Text(0, 0.5, 'Density')"
            ]
          },
          "execution_count": 23,
          "metadata": {},
          "output_type": "execute_result"
        },
        {
          "data": {
            "image/png": "[encoded data removed]",
            "text/plain": [
              "<Figure size 288x144 with 1 Axes>"
            ]
          },
          "metadata": {
            "needs_background": "light"
          },
          "output_type": "display_data"
        }
      ],
      "source": [
        "# instantiate test set and according data loader\n",
        "test_set = DataSet(\"test\")\n",
        "test_loader = torch.utils.data.DataLoader(test_set, batch_size=100)\n",
        "\n",
        "# collect feature magnitudes for \n",
        "known, known_unknown, unknown = [], [], []\n",
        "\n",
        "with torch.no_grad():\n",
        "  # extract deep features magnitudes for validation set\n",
        "  for x,t in validation_loader:\n",
        "    # extract deep features (and logits)\n",
        "    logits, deep_feature = network(x.to(device))\n",
        "    # compute norms\n",
        "    nr = torch.norm(deep_feature, dim=1)\n",
        "    # split between known and unknown\n",
        "    k, kt, uk = split_known_unknown(nr, t)\n",
        "    # collect norms of known samples\n",
        "    known.extend(k.tolist())\n",
        "    # collect norms of known unknwown samples\n",
        "    known_unknown.extend(uk.tolist())\n",
        "\n",
        "  for x,t in test_loader:\n",
        "    # extract deep features (and logits)\n",
        "    _, f = network(x.to(device))\n",
        "    # compute norms\n",
        "    nr = torch.norm(f, dim=1)\n",
        "    # split between known and unknown\n",
        "    k, kt, uk = split_known_unknown(nr, t)\n",
        "    # collect norms of known samples\n",
        "    known.extend(k.tolist())\n",
        "    # collect norms of unknown unknown samples\n",
        "    unknown.extend(uk.tolist())\n",
        "\n",
        "# plot the norms as histograms\n",
        "from matplotlib import pyplot\n",
        "pyplot.figure(figsize=(4,2))\n",
        "\n",
        "# keep the same maximum magnitude; I could also compute it, but I am too lazy.\n",
        "max_mag = 20\n",
        "# plot the three histograms\n",
        "pyplot.hist(known, bins=100, range=(0,max_mag), density=True, color=\"g\", histtype=\"step\", label=\"Known\")\n",
        "pyplot.hist(known_unknown, bins=100, range=(0,max_mag), density=True, color=\"b\", histtype=\"step\", label=\"Known Unknown\")\n",
        "pyplot.hist(unknown, bins=100, range=(0,max_mag), density=True, color=\"r\", histtype=\"step\", label=\"Unknown Unknown\")\n",
        "\n",
        "# beautify plot\n",
        "pyplot.legend()\n",
        "pyplot.xlabel(\"Deep Feature Magnitude\")\n",
        "pyplot.ylabel(\"Density\")"
      ]
    },
    {
      "cell_type": "markdown",
      "metadata": {
        "id": "GUbbfV5WCG6a"
      },
      "source": [
        "Task 10: Classification Evaluation\n",
        "----------------------------------\n",
        "\n",
        "For a fixed threshold of $\\tau=0.98$, compute CCR and FPR for the test set.\n",
        "A well-trained network can achieve a CCR of > 90% for an FPR < 10%.\n",
        "You might need to vary the threshold."
      ]
    },
    {
      "cell_type": "code",
      "execution_count": 24,
      "metadata": {
        "id": "fzUFBv0oCG6a"
      },
      "outputs": [
        {
          "ename": "TypeError",
          "evalue": "unsupported operand type(s) for +=: 'int' and 'ellipsis'",
          "output_type": "error",
          "traceback": [
            "\u001b[1;31m---------------------------------------------------------------------------\u001b[0m",
            "\u001b[1;31mTypeError\u001b[0m                                 Traceback (most recent call last)",
            "\u001b[1;32m~\\AppData\\Local\\Temp/ipykernel_20700/3499487586.py\u001b[0m in \u001b[0;36m<module>\u001b[1;34m\u001b[0m\n\u001b[0;32m     16\u001b[0m \u001b[1;33m\u001b[0m\u001b[0m\n\u001b[0;32m     17\u001b[0m     \u001b[1;31m# compute number of correctly classified knowns above threshold\u001b[0m\u001b[1;33m\u001b[0m\u001b[1;33m\u001b[0m\u001b[1;33m\u001b[0m\u001b[0m\n\u001b[1;32m---> 18\u001b[1;33m     \u001b[0mcorrect\u001b[0m \u001b[1;33m+=\u001b[0m \u001b[1;33m...\u001b[0m\u001b[1;33m\u001b[0m\u001b[1;33m\u001b[0m\u001b[0m\n\u001b[0m\u001b[0;32m     19\u001b[0m     \u001b[0mknown\u001b[0m \u001b[1;33m+=\u001b[0m \u001b[1;33m...\u001b[0m\u001b[1;33m\u001b[0m\u001b[1;33m\u001b[0m\u001b[0m\n\u001b[0;32m     20\u001b[0m \u001b[1;33m\u001b[0m\u001b[0m\n",
            "\u001b[1;31mTypeError\u001b[0m: unsupported operand type(s) for +=: 'int' and 'ellipsis'"
          ]
        }
      ],
      "source": [
        "tau = 0.98\n",
        "\n",
        "# count the correctly classified and the total number of known samples\n",
        "correct = known = 0\n",
        "# count the incorrectly classified and the total number of unknown samples\n",
        "false = unknown = 0\n",
        "\n",
        "with torch.no_grad():\n",
        "  for x,t in test_loader:\n",
        "    # extract logits (and deep features)\n",
        "    ...\n",
        "    # compute softmax confidences\n",
        "    ...\n",
        "    # split between known and unknown\n",
        "    ...\n",
        "\n",
        "    # compute number of correctly classified knowns above threshold\n",
        "    correct += ...\n",
        "    known += ...\n",
        "\n",
        "    # compute number of incorrectly accepted known samples\n",
        "    false += ...\n",
        "    unknown += ...\n",
        "\n",
        "# print both rates\n",
        "print (f\"CCR: {correct} of {known} = {correct/known*100:2.2f}%\")\n",
        "print (f\"FPR: {false} of {unknown} = {false/unknown*100:2.2f}%\")\n"
      ]
    }
  ],
  "metadata": {
    "accelerator": "GPU",
    "colab": {
      "collapsed_sections": [],
      "name": "Assignment08.ipynb",
      "provenance": []
    },
    "interpreter": {
      "hash": "2dd53f8ad749bca69f7250ce75eb4f0def59db5cf79075a9716322ffc58e8a2e"
    },
    "kernelspec": {
      "display_name": "Python 3.8.10 ('DL')",
      "language": "python",
      "name": "python3"
    },
    "language_info": {
      "codemirror_mode": {
        "name": "ipython",
        "version": 3
      },
      "file_extension": ".py",
      "mimetype": "text/x-python",
      "name": "python",
      "nbconvert_exporter": "python",
      "pygments_lexer": "ipython3",
      "version": "3.8.10"
    },
    "orig_nbformat": 4
  },
  "nbformat": 4,
  "nbformat_minor": 0
}
