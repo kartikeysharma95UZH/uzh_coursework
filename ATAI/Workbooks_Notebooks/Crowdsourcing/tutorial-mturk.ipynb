{
 "cells": [
  {
   "cell_type": "markdown",
   "metadata": {},
   "source": [
    "# Creating and Designing Crowdsourcing Tasks using MTurk"
   ]
  },
  {
   "cell_type": "markdown",
   "metadata": {},
   "source": [
    "Rosni Vasu | 16.11.2022"
   ]
  },
  {
   "cell_type": "markdown",
   "metadata": {},
   "source": [
    "### Table of Contents\n",
    "* **Crowdsourcing using Amazon Mechanical Turk (MTurk)**\n",
    "    * **GUI**\n",
    "        * Platform, how to log in, requirements\n",
    "        * How to create and design tasks (Refer the document *ATAI Tutorial MTurk Platform.pdf*)\n",
    "    * **Boto3 API**\n",
    "        * How to set up\n",
    "        * Creating and designing tasks (Complete Demo using API)\n",
    "            * Components (HIT template, properties, Informed consent)\n",
    "            * HIT designs examples (only template)\n",
    "            * Qualification task (Question Answer XML) - Gold tasks\n",
    "            * Publish Task, Show progress\n",
    "            * Approve/reject assignments, Delete HITs\n",
    "            * Retrieve the result\n",
    "\n",
    "-----------------------------------------------------------------------------------------"
   ]
  },
  {
   "cell_type": "markdown",
   "metadata": {},
   "source": [
    "### The humans inside the machine!\n",
    "\n",
    "* Platform on which Workers (or \"Turkers\") can complete Human Intelligence Tasks (HITs) for monetary compensation.\n",
    "* HITs are put up by Requestors (that’s us!)\n",
    "* Set-up to do large-scale experiments that require human intelligence\n"
   ]
  },
  {
   "cell_type": "markdown",
   "metadata": {},
   "source": [
    "![image info](img/mturk1.png)"
   ]
  },
  {
   "cell_type": "markdown",
   "metadata": {},
   "source": [
    "#### Requester account for creating MTurk tasks\n"
   ]
  },
  {
   "cell_type": "markdown",
   "metadata": {},
   "source": [
    "![image info](img/mturk2.png)"
   ]
  },
  {
   "cell_type": "markdown",
   "metadata": {},
   "source": [
    "### Requestor Vs Developer\n",
    "\n",
    "* Sandbox Environment (https://requestersandbox.mturk.com/ )\n",
    "* Production Site (https://requester.mturk.com/ )\n",
    "\n",
    "### Worker\n",
    "* Sandbox Environment (https://workersandbox.mturk.com/ )\n",
    "* Production Site (https://worker.mturk.com/ )"
   ]
  },
  {
   "cell_type": "markdown",
   "metadata": {},
   "source": [
    "![image info](img/mturk3.png)"
   ]
  },
  {
   "cell_type": "markdown",
   "metadata": {},
   "source": [
    "### MTurk Fee Structure\n"
   ]
  },
  {
   "cell_type": "markdown",
   "metadata": {},
   "source": [
    "![image info](img/mturk4.png)"
   ]
  },
  {
   "cell_type": "markdown",
   "metadata": {},
   "source": [
    "### Ethics and Informed Participants\n",
    "\n",
    "* Amazon worker IDs are actually tied to their (public) Amazon account, and thus constitute identifiable information.  Anonymize data by redacting worker IDs (and other identifiable information).\n",
    "* Ethical obligation to inform participants about a task to help them decide if they'd like to participate\n"
   ]
  },
  {
   "cell_type": "markdown",
   "metadata": {},
   "source": [
    "### MTurk Platform - a mini tour!\n",
    "\n",
    "### Steps:\n",
    "1. If you do not have an AWS acocunt already, visit https://aws.amazon.com and create an account you can use for your project.\n",
    "2. Register as a requestor (shown before). Visit https://requester.mturk.com and create a new account.\n",
    "3. When logged into both the root of your AWS account and your MTurk account, visit https://requester.mturk.com/developer to link them together.\n",
    "\n",
    "**Go to:** https://requestersandbox.mturk.com/\n",
    "\n",
    "**Demo:** Create and Publish using MTurk GUI"
   ]
  },
  {
   "cell_type": "markdown",
   "metadata": {},
   "source": [
    "------------------------------------------------------------------------------------------------------------------"
   ]
  },
  {
   "cell_type": "markdown",
   "metadata": {},
   "source": [
    "### Boto3 API\n",
    "\n",
    "Language: Python\n",
    "\n",
    "Documentation: https://boto3.amazonaws.com/v1/documentation/api/latest/reference/services/mturk.html\n"
   ]
  },
  {
   "cell_type": "markdown",
   "metadata": {},
   "source": [
    "![image info](img/mturk5.png)"
   ]
  },
  {
   "cell_type": "markdown",
   "metadata": {},
   "source": [
    "----------------------------------------------------------------------------------------------------------------"
   ]
  },
  {
   "cell_type": "markdown",
   "metadata": {},
   "source": [
    "## **Let's get started**"
   ]
  },
  {
   "cell_type": "markdown",
   "metadata": {},
   "source": [
    "**Table of Contents**\n",
    "\n",
    "- Required libraries/ Configuring Your Profile/ Load the libraries/ Client configuration\n",
    "- HIT design\n",
    "- Informed Consent\n",
    "- Create an HTML template\n",
    "- Calculating Cost and Budgeting\n",
    "- Qualification Task (Gold Tasks)\n",
    "- More Qualitfication Requirement\n",
    "- Create your task\n",
    "- HIT Progress\n",
    "- Get the results\n",
    "- Approve or Reject Assignments\n",
    "- Delete the HITs\n",
    "- Block and Unblock Workers"
   ]
  },
  {
   "cell_type": "markdown",
   "metadata": {},
   "source": [
    "### Required libraries"
   ]
  },
  {
   "cell_type": "markdown",
   "metadata": {},
   "source": [
    "Based on [MTurk account set up](https://blog.mturk.com/tutorial-mturk-using-python-in-jupyter-notebook-17ba0745a97f) "
   ]
  },
  {
   "cell_type": "code",
   "execution_count": 21,
   "metadata": {
    "scrolled": true
   },
   "outputs": [
    {
     "name": "stdout",
     "output_type": "stream",
     "text": [
      "Requirement already satisfied: awscli in /home/rosni/.local/lib/python3.8/site-packages (1.27.8)\n",
      "Requirement already satisfied: docutils<0.17,>=0.10 in /home/rosni/.local/lib/python3.8/site-packages (from awscli) (0.16)\n",
      "Requirement already satisfied: colorama<0.4.5,>=0.2.5 in /home/rosni/.local/lib/python3.8/site-packages (from awscli) (0.4.4)\n",
      "Requirement already satisfied: botocore==1.29.8 in /home/rosni/.local/lib/python3.8/site-packages (from awscli) (1.29.8)\n",
      "Requirement already satisfied: rsa<4.8,>=3.1.2 in /home/rosni/.local/lib/python3.8/site-packages (from awscli) (4.7.2)\n",
      "Requirement already satisfied: PyYAML<5.5,>=3.10 in /usr/lib/python3/dist-packages (from awscli) (5.3.1)\n",
      "Requirement already satisfied: s3transfer<0.7.0,>=0.6.0 in /home/rosni/.local/lib/python3.8/site-packages (from awscli) (0.6.0)\n",
      "Requirement already satisfied: jmespath<2.0.0,>=0.7.1 in /home/rosni/.local/lib/python3.8/site-packages (from botocore==1.29.8->awscli) (1.0.1)\n",
      "Requirement already satisfied: urllib3<1.27,>=1.25.4 in /usr/lib/python3/dist-packages (from botocore==1.29.8->awscli) (1.25.8)\n",
      "Requirement already satisfied: python-dateutil<3.0.0,>=2.1 in /usr/local/lib/python3.8/dist-packages (from botocore==1.29.8->awscli) (2.8.2)\n",
      "Requirement already satisfied: pyasn1>=0.1.3 in /home/rosni/.local/lib/python3.8/site-packages (from rsa<4.8,>=3.1.2->awscli) (0.4.8)\n",
      "Requirement already satisfied: six>=1.5 in /usr/lib/python3/dist-packages (from python-dateutil<3.0.0,>=2.1->botocore==1.29.8->awscli) (1.14.0)\n",
      "Requirement already satisfied: boto3 in /home/rosni/.local/lib/python3.8/site-packages (1.26.8)\n",
      "Requirement already satisfied: jmespath<2.0.0,>=0.7.1 in /home/rosni/.local/lib/python3.8/site-packages (from boto3) (1.0.1)\n",
      "Requirement already satisfied: botocore<1.30.0,>=1.29.8 in /home/rosni/.local/lib/python3.8/site-packages (from boto3) (1.29.8)\n",
      "Requirement already satisfied: s3transfer<0.7.0,>=0.6.0 in /home/rosni/.local/lib/python3.8/site-packages (from boto3) (0.6.0)\n",
      "Requirement already satisfied: python-dateutil<3.0.0,>=2.1 in /usr/local/lib/python3.8/dist-packages (from botocore<1.30.0,>=1.29.8->boto3) (2.8.2)\n",
      "Requirement already satisfied: urllib3<1.27,>=1.25.4 in /usr/lib/python3/dist-packages (from botocore<1.30.0,>=1.29.8->boto3) (1.25.8)\n",
      "Requirement already satisfied: six>=1.5 in /usr/lib/python3/dist-packages (from python-dateutil<3.0.0,>=2.1->botocore<1.30.0,>=1.29.8->boto3) (1.14.0)\n",
      "Requirement already satisfied: xmltodict in /home/rosni/.local/lib/python3.8/site-packages (0.12.0)\n"
     ]
    }
   ],
   "source": [
    "!pip install awscli\n",
    "!pip install boto3\n",
    "!pip install xmltodict"
   ]
  },
  {
   "cell_type": "markdown",
   "metadata": {},
   "source": [
    "### Configuring Your Profile"
   ]
  },
  {
   "cell_type": "markdown",
   "metadata": {},
   "source": [
    "#### Steps:\n",
    "To call MTurk you will need to configure your computer with a profile that has the right credentials.\n",
    "1. Create a new AWS IAM User. \n",
    "2. Then select the Security Credentials tab and create a new Access Key, copy the Access Key and Secret Access Key for future use.\n",
    "3. Run the below command to configure an mturk profile on your computer that you will use when calling the API. You need to run it in the terminal, it won't work in a Jupyter Notebook.\n",
    "\n",
    "```python\n",
    "aws configure --profile mturk\n",
    "```\n",
    "\n",
    "4. When prompted, provide the `Access Key Id` and `Secret Access Key Id` you captured above. For a region, you can enter “us-east-1” and leave the output format as None."
   ]
  },
  {
   "cell_type": "markdown",
   "metadata": {},
   "source": [
    "### Load the libraries"
   ]
  },
  {
   "cell_type": "markdown",
   "metadata": {},
   "source": [
    "* The boto3 package is an easy to use Python library for accessing AWS. \n",
    "* The xmltodict library makes it much easier to work with the XML data returned my MTurk."
   ]
  },
  {
   "cell_type": "code",
   "execution_count": 22,
   "metadata": {},
   "outputs": [],
   "source": [
    "import boto3\n",
    "import xmltodict\n",
    "import json"
   ]
  },
  {
   "cell_type": "markdown",
   "metadata": {},
   "source": [
    "### Client configuration"
   ]
  },
  {
   "cell_type": "markdown",
   "metadata": {},
   "source": [
    "Use the [worker sandbox](https://workersandbox.mturk.com/) and [requester sandbox](https://requestersandbox.mturk.com/) to test your code before running it on the production site ([worker](https://worker.mturk.com/) and [requester](https://requester.mturk.com/))."
   ]
  },
  {
   "cell_type": "code",
   "execution_count": 23,
   "metadata": {},
   "outputs": [
    {
     "name": "stdout",
     "output_type": "stream",
     "text": [
      "10000.00\n"
     ]
    }
   ],
   "source": [
    "create_hits_in_production = False\n",
    "\n",
    "environments = {\n",
    "  \"production\": {\n",
    "    \"endpoint\": \"https://mturk-requester.us-east-1.amazonaws.com\",\n",
    "    \"preview\": \"https://www.mturk.com/mturk/preview\"\n",
    "  },\n",
    "  \"sandbox\": {\n",
    "    \"endpoint\": \n",
    "          \"https://mturk-requester-sandbox.us-east-1.amazonaws.com\",\n",
    "    \"preview\": \"https://workersandbox.mturk.com/mturk/preview\"\n",
    "  },\n",
    "}\n",
    "\n",
    "mturk_environment = environments[\"production\"] if create_hits_in_production else environments[\"sandbox\"]\n",
    "session = boto3.Session(profile_name='mturk')\n",
    "client = session.client(\n",
    "    service_name='mturk',\n",
    "    region_name='us-east-1',\n",
    "    endpoint_url=mturk_environment['endpoint'],\n",
    ")\n",
    "\n",
    "print(client.get_account_balance()['AvailableBalance'])\n"
   ]
  },
  {
   "cell_type": "markdown",
   "metadata": {},
   "source": [
    "All the client methods are defined in the [documentation](https://boto3.amazonaws.com/v1/documentation/api/latest/reference/services/mturk.html)"
   ]
  },
  {
   "cell_type": "markdown",
   "metadata": {},
   "source": [
    "### HIT design"
   ]
  },
  {
   "cell_type": "markdown",
   "metadata": {},
   "source": [
    "* Sentiment detection, \n",
    "* Knowledge graph completion"
   ]
  },
  {
   "cell_type": "markdown",
   "metadata": {},
   "source": [
    "#### Task:\n",
    "* Read data from a file\n",
    "* Data given below has a few examples of entites which can be defined by some relations (this is further used as input triples for the knowledge completion models)"
   ]
  },
  {
   "cell_type": "code",
   "execution_count": 24,
   "metadata": {},
   "outputs": [
    {
     "name": "stdout",
     "output_type": "stream",
     "text": [
      "['Barack Obama', 'the state of hawai', 'was born in', 'won the ', 'is or was married at', 'died in', 'was influenced by']\n",
      "['Leonardo da Vinci', 'The Mona Lisa', 'was born in', 'won the ', 'is or was married at', 'painted', 'destroyed']\n",
      "['Leonard Nimoy', 'Star Trek', 'won the', 'is or was married to', 'painted', 'starred in', 'character in']\n"
     ]
    }
   ],
   "source": [
    "import pandas as pd\n",
    "\n",
    "data = pd.read_csv(\"data/data.csv\")\n",
    "data.head()\n",
    "\n",
    "for idx, row in data.iterrows():\n",
    "    print(list(row))"
   ]
  },
  {
   "cell_type": "markdown",
   "metadata": {},
   "source": [
    "### Informed Consent"
   ]
  },
  {
   "cell_type": "markdown",
   "metadata": {},
   "source": [
    "* Ethical obligation to inform participants about a task to help them decide if they'd like to participate\n",
    "\n",
    "> The first page of the online survey should be the consent document. The online consent will have all of the elements of a regular consent, but it will not require a signature. "
   ]
  },
  {
   "cell_type": "markdown",
   "metadata": {},
   "source": [
    "\n",
    "### Create an HTML template that is shown to workers for each input item\n",
    "\n",
    "\n",
    "In line 211 to 224 of template: \n",
    "\n",
    "` <p class=\"well\">${content}</p> `\n"
   ]
  },
  {
   "cell_type": "markdown",
   "metadata": {},
   "source": [
    "* you can read the HTML from a file and wrap that into a `QUESTION_XML` (question layout xml) required for the MTurk"
   ]
  },
  {
   "cell_type": "code",
   "execution_count": 25,
   "metadata": {},
   "outputs": [],
   "source": [
    "html_layout = open('data/HIT-KGCompletion.html', 'r').read()\n",
    "QUESTION_XML = \"\"\"<HTMLQuestion xmlns=\"http://mechanicalturk.amazonaws.com/AWSMechanicalTurkDataSchemas/2011-11-11/HTMLQuestion.xsd\">\n",
    "        <HTMLContent><![CDATA[{}]]></HTMLContent>\n",
    "        <FrameHeight>650</FrameHeight>\n",
    "        </HTMLQuestion>\"\"\"\n",
    "question_xml = QUESTION_XML.format(html_layout)"
   ]
  },
  {
   "cell_type": "markdown",
   "metadata": {},
   "source": [
    "### Calculating Cost and Budgeting"
   ]
  },
  {
   "cell_type": "markdown",
   "metadata": {},
   "source": [
    "\n",
    "\n",
    "* We pay all participants fair wages at `$15/hour`. That means that if a study takes an hour, we pay `$15`. If it takes a half hour, we pay `$7.50`\n",
    "* Fairwork (Refer to lecture): This is a single line JavaScript link you can add to your task that will ensure your workers are paid at leats minimum wage.\n"
   ]
  },
  {
   "cell_type": "markdown",
   "metadata": {},
   "source": [
    "#### An appropriate title, description, keywords are also provided to let Workers know what is involved in this task.\n",
    "* Each response has a reward of `$0.05` so the total Worker reward for this task would be `$0.25` plus `$0.05` in MTurk fees. "
   ]
  },
  {
   "cell_type": "code",
   "execution_count": 1,
   "metadata": {},
   "outputs": [],
   "source": [
    "TaskAttributes = {\n",
    "    'MaxAssignments': 5,           \n",
    "    # How long the task will be available on MTurk (1 hour)     \n",
    "    'LifetimeInSeconds': 60*60,\n",
    "    # How long Workers have to complete each item (10 minutes)\n",
    "    'AssignmentDurationInSeconds': 60*10,\n",
    "    # The reward you will offer Workers for each response\n",
    "    'Reward': '0.05',                     \n",
    "    'Title': 'Find a suitable relation for the given entities',\n",
    "    'Keywords': 'Knowledge graph, link, fact',\n",
    "    'Description': 'Identify suitable relation for the given entities'\n",
    "}"
   ]
  },
  {
   "cell_type": "markdown",
   "metadata": {},
   "source": [
    "### Qualification Task (Gold Tasks)"
   ]
  },
  {
   "cell_type": "code",
   "execution_count": 39,
   "metadata": {},
   "outputs": [],
   "source": [
    "questions = open(file=\"data/Test.xml\", mode=\"r\").read()\n",
    "answers = open(file=\"data/AnswerKey.xml\", mode=\"r\").read()"
   ]
  },
  {
   "cell_type": "markdown",
   "metadata": {},
   "source": [
    "Refer: https://requestersandbox.mturk.com/ "
   ]
  },
  {
   "cell_type": "code",
   "execution_count": 41,
   "metadata": {},
   "outputs": [
    {
     "data": {
      "text/plain": [
       "{'QualificationType': {'QualificationTypeId': '36EODA36TPPO3DK9F6W0O78Z0IE8BH',\n",
       "  'CreationTime': datetime.datetime(2022, 11, 14, 9, 1, 23, tzinfo=tzlocal()),\n",
       "  'Name': 'PreScreening',\n",
       "  'Description': 'This is a brief knowledge test for workers',\n",
       "  'QualificationTypeStatus': 'Active',\n",
       "  'Test': '<QuestionForm xmlns=\"http://mechanicalturk.amazonaws.com/AWSMechanicalTurkDataSchemas/2005-10-01/QuestionForm.xsd\">\\n  <Overview>\\n    <Title>Qualification Test</Title>\\n      <Text> \\n    </Text>\\n  </Overview>\\n\\n\\n  <Question>\\n    <QuestionIdentifier>question1</QuestionIdentifier>\\n    <IsRequired>true</IsRequired>\\n    <QuestionContent>\\n      <Text>1. Find the subject, object and predicate of the following fact </Text>\\n        <FormattedContent><![CDATA[\\n            The theory of relativity proposed by Albert Einstein\\n         ]]>\\n    </FormattedContent>\\n    </QuestionContent>\\n    <AnswerSpecification>\\n      <SelectionAnswer>\\n        <StyleSuggestion>radiobutton</StyleSuggestion>\\n        <Selections>\\n          <Selection>\\n            <SelectionIdentifier>1</SelectionIdentifier>\\n            <Text>Subject: Albert Einstein, Predicate: proposed by, Object: the theory of relativity</Text>\\n          </Selection>\\n          <Selection>\\n            <SelectionIdentifier>2</SelectionIdentifier>\\n            <Text>Subject: the theory of relativity, Predicate: proposed by, Object: Albert Einstein</Text>\\n          </Selection>\\n          <Selection>\\n            <SelectionIdentifier>3</SelectionIdentifier>\\n            <Text>Subject: proposed by, Predicate: Albert Einstein, Object: the theory of relativity</Text>\\n          </Selection>\\n          <Selection>\\n            <SelectionIdentifier>4</SelectionIdentifier>\\n            <Text>Subject: proposed by, Predicate: the theory of relativity , Object: Albert Einstein</Text>\\n          </Selection>\\n        </Selections>\\n      </SelectionAnswer>\\n    </AnswerSpecification>\\n  </Question>   \\n    \\n\\n  <Question>\\n    <QuestionIdentifier>question2</QuestionIdentifier>\\n    <IsRequired>true</IsRequired>\\n    <QuestionContent>\\n      <Text>2. What could be the predicate given the subject and object?</Text>\\n            <FormattedContent><![CDATA[\\n            Albert Einstein __________ German Empire\\n         ]]>\\n    </FormattedContent>\\n    </QuestionContent>\\n    <AnswerSpecification>\\n      <SelectionAnswer>\\n        <StyleSuggestion>radiobutton</StyleSuggestion>\\n        <Selections>\\n          <Selection>\\n            <SelectionIdentifier>1</SelectionIdentifier>\\n            <Text>interested in</Text>\\n          </Selection>\\n          <Selection>\\n            <SelectionIdentifier>2</SelectionIdentifier>\\n            <Text>born in</Text>\\n          </Selection>\\n          <Selection>\\n            <SelectionIdentifier>3</SelectionIdentifier>\\n            <Text>graduated from</Text>\\n          </Selection>\\n        </Selections>\\n      </SelectionAnswer>\\n    </AnswerSpecification>\\n  </Question>\\n\\n    \\n  <Question>\\n    <QuestionIdentifier>question3</QuestionIdentifier>\\n    <IsRequired>true</IsRequired>\\n    <QuestionContent>\\n      <Text>3. What could be the subject given the predicate and object?</Text>\\n            <FormattedContent><![CDATA[\\n             __________ winner of Nobel Prize in Physics\\n         ]]>\\n    </FormattedContent>\\n    </QuestionContent>\\n    <AnswerSpecification>\\n      <SelectionAnswer>\\n        <StyleSuggestion>radiobutton</StyleSuggestion>\\n        <Selections>\\n          <Selection>\\n            <SelectionIdentifier>1</SelectionIdentifier>\\n            <Text>Albert Einstein</Text>\\n          </Selection>\\n          <Selection>\\n            <SelectionIdentifier>2</SelectionIdentifier>\\n            <Text>Leonardo DiCaprio</Text>\\n          </Selection>\\n          <Selection>\\n            <SelectionIdentifier>3</SelectionIdentifier>\\n            <Text>Issac Newton</Text>\\n          </Selection>\\n        </Selections>\\n      </SelectionAnswer>\\n    </AnswerSpecification>\\n  </Question>\\n</QuestionForm>\\n',\n",
       "  'TestDurationInSeconds': 2400,\n",
       "  'AnswerKey': '<AnswerKey xmlns=\"http://mechanicalturk.amazonaws.com/AWSMechanicalTurkDataSchemas/2005-10-01/AnswerKey.xsd\">\\n    <Question>\\n        <QuestionIdentifier>question1</QuestionIdentifier>\\n        <AnswerOption>\\n            <SelectionIdentifier>2</SelectionIdentifier>\\n            <AnswerScore>1</AnswerScore>\\n        </AnswerOption>\\n    </Question>\\n    \\n    <Question>\\n        <QuestionIdentifier>question2</QuestionIdentifier>\\n        <AnswerOption>\\n            <SelectionIdentifier>2</SelectionIdentifier>\\n            <AnswerScore>1</AnswerScore>\\n        </AnswerOption>\\n    </Question>\\n    \\n    <Question>\\n        <QuestionIdentifier>question3</QuestionIdentifier>\\n        <AnswerOption>\\n            <SelectionIdentifier>1</SelectionIdentifier>\\n            <AnswerScore>1</AnswerScore>\\n        </AnswerOption>\\n    </Question>\\n\\n    <QualificationValueMapping>\\n        <PercentageMapping>\\n            <MaximumSummedScore>3</MaximumSummedScore>\\n        </PercentageMapping>\\n    </QualificationValueMapping>\\n</AnswerKey>',\n",
       "  'IsRequestable': True,\n",
       "  'AutoGranted': False},\n",
       " 'ResponseMetadata': {'RequestId': 'f91c0603-1e5d-4fee-9576-4766bbae50b5',\n",
       "  'HTTPStatusCode': 200,\n",
       "  'HTTPHeaders': {'x-amzn-requestid': 'f91c0603-1e5d-4fee-9576-4766bbae50b5',\n",
       "   'content-type': 'application/x-amz-json-1.1',\n",
       "   'content-length': '5130',\n",
       "   'date': 'Mon, 14 Nov 2022 08:02:49 GMT'},\n",
       "  'RetryAttempts': 0}}"
      ]
     },
     "execution_count": 41,
     "metadata": {},
     "output_type": "execute_result"
    }
   ],
   "source": [
    "client.update_qualification_type(\n",
    "                      QualificationTypeId='3DCMS2BWIWGQB243W43QQNA4WGZCTH',\n",
    "                      Description='This is a brief knowledge test for workers',\n",
    "                      QualificationTypeStatus='Active',\n",
    "                      Test=questions,\n",
    "                      AnswerKey=answers,\n",
    "                      TestDurationInSeconds=2400)"
   ]
  },
  {
   "cell_type": "markdown",
   "metadata": {},
   "source": [
    "### More Qualitfication Requirement"
   ]
  },
  {
   "cell_type": "markdown",
   "metadata": {},
   "source": [
    "Create a task according to the [documentation](https://boto3.amazonaws.com/v1/documentation/api/latest/reference/services/mturk.html#MTurk.Client.create_hit)"
   ]
  },
  {
   "cell_type": "code",
   "execution_count": 42,
   "metadata": {},
   "outputs": [],
   "source": [
    "TaskAttributes = { \n",
    "    'MaxAssignments': 5,           \n",
    "    # How long the task will be available on MTurk (1 hour)     \n",
    "    'LifetimeInSeconds': 60*60,\n",
    "    # How long Workers have to complete each item (10 minutes)\n",
    "    'AssignmentDurationInSeconds': 60*10,\n",
    "    # The reward you will offer Workers for each response\n",
    "    'Reward': '0.05',                     \n",
    "    'Title': 'Find a suitable relation for the given entities',\n",
    "    'Keywords': 'Knowledge graph, link, fact',\n",
    "    'Description': 'Identify suitable relation for the given entities',\n",
    "    ## More qualification\n",
    "    'QualificationRequirements': [\n",
    "                {\n",
    "            'QualificationTypeId': '3DCMS2BWIWGQB243W43QQNA4WGZCTH',\n",
    "            'Comparator': 'GreaterThan',\n",
    "            'IntegerValues': [\n",
    "                80,\n",
    "            ]\n",
    "        },\n",
    "    ]\n",
    "}"
   ]
  },
  {
   "cell_type": "markdown",
   "metadata": {},
   "source": [
    "### Create your task/ HIT"
   ]
  },
  {
   "cell_type": "markdown",
   "metadata": {},
   "source": [
    "Use `create_hit` to create a HIT/Task and pass the `TaskAttributes` and `Question` as parameters.\n",
    "All the parameters are defined in the [documentation](https://boto3.amazonaws.com/v1/documentation/api/latest/reference/services/mturk.html#MTurk.Client.create_hit)"
   ]
  },
  {
   "cell_type": "code",
   "execution_count": 43,
   "metadata": {},
   "outputs": [
    {
     "name": "stdout",
     "output_type": "stream",
     "text": [
      "You can view the HITs here:\n",
      "https://workersandbox.mturk.com/mturk/preview?groupId=31SXY3N7KD3XPS1HMH7J4X99BBC0BA\n"
     ]
    }
   ],
   "source": [
    "import re\n",
    "\n",
    "results = []\n",
    "hit_type_id = ''\n",
    "\n",
    "for idx, row in data.iterrows():\n",
    "    temp_data = list(row)\n",
    "    rep = {\"${subject}\":temp_data[0] , \"${Object}\": temp_data[1], \"${Option1}\": temp_data[2], \"${Option2}\": temp_data[3],\\\n",
    "           \"${Option3}\": temp_data[4], \"${Option4}\": temp_data[5], \"${Option5}\": temp_data[6] }\n",
    "    \n",
    "    rep = dict((re.escape(k), v) for k, v in rep.items()) \n",
    "    pattern = re.compile(\"|\".join(rep.keys()))\n",
    "    question = pattern.sub(lambda m: rep[re.escape(m.group(0))], question_xml)\n",
    "    \n",
    "    response = client.create_hit(\n",
    "        **TaskAttributes,\n",
    "        Question = question\n",
    "    )\n",
    "    hit_type_id = response['HIT']['HITTypeId']\n",
    "    results.append({\n",
    "        'triple': temp_data,\n",
    "        'hit_id': response['HIT']['HITId']\n",
    "    })\n",
    "    \n",
    "print(\"You can view the HITs here:\")\n",
    "print(mturk_environment['preview']+\"?groupId={}\".format(hit_type_id))\n",
    "    "
   ]
  },
  {
   "cell_type": "markdown",
   "metadata": {},
   "source": [
    "Go to the [worker sandbox](https://workersandbox.mturk.com/) and check if the HIT is created."
   ]
  },
  {
   "cell_type": "markdown",
   "metadata": {},
   "source": [
    "### HIT Progress"
   ]
  },
  {
   "cell_type": "markdown",
   "metadata": {},
   "source": [
    "Fetch the HIT using `get_hit` and check the status of the HIT. \n"
   ]
  },
  {
   "cell_type": "code",
   "execution_count": 44,
   "metadata": {},
   "outputs": [
    {
     "name": "stdout",
     "output_type": "stream",
     "text": [
      "Checking HIT 1 / 3\n",
      "0 / 5: 1\n",
      "Checking HIT 2 / 3\n",
      "0 / 5: 1\n",
      "Checking HIT 3 / 3\n",
      "0 / 5: 1\n"
     ]
    }
   ],
   "source": [
    "import argparse\n",
    "from collections import Counter\n",
    "\n",
    "for idx, item in enumerate(results):\n",
    "    counter = Counter()\n",
    "    hit_id = item['hit_id']\n",
    "    print('Checking HIT %d / %d' % (idx + 1, len(results)))\n",
    "    try:\n",
    "        hit = client.get_hit(HITId=hit_id)['HIT']\n",
    "    except:\n",
    "        print('Can\\'t find hit id: %s' % (hit_id))\n",
    "        continue\n",
    "    total = int(hit['MaxAssignments'])\n",
    "    completed = 0\n",
    "    paginator = client.get_paginator('list_assignments_for_hit')\n",
    "    for a_page in paginator.paginate(HITId=hit_id, PaginationConfig={'PageSize': 100}):\n",
    "        for a in a_page['Assignments']:\n",
    "            if a['AssignmentStatus'] in ['Submitted', 'Approved', 'Rejected']:\n",
    "                completed += 1\n",
    "    counter.update([(completed, total)])\n",
    "\n",
    "    for (completed, total), count in counter.most_common():\n",
    "        print('%d / %d: %d' % (completed, total, count))"
   ]
  },
  {
   "cell_type": "markdown",
   "metadata": {},
   "source": [
    "### Congratulations, you have published your first MTurk task!"
   ]
  },
  {
   "cell_type": "markdown",
   "metadata": {},
   "source": [
    "### Get the results\n"
   ]
  },
  {
   "cell_type": "markdown",
   "metadata": {},
   "source": [
    "\n",
    "\n",
    "For each item in the results array we perform the following steps:\n",
    "\n",
    "1. Get the current status of the HIT and store it in the results array.\n",
    "2. Get a list of the Assignments that have been completed for each item and store the count of Assignments completed into the results array.\n",
    "3. Loop through each Assignment and capture the details of the Assignment and the results to an array of answers.\n",
    "4. Approve each Assignment so that the $0.05 reward will be distributed to Workers.\n"
   ]
  },
  {
   "cell_type": "code",
   "execution_count": 45,
   "metadata": {},
   "outputs": [
    {
     "name": "stdout",
     "output_type": "stream",
     "text": [
      "option4.Option 4\n",
      "wikipedia url\n",
      "sentence form wikipedia\n",
      "[\n",
      "  {\n",
      "    \"triple\": [\n",
      "      \"Barack Obama\",\n",
      "      \"the state of hawai\",\n",
      "      \"was born in\",\n",
      "      \"won the \",\n",
      "      \"is or was married at\",\n",
      "      \"died in\",\n",
      "      \"was influenced by\"\n",
      "    ],\n",
      "    \"hit_id\": \"3JTPR5MTZSIDNBJTV8K8ZFW08VM5K1\",\n",
      "    \"status\": \"Assignable\",\n",
      "    \"assignments_submitted_count\": 0,\n",
      "    \"answers\": []\n",
      "  },\n",
      "  {\n",
      "    \"triple\": [\n",
      "      \"Leonardo da Vinci\",\n",
      "      \"The Mona Lisa\",\n",
      "      \"was born in\",\n",
      "      \"won the \",\n",
      "      \"is or was married at\",\n",
      "      \"painted\",\n",
      "      \"destroyed\"\n",
      "    ],\n",
      "    \"hit_id\": \"38VTL6WC4AJ87G8AZNLZ8NBB6AUY5O\",\n",
      "    \"status\": \"Assignable\",\n",
      "    \"assignments_submitted_count\": 1,\n",
      "    \"answers\": [\n",
      "      \"option4.Option 4\",\n",
      "      \"wikipedia url\",\n",
      "      \"sentence form wikipedia\"\n",
      "    ]\n",
      "  },\n",
      "  {\n",
      "    \"triple\": [\n",
      "      \"Leonard Nimoy\",\n",
      "      \"Star Trek\",\n",
      "      \"won the\",\n",
      "      \"is or was married to\",\n",
      "      \"painted\",\n",
      "      \"starred in\",\n",
      "      \"character in\"\n",
      "    ],\n",
      "    \"hit_id\": \"3KQC8JMJGCYJ76VHB4TI7QIO2IR3H5\",\n",
      "    \"status\": \"Assignable\",\n",
      "    \"assignments_submitted_count\": 0,\n",
      "    \"answers\": []\n",
      "  }\n",
      "]\n"
     ]
    }
   ],
   "source": [
    "for item in results:\n",
    "    \n",
    "    # Get the status of the HIT\n",
    "    hit = client.get_hit(HITId=item['hit_id'])\n",
    "    item['status'] = hit['HIT']['HITStatus']\n",
    "    # Get a list of the Assignments that have been submitted\n",
    "    assignmentsList = client.list_assignments_for_hit(\n",
    "        HITId=item['hit_id'],\n",
    "        AssignmentStatuses=['Submitted', 'Approved'],\n",
    "        MaxResults=10\n",
    "    )\n",
    "    assignments = assignmentsList['Assignments']\n",
    "    item['assignments_submitted_count'] = len(assignments)\n",
    "    answers = []\n",
    "    for assignment in assignments:\n",
    "    \n",
    "        # Retreive the attributes for each Assignment\n",
    "        worker_id = assignment['WorkerId']\n",
    "        assignment_id = assignment['AssignmentId']\n",
    "        \n",
    "        # Retrieve the value submitted by the Worker from the XML\n",
    "        answer_dict = xmltodict.parse(assignment['Answer'])\n",
    "        for answer in answer_dict['QuestionFormAnswers']['Answer']:\n",
    "            if answer['FreeText']=='true':\n",
    "                print(answer['QuestionIdentifier'])\n",
    "                answers.append(answer['QuestionIdentifier'])\n",
    "            if answer['QuestionIdentifier'].startswith(\"wiki\"):\n",
    "                print(answer['FreeText'])\n",
    "                answers.append(answer['FreeText'])\n",
    "                \n",
    "        #answer = answer_dict['QuestionFormAnswers']['Answer']['FreeText']\n",
    "        #answers.append(int(answer))\n",
    "        \n",
    "        # Approve the Assignment (if it hasn't been already)\n",
    "        if assignment['AssignmentStatus'] == 'Submitted':\n",
    "            client.approve_assignment(\n",
    "                AssignmentId=assignment_id,\n",
    "                OverrideRejection=False\n",
    "            )\n",
    "    \n",
    "    # Add the answers that have been retrieved for this item\n",
    "    item['answers'] = answers\n",
    "    #if len(answers) > 0:\n",
    "    #    item['avg_answer'] = sum(answers)/len(answers)\n",
    "print(json.dumps(results,indent=2))\n"
   ]
  },
  {
   "cell_type": "markdown",
   "metadata": {},
   "source": [
    "### Approve or Reject Assignments"
   ]
  },
  {
   "cell_type": "markdown",
   "metadata": {},
   "source": [
    "#### Approve\n",
    "\n",
    "Use the `approve_assignment()` method to approve an assignment. You can also provide a feedback message to the Worker."
   ]
  },
  {
   "cell_type": "code",
   "execution_count": 46,
   "metadata": {},
   "outputs": [
    {
     "name": "stdout",
     "output_type": "stream",
     "text": [
      "hit 38VTL6WC4AJ87G8AZNLZ8NBB6AUY5O has already been Approved\n",
      "This will approve 0 assignments and reject 0 assignments with sandbox=https://mturk-requester-sandbox.us-east-1.amazonaws.com\n",
      "Continue?\n",
      "(Y/N): Y\n",
      "Approving assignments\n"
     ]
    }
   ],
   "source": [
    "import re\n",
    "\n",
    "approve_ids = []\n",
    "reject_ids = []\n",
    "store_true = False\n",
    "\n",
    "for idx, item in enumerate(results):\n",
    "    hit_id = item['hit_id']\n",
    "    paginator = client.get_paginator('list_assignments_for_hit')\n",
    "    try:\n",
    "        for a_page in paginator.paginate(HITId=hit_id, PaginationConfig={'PageSize': 100}):\n",
    "            for a in a_page['Assignments']:\n",
    "                if a['AssignmentStatus'] == 'Submitted':\n",
    "                    try:\n",
    "                      # Try to parse the output from the assignment. If it isn't\n",
    "                      # valid JSON then we reject the assignment.\n",
    "                        json.loads(re.search(r'<FreeText>(?P<answer>.*?)</FreeText>', a['Answer'])['answer'])\n",
    "                        approve_ids.append(a['AssignmentId'])\n",
    "                    except ValueError as e:\n",
    "                        reject_ids.append(['AssignmentId'])\n",
    "                else:\n",
    "                    print(\"hit %s has already been %s\" % (str(hit_id), a['AssignmentStatus']))\n",
    "    except client.exceptions.RequestError:\n",
    "        continue\n",
    "\n",
    "print('This will approve %d assignments and reject %d assignments with '\n",
    "     'sandbox=%s' % (len(approve_ids), len(reject_ids), str(mturk_environment['endpoint'])))\n",
    "print('Continue?')\n",
    "\n",
    "if not store_true:\n",
    "    s = input('(Y/N): ')\n",
    "else:\n",
    "    s = 'Y'\n",
    "if s == 'Y' or s == 'y':\n",
    "    print('Approving assignments')\n",
    "    for idx, assignment_id in enumerate(approve_ids):\n",
    "        print('Approving assignment %d / %d' % (idx + 1, len(approve_ids)))\n",
    "        client.approve_assignment(AssignmentId=assignment_id)\n",
    "    for idx, assignment_id in enumerate(reject_ids):\n",
    "        print('Rejecting assignment %d / %d' % (idx + 1, len(reject_ids)))\n",
    "        client.reject_assignment(AssignmentId=assignment_id, RequesterFeedback='Invalid results')\n",
    "else:\n",
    "    print('Aborting')\n"
   ]
  },
  {
   "cell_type": "markdown",
   "metadata": {},
   "source": [
    "#### Rejecting Assignments\n",
    "\n",
    "Use the `reject_assignment()` method to reject an assignment. You can also provide a feedback message to the Worker."
   ]
  },
  {
   "cell_type": "code",
   "execution_count": 47,
   "metadata": {},
   "outputs": [
    {
     "name": "stdout",
     "output_type": "stream",
     "text": [
      "['3S4AW7T80CO9XIU4S5I1Y7YGNVXL4W']\n",
      "This will reject 1 assignments with sandbox=https://mturk-requester-sandbox.us-east-1.amazonaws.com\n",
      "Continue?\n",
      "(Y/N): Y\n",
      "Rejecting assignments\n",
      "0 3S4AW7T80CO9XIU4S5I1Y7YGNVXL4W\n",
      "Rejecting assignment 1 / 1\n",
      "Could not reject: 3S4AW7T80CO9XIU4S5I1Y7YGNVXL4W\n"
     ]
    }
   ],
   "source": [
    "assignment_ids = []\n",
    "\n",
    "for item in results:\n",
    "    assignmentsList = client.list_assignments_for_hit(\n",
    "        HITId=item['hit_id'],\n",
    "        AssignmentStatuses=['Submitted', 'Approved'],\n",
    "        MaxResults=10\n",
    "    )          \n",
    "\n",
    "    assignments = assignmentsList['Assignments']\n",
    "    item['assignments_submitted_count'] = len(assignments)\n",
    "    for assignment in assignments:\n",
    "        assignment_ids.append(assignment['AssignmentId'])\n",
    "        \n",
    "print(assignment_ids)\n",
    "print('This will reject %d assignments with '\n",
    "     'sandbox=%s' % (len(assignment_ids), str(mturk_environment['endpoint'])))\n",
    "print('Continue?')\n",
    "\n",
    "s = input('(Y/N): ')\n",
    "if s == 'Y' or s == 'y':\n",
    "    print('Rejecting assignments')\n",
    "    for idx, assignment_id in enumerate(assignment_ids): \n",
    "        try:\n",
    "            print(idx,assignment_id)\n",
    "            print('Rejecting assignment %d / %d' % (idx + 1, len(assignment_ids)))\n",
    "            client.reject_assignment(AssignmentId=assignment_id, RequesterFeedback='Invalid results')\n",
    "        except:\n",
    "            print(\"Could not reject: %s\" % (assignment_id))\n",
    "else:\n",
    "    print('Aborting')\n"
   ]
  },
  {
   "cell_type": "markdown",
   "metadata": {},
   "source": [
    "### Delete the HITs"
   ]
  },
  {
   "cell_type": "code",
   "execution_count": 48,
   "metadata": {},
   "outputs": [
    {
     "name": "stdout",
     "output_type": "stream",
     "text": [
      "This will delete 3 HITs with sandbox=https://mturk-requester-sandbox.us-east-1.amazonaws.com\n",
      "Continue?\n",
      "(Y/N): Y\n",
      "HITStatus: Assignable\n",
      "Not deleted\n",
      "HITStatus: Assignable\n",
      "Deleted\n",
      "HITStatus: Assignable\n",
      "Not deleted\n"
     ]
    }
   ],
   "source": [
    "from datetime import datetime\n",
    "\n",
    "delete_all = False\n",
    "hit_ids = []\n",
    "\n",
    "if delete_all:\n",
    "    for hit in client.get_all_hits():\n",
    "        hit_ids.append(hit.HITId)\n",
    "else:\n",
    "    for item in results:\n",
    "        hit_ids.append(item['hit_id'])\n",
    "\n",
    "print('This will delete %d HITs with sandbox=%s'\n",
    "         % (len(hit_ids), str(mturk_environment['endpoint'])))\n",
    "print('Continue?')\n",
    "s = input('(Y/N): ')\n",
    "if s == 'Y' or s == 'y':\n",
    "    for index, hit_id in enumerate(hit_ids):\n",
    "        try:\n",
    "            client.delete_hit(HITId=hit_id)\n",
    "            print('disabling: %d / %d' % (index+1, len(hit_ids)))\n",
    "        except:\n",
    "            #print('Failed to delete: %s' % (hit_id))\n",
    "            # Get HIT status\n",
    "            status = client.get_hit(HITId=hit_id)['HIT']['HITStatus']\n",
    "            print('HITStatus:', status)\n",
    "            if status == 'Assignable':\n",
    "                response = client.update_expiration_for_hit(HITId=hit_id,ExpireAt=datetime(2015, 1, 1))        \n",
    "            # Delete the HIT\n",
    "            try:\n",
    "                client.delete_hit(HITId=hit_id)\n",
    "            except:\n",
    "                print('Not deleted')\n",
    "            else:\n",
    "                print('Deleted')\n",
    "else:\n",
    "    print('Aborting')"
   ]
  },
  {
   "cell_type": "markdown",
   "metadata": {},
   "source": [
    "### Block and Unblock Workers\n"
   ]
  },
  {
   "cell_type": "markdown",
   "metadata": {},
   "source": [
    "Use `create_worker_block` to block a worker from working on your HITs. You can also use `list_worker_blocks` to get a list of blocked workers and `delete_worker_block` to unblock a worker.\n",
    "\n",
    "#### How to deal with malicious or bad workers?\n",
    "* Quality issues discussed in lecture\n",
    "\n",
    "#### Block Workers\n",
    "\n"
   ]
  },
  {
   "cell_type": "code",
   "execution_count": 7,
   "metadata": {},
   "outputs": [
    {
     "name": "stdout",
     "output_type": "stream",
     "text": [
      "This will block 1 workers with IDs with sandbox=https://mturk-requester-sandbox.us-east-1.amazonaws.com\n",
      "Continue?\n",
      "(Y/N):  y\n",
      "Failed to block: AXMNSDDF\n"
     ]
    }
   ],
   "source": [
    "worker_ids = ['AXMNSDDF']\n",
    "\n",
    "# with open(args.worker_ids_file, 'r') as f:\n",
    "#    worker_ids = [line.strip() for line in f]\n",
    "\n",
    "print('This will block %d workers with IDs with sandbox=%s'\n",
    "     % (len(worker_ids), str(mturk_environment['endpoint'])))\n",
    "print('Continue?')\n",
    "\n",
    "s = input('(Y/N): ')\n",
    "\n",
    "if s == 'Y' or s == 'y':\n",
    "    for worker_id in worker_ids:\n",
    "        try:\n",
    "            client.create_worker_block(WorkerId=worker_id, Reason='provided bad data')\n",
    "        except:\n",
    "            print('Failed to block: %s' % (worker_id))\n",
    "else:\n",
    "    print('Aborting')"
   ]
  },
  {
   "cell_type": "markdown",
   "metadata": {},
   "source": [
    "#### Unblock Workers"
   ]
  },
  {
   "cell_type": "code",
   "execution_count": 9,
   "metadata": {},
   "outputs": [
    {
     "name": "stdout",
     "output_type": "stream",
     "text": [
      "This will block 1 workers with IDs with sandbox=https://mturk-requester-sandbox.us-east-1.amazonaws.com\n",
      "Continue?\n",
      "(Y/N):  y\n",
      "Failed to unblock: AXMNSDDF\n"
     ]
    }
   ],
   "source": [
    "worker_ids = ['AXMNSDDF']\n",
    "\n",
    "# with open(args.worker_ids_file, 'r') as f:\n",
    "#    worker_ids = [line.strip() for line in f]\n",
    "\n",
    "print('This will block %d workers with IDs with sandbox=%s'\n",
    "     % (len(worker_ids), str(mturk_environment['endpoint'])))\n",
    "print('Continue?')\n",
    "\n",
    "s = input('(Y/N): ')\n",
    "\n",
    "if s == 'Y' or s == 'y':\n",
    "    for worker_id in worker_ids:\n",
    "        try:\n",
    "            client.delete_worker_block(WorkerId=worker_id, Reason='already provided data')\n",
    "        except:\n",
    "            print('Failed to unblock: %s' % (worker_id))\n",
    "else:\n",
    "    print('Aborting')"
   ]
  },
  {
   "cell_type": "markdown",
   "metadata": {},
   "source": [
    "#### Disassociate the qualification form worker"
   ]
  },
  {
   "cell_type": "code",
   "execution_count": 38,
   "metadata": {},
   "outputs": [],
   "source": [
    "response = client.disassociate_qualification_from_worker(\n",
    "    WorkerId='A22BXIPVQWKLM2',\n",
    "    QualificationTypeId='36GZRO2Y1D7WY5RMP45HEIT2W6AF0B',\n",
    "    Reason='Allow the worker to retake the qualification test'\n",
    ")"
   ]
  }
 ],
 "metadata": {
  "kernelspec": {
   "display_name": "Python 3 (ipykernel)",
   "language": "python",
   "name": "python3"
  },
  "language_info": {
   "codemirror_mode": {
    "name": "ipython",
    "version": 3
   },
   "file_extension": ".py",
   "mimetype": "text/x-python",
   "name": "python",
   "nbconvert_exporter": "python",
   "pygments_lexer": "ipython3",
   "version": "3.8.10"
  },
  "vscode": {
   "interpreter": {
    "hash": "ce2cff08cd15a34cfbbe13a586664ebd350757fd030a545d831779bd59aaad32"
   }
  }
 },
 "nbformat": 4,
 "nbformat_minor": 4
}
