{
 "cells": [
  {
   "cell_type": "markdown",
   "metadata": {
    "pycharm": {
     "name": "#%% md\n"
    }
   },
   "source": [
    "# Exercise\n",
    "\n",
    "Ruijie Wang, Pascal Severin Andermatt | 12.10.2022  \n",
    "Based on [Named Entity Recognition and Classification with Scikit-Learn](https://towardsdatascience.com/named-entity-recognition-and-classification-with-scikit-learn-f05372f07ba2), [ACNER](https://www.kaggle.com/abhinavwalia95/entity-annotated-corpus), [Hidden Markov Model for POS-tagging](https://medium.com/mlearning-ai/introduction-to-hidden-markov-model-hmm-with-simple-ner-d1353ff35842) and [sklearn-crfsuite](https://sklearn-crfsuite.readthedocs.io/en/latest/index.html)."
   ]
  },
  {
   "cell_type": "code",
   "execution_count": null,
   "metadata": {},
   "outputs": [],
   "source": [
    "import matplotlib.pyplot as plt\n",
    "import seaborn as sn\n",
    "import sklearn\n",
    "from itertools import chain\n",
    "import pandas as pd\n",
    "from sklearn.model_selection import train_test_split\n",
    "import sklearn_crfsuite\n",
    "from sklearn_crfsuite import metrics\n",
    "import numpy as np"
   ]
  },
  {
   "cell_type": "markdown",
   "metadata": {
    "pycharm": {
     "name": "#%% md\n"
    }
   },
   "source": [
    "## Conditional Random Fields (CRFs)"
   ]
  },
  {
   "cell_type": "markdown",
   "metadata": {
    "pycharm": {
     "name": "#%% md\n"
    }
   },
   "source": [
    "- Collate the original dataframe into a nested list."
   ]
  },
  {
   "cell_type": "code",
   "execution_count": null,
   "metadata": {
    "pycharm": {
     "name": "#%%\n"
    }
   },
   "outputs": [],
   "source": [
    "df = pd.read_csv('ner_dataset.csv', encoding = \"ISO-8859-1\")\n",
    "# Reduce the number of samples here for faster training\n",
    "df = df.fillna(method='ffill')\n",
    "\n",
    "def collate(dataframe):\n",
    "    agg_func = lambda s: [(w, p, t) for w, p, t in zip(s['Word'].values.tolist(),\n",
    "                                                        s['POS'].values.tolist(), \n",
    "                                                        s['Tag'].values.tolist())]\n",
    "    grouped = dataframe.groupby('Sentence #').apply(agg_func)\n",
    "    return [s for s in grouped]\n",
    "\n",
    "sentences = collate(df)"
   ]
  },
  {
   "cell_type": "markdown",
   "metadata": {
    "pycharm": {
     "name": "#%% md\n"
    }
   },
   "source": [
    "* Next, we extract more features (word parts, IBO prefixes, lower/title/upper flags, features of neighboring words) and convert them to the data structure required by sklearn-crfsuite — each sentence should be converted to a list of dicts."
   ]
  },
  {
   "cell_type": "code",
   "execution_count": null,
   "metadata": {
    "pycharm": {
     "name": "#%%\n"
    }
   },
   "outputs": [],
   "source": [
    "def word2features(sent, i):\n",
    "    word = sent[i][0]\n",
    "    postag = sent[i][1]\n",
    "    \n",
    "    features = {\n",
    "        'word.lower()': word.lower(),  # the word in lowercase\n",
    "        'word[-3:]': word[-3:],  # last three characters\n",
    "        'word[-2:]': word[-2:],  # last two characters\n",
    "        'word.isupper()': word.isupper(),  # true, if the word is in uppercase\n",
    "        'word.istitle()': word.istitle(),  # true, if the first character is in uppercase and remaining characters are in lowercase\n",
    "        'word.isdigit()': word.isdigit(),  # true, if all characters are digits\n",
    "        'postag': postag,  # POS tag\n",
    "        'postag[:2]': postag[:2],  # IOB prefix\n",
    "    }\n",
    "    if i > 0:\n",
    "        word1 = sent[i-1][0]  # the previous word\n",
    "        postag1 = sent[i-1][1]  # POS tag of the previous word\n",
    "        features.update({\n",
    "            '-1:word.lower()': word1.lower(),\n",
    "            '-1:word.istitle()': word1.istitle(),\n",
    "            '-1:word.isupper()': word1.isupper(),\n",
    "            '-1:postag': postag1,\n",
    "            '-1:postag[:2]': postag1[:2],\n",
    "        })  # add some features of the previous word\n",
    "    else:\n",
    "        features['BOS'] = True  # BOS: begining of the sentence\n",
    "        \n",
    "    if i < len(sent)-1:\n",
    "        word1 = sent[i+1][0]  # the next word\n",
    "        postag1 = sent[i+1][1]  # POS tag of the next word\n",
    "        features.update({\n",
    "            '+1:word.lower()': word1.lower(),\n",
    "            '+1:word.istitle()': word1.istitle(),\n",
    "            '+1:word.isupper()': word1.isupper(),\n",
    "            '+1:postag': postag1,\n",
    "            '+1:postag[:2]': postag1[:2],\n",
    "        })  # add some features of the next word\n",
    "    else:\n",
    "        features['EOS'] = True  # EOS: end of the sentence\n",
    "    return features\n",
    "\n",
    "def sent2features(sent):\n",
    "    return [word2features(sent, i) for i in range(len(sent))]\n",
    "\n",
    "def sent2labels(sent):\n",
    "    return [label for token, postag, label in sent]"
   ]
  },
  {
   "cell_type": "code",
   "execution_count": null,
   "metadata": {
    "pycharm": {
     "name": "#%%\n"
    }
   },
   "outputs": [],
   "source": [
    "# X and y in the required format\n",
    "X = [sent2features(s) for s in sentences]\n",
    "y = [sent2labels(s) for s in sentences]\n",
    "\n",
    "# unique tags for reporting classification results\n",
    "classes = np.unique(df.Tag.values)\n",
    "classes = classes.tolist()\n",
    "\n",
    "new_classes = classes.copy()\n",
    "new_classes.pop()\n",
    "\n",
    "# Split train and test sets\n",
    "X_train, X_test, y_train, y_test = train_test_split(X, y, test_size=0.33, random_state=0)"
   ]
  },
  {
   "cell_type": "markdown",
   "metadata": {
    "pycharm": {
     "name": "#%% md\n"
    }
   },
   "source": [
    "- Train a CRF model"
   ]
  },
  {
   "cell_type": "code",
   "execution_count": null,
   "metadata": {
    "pycharm": {
     "name": "#%%\n"
    }
   },
   "outputs": [],
   "source": [
    "# Task 1: Train a CRF model using sklearn_crfsuite and find the best parameters\n",
    "# Hint: go to https://sklearn-crfsuite.readthedocs.io/en/latest/api.html and https://sklearn-crfsuite.readthedocs.io/en/latest/tutorial.html\n",
    "\n",
    "# Task 2: Check the code below and run it to see the classification report/confusion matrix\n",
    "\n",
    "# Task 3: add some features to the word2features function and see if you can improve the results\n",
    "\n",
    "crf = sklearn_crfsuite.CRF(\n",
    "    ...\n",
    ")\n",
    "\n",
    "# This might take a while (about 3 minutes). If you want to speed up the training, you can reduce the number of training samples.\n",
    "crf.fit(X_train, y_train)"
   ]
  },
  {
   "cell_type": "code",
   "execution_count": null,
   "metadata": {},
   "outputs": [],
   "source": [
    "def confusion_matrix(y_true, y_pred, summarize_iob_tags=False):\n",
    "    f_y_test = list(chain.from_iterable(y_test))\n",
    "    f_y_pred = list(chain.from_iterable(y_pred))\n",
    "    if summarize_iob_tags:\n",
    "        # summarize IOB tags to only keep the first letter (eg. B-art -> B)\n",
    "        f_y_test = [t[0] for t in f_y_test]\n",
    "        f_y_pred = [t[0] for t in f_y_pred]\n",
    "\n",
    "    labels = np.unique(f_y_test)\n",
    "    print(sklearn.metrics.classification_report(f_y_test, f_y_pred))\n",
    "    print(f\"Accuracy: {sklearn.metrics.accuracy_score(f_y_test, f_y_pred)} for {labels}\")\n",
    "\n",
    "    cm = sklearn.metrics.confusion_matrix(f_y_test, f_y_pred, labels=labels)\n",
    "    cm = cm.astype('float') / cm.sum(axis=1)[:, np.newaxis]\n",
    "    df_cm = pd.DataFrame(cm, index = labels, columns = labels).fillna(0)\n",
    "    plt.figure(figsize = (10,7))\n",
    "    sn.heatmap(df_cm, annot=True)\n",
    "\n",
    "y_pred = crf.predict(X_test)\n",
    "\n",
    "confusion_matrix(y_test, y_pred, summarize_iob_tags=True)\n",
    "confusion_matrix(y_test, y_pred, summarize_iob_tags=False)"
   ]
  },
  {
   "cell_type": "markdown",
   "metadata": {
    "pycharm": {
     "name": "#%% md\n"
    }
   },
   "source": [
    "# [ELI5](https://eli5.readthedocs.io/en/latest/)\n",
    "* ELI5 is a Python package which can be used to check weights of `sklearn_crfsuite.CRF` models.\n",
    "* Inspect model weights"
   ]
  },
  {
   "cell_type": "code",
   "execution_count": null,
   "metadata": {
    "pycharm": {
     "name": "#%%\n"
    }
   },
   "outputs": [],
   "source": [
    "import eli5"
   ]
  },
  {
   "cell_type": "code",
   "execution_count": null,
   "metadata": {
    "pycharm": {
     "name": "#%%\n"
    }
   },
   "outputs": [],
   "source": [
    "eli5.show_weights(crf, top=10)  # top: number of features to show"
   ]
  },
  {
   "cell_type": "markdown",
   "metadata": {
    "pycharm": {
     "name": "#%% md\n"
    }
   },
   "source": [
    "* We can specify a subset of tags to check."
   ]
  },
  {
   "cell_type": "code",
   "execution_count": null,
   "metadata": {
    "pycharm": {
     "name": "#%%\n"
    }
   },
   "outputs": [],
   "source": [
    "eli5.show_weights(crf, top=10, targets=['O', 'B-org', 'I-per'])"
   ]
  },
  {
   "cell_type": "markdown",
   "metadata": {
    "pycharm": {
     "name": "#%% md\n"
    }
   },
   "source": [
    "- Or check only some of the features for all tags."
   ]
  },
  {
   "cell_type": "code",
   "execution_count": null,
   "metadata": {
    "pycharm": {
     "name": "#%%\n"
    }
   },
   "outputs": [],
   "source": [
    "eli5.show_weights(crf, top=10, feature_re='^word\\.is',\n",
    "                  horizontal_layout=False, show=['targets'])"
   ]
  }
 ],
 "metadata": {
  "kernelspec": {
   "display_name": "Python 3",
   "language": "python",
   "name": "python3"
  },
  "language_info": {
   "codemirror_mode": {
    "name": "ipython",
    "version": 3
   },
   "file_extension": ".py",
   "mimetype": "text/x-python",
   "name": "python",
   "nbconvert_exporter": "python",
   "pygments_lexer": "ipython3",
   "version": "3.8.5"
  },
  "vscode": {
   "interpreter": {
    "hash": "ce2cff08cd15a34cfbbe13a586664ebd350757fd030a545d831779bd59aaad32"
   }
  }
 },
 "nbformat": 4,
 "nbformat_minor": 4
}
