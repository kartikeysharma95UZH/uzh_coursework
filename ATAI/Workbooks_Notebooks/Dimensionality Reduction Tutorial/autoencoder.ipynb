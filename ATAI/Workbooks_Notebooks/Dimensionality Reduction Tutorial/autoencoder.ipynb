{
 "cells": [
  {
   "cell_type": "markdown",
   "metadata": {
    "pycharm": {
     "name": "#%% md\n"
    }
   },
   "source": [
    "# Autoencoder Example"
   ]
  },
  {
   "cell_type": "code",
   "execution_count": null,
   "metadata": {
    "pycharm": {
     "name": "#%%\n"
    }
   },
   "outputs": [],
   "source": [
    "import numpy as np\n",
    "import matplotlib.pyplot as plt\n",
    "import tensorflow as tf\n",
    "from tensorflow.keras.layers import Input, Dense\n",
    "from tensorflow.keras.models import Model\n",
    "from tensorflow.keras.optimizers import Adam"
   ]
  },
  {
   "cell_type": "code",
   "execution_count": null,
   "metadata": {
    "collapsed": true,
    "pycharm": {
     "name": "#%%\n"
    }
   },
   "outputs": [],
   "source": [
    "def preprocess(x_train, x_test):\n",
    "    # Normalize the data\n",
    "    # We devide by 255 because the pixel values are between 0 and 255\n",
    "    x_train = x_train.astype('float32') / 255.\n",
    "    x_test = x_test.astype('float32') / 255.\n",
    "\n",
    "    # Flatten the images\n",
    "    # We reshape the images from 2D (28x28) to 1D (784) for MNIST\n",
    "    x_train = x_train.reshape((len(x_train), np.prod(x_train.shape[1:])))\n",
    "    x_test = x_test.reshape((len(x_test), np.prod(x_test.shape[1:])))\n",
    "    print(x_train.shape, x_test.shape)\n",
    "    return x_train, x_test"
   ]
  },
  {
   "cell_type": "code",
   "execution_count": null,
   "metadata": {
    "pycharm": {
     "name": "#%%\n"
    }
   },
   "outputs": [],
   "source": [
    "class MyAutoencoder(Model):\n",
    "    def __init__(self, encoding_dim, shape):\n",
    "        super(MyAutoencoder, self).__init__()\n",
    "        self.input_layer = Input(shape=(shape,))\n",
    "        # Add a Dense layer with a relu activation and the size of the encoding_dim\n",
    "        # You can also add more layers to experiment with the model\n",
    "        self.encoder = Dense(...)\n",
    "\n",
    "        # Add a Dense layer with a sigmoid activation and the size of the shape\n",
    "        self.decoder = Dense(...)\n",
    "\n",
    "    def call(self, x):\n",
    "        encoded = self.encoder(x)\n",
    "        decoded = self.decoder(encoded)\n",
    "        return decoded"
   ]
  },
  {
   "cell_type": "code",
   "execution_count": null,
   "metadata": {
    "pycharm": {
     "name": "#%%\n"
    }
   },
   "outputs": [],
   "source": [
    "def plot_images(images, shape):\n",
    "    def plot_single_image(img, shape):\n",
    "        plt.imshow(img.reshape(shape), cmap='gray')\n",
    "        plt.axis('off')\n",
    "        \n",
    "    plt.figure(figsize=(20, 4))\n",
    "    for i in range(10):\n",
    "        ax = plt.subplot(2, 10, i + 1)\n",
    "        plot_single_image(images[i], shape)\n",
    "        \n",
    "    plt.show()"
   ]
  },
  {
   "cell_type": "code",
   "execution_count": null,
   "metadata": {
    "pycharm": {
     "name": "#%%\n"
    }
   },
   "outputs": [],
   "source": [
    "from tensorflow.keras.datasets import mnist, cifar10, fashion_mnist\n",
    "\n",
    "# Play with different datasets here (mnist, cifar10, fashion_mnist)\n",
    "# Hint: To load a dataset, use <dataset_name>.load_data()\n",
    "(original_train, _), (original_test, _) = ... # Load the dataset\n",
    "\n",
    "x_train, x_test = preprocess(original_train, original_test)\n",
    "\n",
    "# Play with different encoding dimensions here (16, 32, 64, 128, 256)\n",
    "encoding_dim = ... \n",
    "shape = x_train.shape[1]\n",
    "\n",
    "autoencoder = MyAutoencoder(encoding_dim, shape)\n",
    "autoencoder.compile(optimizer='adam', loss='binary_crossentropy')\n",
    "autoencoder.fit(x_train, x_train,\n",
    "                epochs=..., # Play with different epochs here (1, 5, 10, ...)\n",
    "                batch_size=256,\n",
    "                shuffle=True,\n",
    "                validation_data=(x_test, x_test))"
   ]
  },
  {
   "cell_type": "code",
   "execution_count": null,
   "metadata": {
    "pycharm": {
     "name": "#%%\n"
    }
   },
   "outputs": [],
   "source": [
    "# What are the best hyperparameters for the model? (encoding_dim, epochs, batch_size)\n",
    "# try different datasets (mnist, cifar10, fashion_mnist) and compare the results\n",
    "\n",
    "plot_images(x_test, original_test.shape[1:])\n",
    "encoded_imgs = autoencoder.encoder(x_test).numpy()\n",
    "plot_images(encoded_imgs, (encoding_dim//4, 4))\n",
    "\n",
    "decoded_imgs = autoencoder.decoder(encoded_imgs).numpy()\n",
    "plot_images(decoded_imgs, original_test.shape[1:])"
   ]
  }
 ],
 "metadata": {
  "kernelspec": {
   "display_name": "Python 3.8.12 ('conda-m1')",
   "language": "python",
   "name": "python3"
  },
  "language_info": {
   "codemirror_mode": {
    "name": "ipython",
    "version": 3
   },
   "file_extension": ".py",
   "mimetype": "text/x-python",
   "name": "python",
   "nbconvert_exporter": "python",
   "pygments_lexer": "ipython3",
   "version": "3.8.12"
  },
  "vscode": {
   "interpreter": {
    "hash": "ce2cff08cd15a34cfbbe13a586664ebd350757fd030a545d831779bd59aaad32"
   }
  }
 },
 "nbformat": 4,
 "nbformat_minor": 0
}
