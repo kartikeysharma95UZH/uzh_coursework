{
 "cells": [
  {
   "cell_type": "markdown",
   "metadata": {
    "pycharm": {
     "name": "#%% md\n"
    }
   },
   "source": [
    "# Embeddings for the DDIS Movie Graph"
   ]
  },
  {
   "cell_type": "markdown",
   "metadata": {
    "pycharm": {
     "name": "#%% md\n"
    }
   },
   "source": [
    "## Setup"
   ]
  },
  {
   "cell_type": "code",
   "execution_count": null,
   "metadata": {
    "pycharm": {
     "name": "#%%\n"
    }
   },
   "outputs": [],
   "source": [
    "# imports\n",
    "import csv\n",
    "import numpy as np\n",
    "import os\n",
    "import rdflib\n",
    "import pandas as pd\n",
    "from sklearn.metrics import pairwise_distances"
   ]
  },
  {
   "cell_type": "code",
   "execution_count": null,
   "metadata": {
    "pycharm": {
     "name": "#%%\n"
    }
   },
   "outputs": [],
   "source": [
    "# define some prefixes\n",
    "WD = rdflib.Namespace('http://www.wikidata.org/entity/')\n",
    "WDT = rdflib.Namespace('http://www.wikidata.org/prop/direct/')\n",
    "DDIS = rdflib.Namespace('http://ddis.ch/atai/')\n",
    "RDFS = rdflib.namespace.RDFS\n",
    "SCHEMA = rdflib.Namespace('http://schema.org/')"
   ]
  },
  {
   "cell_type": "markdown",
   "metadata": {
    "pycharm": {
     "name": "#%% md\n"
    }
   },
   "source": [
    "## Load the data"
   ]
  },
  {
   "cell_type": "code",
   "execution_count": null,
   "metadata": {
    "pycharm": {
     "name": "#%%\n"
    }
   },
   "outputs": [],
   "source": [
    "# load the graph\n",
    "graph = rdflib.Graph().parse(os.path.join('data', 'ddis-movie-graph.nt'), format='turtle')"
   ]
  },
  {
   "cell_type": "code",
   "execution_count": null,
   "metadata": {
    "pycharm": {
     "name": "#%%\n"
    }
   },
   "outputs": [],
   "source": [
    "# load the embeddings\n",
    "entity_emb = np.load(os.path.join('data', 'entity_embeds.npy'))\n",
    "relation_emb = np.load(os.path.join('data', 'relation_embeds.npy'))\n",
    "entity_file = os.path.join('data', 'entity_ids.del')\n",
    "relation_file = os.path.join('data', 'relation_ids.del')"
   ]
  },
  {
   "cell_type": "code",
   "execution_count": null,
   "metadata": {
    "pycharm": {
     "name": "#%%\n"
    }
   },
   "outputs": [],
   "source": [
    "# load the dictionaries\n",
    "with open(entity_file, 'r') as ifile:\n",
    "    ent2id = {rdflib.term.URIRef(ent): int(idx) for idx, ent in csv.reader(ifile, delimiter='\\t')}\n",
    "    id2ent = {v: k for k, v in ent2id.items()}\n",
    "with open(relation_file, 'r') as ifile:\n",
    "    rel2id = {rdflib.term.URIRef(rel): int(idx) for idx, rel in csv.reader(ifile, delimiter='\\t')}\n",
    "    id2rel = {v: k for k, v in rel2id.items()}"
   ]
  },
  {
   "cell_type": "code",
   "execution_count": null,
   "metadata": {
    "pycharm": {
     "name": "#%%\n"
    }
   },
   "outputs": [],
   "source": [
    "ent2lbl = {ent: str(lbl) for ent, lbl in graph.subject_objects(RDFS.label)}\n",
    "lbl2ent = {lbl: ent for ent, lbl in ent2lbl.items()}"
   ]
  },
  {
   "cell_type": "markdown",
   "metadata": {
    "pycharm": {
     "name": "#%% md\n"
    }
   },
   "source": [
    "## Find similar movies from embeddings"
   ]
  },
  {
   "cell_type": "code",
   "execution_count": null,
   "metadata": {
    "pycharm": {
     "name": "#%%\n"
    }
   },
   "outputs": [],
   "source": [
    "# Find the Wikidata ID for the movie (https://www.wikidata.org/wiki/Q132863 is the ID for \"Finding Nemo\")\n",
    "# Choose your own movie\n",
    "movie = WD['...']\n",
    "\n",
    "# Find the movie in the graph\n",
    "movie_id = ent2id[...]\n",
    "\n",
    "# we compare the embedding of the query entity to all other entity embeddings\n",
    "distances = pairwise_distances(entity_emb[movie_id].reshape(1, -1), entity_emb, metric='cosine').flatten()\n",
    "\n",
    "# and sort them by distance\n",
    "most_likely = ...\n",
    "\n",
    "# we print rank, entity ID, entity label, and distance\n",
    "for rank, idx in enumerate(most_likely[:20]):\n",
    "    rank = rank + 1\n",
    "    ent = ... # eg: http://www.wikidata.org/entity/Q132863 \n",
    "    q_id = ent.split('/')[-1] # to convert 'http://www.wikidata.org/entity/Q132863' to 'Q132863'\n",
    "    lbl = ... # eg: 'Finding Nemo'\n",
    "    dist = ... # eg: 0.0\n",
    "\n",
    "    print(f'{rank:2d}. {dist:.3f} {q_id:10s} {lbl}')"
   ]
  },
  {
   "cell_type": "code",
   "execution_count": null,
   "metadata": {
    "pycharm": {
     "name": "#%%\n"
    }
   },
   "outputs": [],
   "source": [
    "movie_emb = entity_emb[ent2id[movie]]\n",
    "\n",
    "# Find the predicate (relation) of the genre (https://www.wikidata.org/wiki/Property:P136 is the ID for \"genre\")\n",
    "genre = WDT['...']\n",
    "genre_emb = relation_emb[rel2id[genre]]\n",
    "\n",
    "# combine according to the TransE scoring function\n",
    "lhs = ... + ...\n",
    "\n",
    "# compute distance to *any* entity\n",
    "distances = pairwise_distances(lhs.reshape(1, -1), entity_emb).reshape(-1)\n",
    "\n",
    "# find most plausible tails\n",
    "most_likely = ...\n",
    "\n",
    "# show most likely entities\n",
    "for rank, idx in enumerate(most_likely[:20]):\n",
    "    rank = rank + 1\n",
    "    ent = ... # eg: https://www.wikidata.org/wiki/Q157443\n",
    "    q_id = ent.split('/')[-1]\n",
    "    lbl = ... # eg: 'comedy film'\n",
    "    dist = ... # eg: 3000.0\n",
    "\n",
    "    print(f'{rank:2d}. {dist:.3f} {q_id:10s} {lbl}')"
   ]
  }
 ],
 "metadata": {
  "kernelspec": {
   "display_name": "Python 3 (ipykernel)",
   "language": "python",
   "name": "python3"
  },
  "language_info": {
   "codemirror_mode": {
    "name": "ipython",
    "version": 3
   },
   "file_extension": ".py",
   "mimetype": "text/x-python",
   "name": "python",
   "nbconvert_exporter": "python",
   "pygments_lexer": "ipython3",
   "version": "3.7.13"
  },
  "vscode": {
   "interpreter": {
    "hash": "ce2cff08cd15a34cfbbe13a586664ebd350757fd030a545d831779bd59aaad32"
   }
  }
 },
 "nbformat": 4,
 "nbformat_minor": 2
}
