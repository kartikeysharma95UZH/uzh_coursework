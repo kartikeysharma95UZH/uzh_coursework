{
 "cells": [
  {
   "cell_type": "markdown",
   "metadata": {},
   "source": [
    "# Simple PCA example"
   ]
  },
  {
   "cell_type": "code",
   "execution_count": null,
   "metadata": {
    "pycharm": {
     "name": "#%%\n"
    }
   },
   "outputs": [],
   "source": [
    "import numpy as np\n",
    "import matplotlib.pyplot as plt\n",
    "from sklearn.decomposition import PCA\n",
    "\n",
    "# Generate some data\n",
    "np.random.seed(42)\n",
    "# Generate some data with 2 features eg. [[0.1, 0], [0, 1]]\n",
    "covariance = ...\n",
    "mean = [0, 0]\n",
    "X = np.random.multivariate_normal(mean, covariance, 1000)\n",
    "\n",
    "plt.scatter(X[:, 0], X[:, 1])\n",
    "plt.axis('equal')\n",
    "\n",
    "pca_colors = ['red', 'blue']\n",
    "\n",
    "nr_components = ...\n",
    "pca = PCA(n_components=nr_components)\n",
    "pca.fit(X)\n",
    "\n",
    "for i in range(nr_components):\n",
    "    plt.quiver(pca.mean_[0], pca.mean_[1], pca.components_[i, 0], pca.components_[i, 1], scale=3, color=pca_colors[i])\n",
    "plt.show()\n",
    "\n",
    "# Run the code with different datasets (X) and different number of components and see what happens\n",
    "# 1st. component red, 2nd. component blue"
   ]
  },
  {
   "cell_type": "markdown",
   "metadata": {},
   "source": [
    "# Use PCA to reduce the dimensionality of Iris data"
   ]
  },
  {
   "cell_type": "code",
   "execution_count": null,
   "metadata": {
    "pycharm": {
     "name": "#%%\n"
    }
   },
   "outputs": [],
   "source": [
    "from sklearn.datasets import load_iris\n",
    "from sklearn.decomposition import PCA\n",
    "import matplotlib.pyplot as plt\n",
    "\n",
    "iris = load_iris()\n",
    "X = iris.data\n",
    "y = iris.target\n",
    "\n",
    "plt.scatter(X[:, 0], X[:, 1], c=y)\n",
    "plt.show()\n",
    "\n",
    "# plot the elbow curve\n",
    "pca = PCA()\n",
    "pca.fit(X)\n",
    "\n",
    "x = np.arange(1, len(pca.explained_variance_ratio_)+1)\n",
    "plt.plot(x, pca.explained_variance_ratio_)\n",
    "plt.xticks(x)\n",
    "plt.xlabel('number of components')\n",
    "plt.ylabel('explained variance')\n",
    "plt.show()\n",
    "\n",
    "# plot first two principal components\n",
    "nr_components = ...\n",
    "pca = PCA(...)\n",
    "# fit the model (Hint: use fit_transform)\n",
    "X_pca = ...\n",
    "plt.scatter(X_pca[:, 0], X_pca[:, 1], c=y)\n",
    "plt.show()\n",
    "\n",
    "# Looking at the elbow plot, how many components would you choose?\n",
    "\n",
    "# plot the PCA in the original space\n",
    "plt.scatter(X[:, 0], X[:, 1], c=y)\n",
    "for i in range(nr_components):\n",
    "    plt.quiver(pca.mean_[0], pca.mean_[1], pca.components_[i, 0], pca.components_[i, 1], scale=3, color=pca_colors[i])\n",
    "plt.show()\n"
   ]
  }
 ],
 "metadata": {
  "kernelspec": {
   "display_name": "Python 3 (ipykernel)",
   "language": "python",
   "name": "python3"
  },
  "language_info": {
   "codemirror_mode": {
    "name": "ipython",
    "version": 3
   },
   "file_extension": ".py",
   "mimetype": "text/x-python",
   "name": "python",
   "nbconvert_exporter": "python",
   "pygments_lexer": "ipython3",
   "version": "3.7.13"
  },
  "vscode": {
   "interpreter": {
    "hash": "ce2cff08cd15a34cfbbe13a586664ebd350757fd030a545d831779bd59aaad32"
   }
  }
 },
 "nbformat": 4,
 "nbformat_minor": 2
}
